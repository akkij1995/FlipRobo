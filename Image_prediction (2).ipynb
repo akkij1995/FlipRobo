{
  "nbformat": 4,
  "nbformat_minor": 0,
  "metadata": {
    "colab": {
      "name": "Image_prediction.ipynb",
      "provenance": []
    },
    "kernelspec": {
      "name": "python3",
      "display_name": "Python 3"
    },
    "accelerator": "GPU"
  },
  "cells": [
    {
      "cell_type": "code",
      "metadata": {
        "id": "Mh0edLaKh9S9",
        "colab_type": "code",
        "colab": {
          "base_uri": "https://localhost:8080/",
          "height": 272
        },
        "outputId": "707bff0f-3392-4fe5-b033-07f78b28d499"
      },
      "source": [
        "!unrar x \"/content/drive/My Drive/Datasets/Flipkart/Flipkart_data.rar\""
      ],
      "execution_count": 1,
      "outputs": [
        {
          "output_type": "stream",
          "text": [
            "\n",
            "UNRAR 5.50 freeware      Copyright (c) 1993-2017 Alexander Roshal\n",
            "\n",
            "\n",
            "Extracting from /content/drive/My Drive/Datasets/Flipkart/Flipkart_data.rar\n",
            "\n",
            "\n",
            "Would you like to replace the existing file Flipkart_data/Single_prediction/img01.jpeg\n",
            " 13474 bytes, modified on 2020-07-02 10:33\n",
            "with a new one\n",
            " 13474 bytes, modified on 2020-07-02 10:33\n",
            "\n",
            "[Y]es, [N]o, [A]ll, n[E]ver, [R]ename, [Q]uit Q\n",
            "\n",
            "Program aborted\n"
          ],
          "name": "stdout"
        }
      ]
    },
    {
      "cell_type": "code",
      "metadata": {
        "id": "dwDCpRQPkGT6",
        "colab_type": "code",
        "colab": {}
      },
      "source": [
        "#pip install -q keras"
      ],
      "execution_count": null,
      "outputs": []
    },
    {
      "cell_type": "code",
      "metadata": {
        "id": "3z2DmYZlknCY",
        "colab_type": "code",
        "colab": {
          "base_uri": "https://localhost:8080/",
          "height": 34
        },
        "outputId": "497db257-6099-4a98-e7d9-a8a45fd49031"
      },
      "source": [
        "from keras.models import Sequential\n",
        "from keras.layers import Conv2D\n",
        "from keras.layers import MaxPool2D\n",
        "from keras.layers import Flatten\n",
        "from keras.layers import Dense\n",
        "from keras.layers import Dropout"
      ],
      "execution_count": 2,
      "outputs": [
        {
          "output_type": "stream",
          "text": [
            "Using TensorFlow backend.\n"
          ],
          "name": "stderr"
        }
      ]
    },
    {
      "cell_type": "code",
      "metadata": {
        "id": "7Au0u555lPKI",
        "colab_type": "code",
        "colab": {}
      },
      "source": [
        "cnn_object=Sequential()"
      ],
      "execution_count": 3,
      "outputs": []
    },
    {
      "cell_type": "code",
      "metadata": {
        "id": "okVCBnjQlYS3",
        "colab_type": "code",
        "colab": {
          "base_uri": "https://localhost:8080/",
          "height": 71
        },
        "outputId": "ae76da9e-7b3c-4bf4-832e-f90bd4dc386e"
      },
      "source": [
        "cnn_object.add(Conv2D(64,3,3,input_shape=(64,64,3),activation='relu'))"
      ],
      "execution_count": 4,
      "outputs": [
        {
          "output_type": "stream",
          "text": [
            "/usr/local/lib/python3.6/dist-packages/ipykernel_launcher.py:1: UserWarning: Update your `Conv2D` call to the Keras 2 API: `Conv2D(64, (3, 3), input_shape=(64, 64, 3..., activation=\"relu\")`\n",
            "  \"\"\"Entry point for launching an IPython kernel.\n"
          ],
          "name": "stderr"
        }
      ]
    },
    {
      "cell_type": "code",
      "metadata": {
        "id": "EbKH1B4dmdcX",
        "colab_type": "code",
        "colab": {}
      },
      "source": [
        "cnn_object.add(MaxPool2D(pool_size=(2,2)))"
      ],
      "execution_count": 5,
      "outputs": []
    },
    {
      "cell_type": "code",
      "metadata": {
        "id": "wZ8ilMDRnVMR",
        "colab_type": "code",
        "colab": {
          "base_uri": "https://localhost:8080/",
          "height": 71
        },
        "outputId": "7add7a6d-e418-47ad-d1a3-4f7492ec4089"
      },
      "source": [
        "cnn_object.add(Conv2D(32,3,3,activation='relu'))\n",
        "cnn_object.add(MaxPool2D(pool_size=(2,2)))"
      ],
      "execution_count": 6,
      "outputs": [
        {
          "output_type": "stream",
          "text": [
            "/usr/local/lib/python3.6/dist-packages/ipykernel_launcher.py:1: UserWarning: Update your `Conv2D` call to the Keras 2 API: `Conv2D(32, (3, 3), activation=\"relu\")`\n",
            "  \"\"\"Entry point for launching an IPython kernel.\n"
          ],
          "name": "stderr"
        }
      ]
    },
    {
      "cell_type": "code",
      "metadata": {
        "id": "e4Rd3iTznbe0",
        "colab_type": "code",
        "colab": {}
      },
      "source": [
        "cnn_object.add(Flatten())"
      ],
      "execution_count": 7,
      "outputs": []
    },
    {
      "cell_type": "code",
      "metadata": {
        "id": "GFA0hZaloBbn",
        "colab_type": "code",
        "colab": {}
      },
      "source": [
        "cnn_object.add(Dense(units=10,activation='relu'))\n",
        "cnn_object.add(Dense(units=1,activation='sigmoid'))"
      ],
      "execution_count": 8,
      "outputs": []
    },
    {
      "cell_type": "code",
      "metadata": {
        "id": "Kgd-TZ2Xo2Mt",
        "colab_type": "code",
        "colab": {}
      },
      "source": [
        "cnn_object.compile(optimizer='adam',loss='binary_crossentropy',metrics=['accuracy'])\n",
        "from keras.callbacks import EarlyStopping,ModelCheckpoint\n",
        "callbacks=[EarlyStopping(patience=3),ModelCheckpoint(filepath='model1.h5',save_best_only=True)]\n"
      ],
      "execution_count": 9,
      "outputs": []
    },
    {
      "cell_type": "code",
      "metadata": {
        "id": "l1mN090rpJFl",
        "colab_type": "code",
        "colab": {
          "base_uri": "https://localhost:8080/",
          "height": 272
        },
        "outputId": "f4bc7bbe-5b47-4aef-a7af-8b1d8b289483"
      },
      "source": [
        "from keras.preprocessing.image import ImageDataGenerator\n",
        "train_datagen = ImageDataGenerator(\n",
        "        rescale=1./255,\n",
        "        shear_range=0.2,\n",
        "        zoom_range=0.2,\n",
        "        horizontal_flip=True)\n",
        "test_datagen = ImageDataGenerator(rescale=1./255)\n",
        "train_set = train_datagen.flow_from_directory(\n",
        "        '/content/Flipkart_data/Training_set',\n",
        "        target_size=(64, 64),\n",
        "        batch_size=32,\n",
        "        class_mode='binary')\n",
        "test_set = test_datagen.flow_from_directory(\n",
        "        '/content/Flipkart_data/Testing_set',\n",
        "        target_size=(64, 64),\n",
        "        batch_size=32,\n",
        "        class_mode='binary')\n",
        "cnn_object.fit(\n",
        "        train_set,\n",
        "        steps_per_epoch=500,\n",
        "        epochs=10,\n",
        "        validation_data=test_set,\n",
        "        validation_steps=1000,callbacks=callbacks)"
      ],
      "execution_count": 10,
      "outputs": [
        {
          "output_type": "stream",
          "text": [
            "Found 160 images belonging to 2 classes.\n",
            "Found 40 images belonging to 2 classes.\n",
            "Epoch 1/10\n",
            "500/500 [==============================] - 113s 226ms/step - loss: 0.2798 - accuracy: 0.8806 - val_loss: 0.0572 - val_accuracy: 0.9000\n",
            "Epoch 2/10\n",
            "500/500 [==============================] - 107s 215ms/step - loss: 0.0516 - accuracy: 0.9840 - val_loss: 1.1667 - val_accuracy: 0.9250\n",
            "Epoch 3/10\n",
            "500/500 [==============================] - 108s 217ms/step - loss: 0.0131 - accuracy: 0.9967 - val_loss: 4.9406e-04 - val_accuracy: 0.9000\n",
            "Epoch 4/10\n",
            "500/500 [==============================] - 107s 213ms/step - loss: 0.0064 - accuracy: 0.9985 - val_loss: 1.8336 - val_accuracy: 0.9500\n",
            "Epoch 5/10\n",
            "500/500 [==============================] - 107s 213ms/step - loss: 0.0177 - accuracy: 0.9937 - val_loss: 0.0093 - val_accuracy: 0.9250\n",
            "Epoch 6/10\n",
            "500/500 [==============================] - 108s 215ms/step - loss: 0.0011 - accuracy: 0.9998 - val_loss: 0.0760 - val_accuracy: 0.9500\n"
          ],
          "name": "stdout"
        },
        {
          "output_type": "execute_result",
          "data": {
            "text/plain": [
              "<keras.callbacks.callbacks.History at 0x7fe1b0115f28>"
            ]
          },
          "metadata": {
            "tags": []
          },
          "execution_count": 10
        }
      ]
    },
    {
      "cell_type": "code",
      "metadata": {
        "id": "m_N8JB2GXqV8",
        "colab_type": "code",
        "colab": {}
      },
      "source": [
        "from keras.models import load_model\n",
        "model=load_model('model1.h5')"
      ],
      "execution_count": 11,
      "outputs": []
    },
    {
      "cell_type": "code",
      "metadata": {
        "id": "IEE_oTwhBK0k",
        "colab_type": "code",
        "colab": {
          "base_uri": "https://localhost:8080/",
          "height": 34
        },
        "outputId": "d9605c13-d864-4768-8e7d-39f1cdad881c"
      },
      "source": [
        "train_set.class_indices"
      ],
      "execution_count": 12,
      "outputs": [
        {
          "output_type": "execute_result",
          "data": {
            "text/plain": [
              "{'Men_Jeans': 0, 'Men_Trouser': 1}"
            ]
          },
          "metadata": {
            "tags": []
          },
          "execution_count": 12
        }
      ]
    },
    {
      "cell_type": "code",
      "metadata": {
        "id": "h-YiNE1PsxsB",
        "colab_type": "code",
        "colab": {
          "base_uri": "https://localhost:8080/",
          "height": 34
        },
        "outputId": "978565b0-4c17-4f19-9921-c4d248d5bf41"
      },
      "source": [
        "import numpy as np\n",
        "from keras_preprocessing import image\n",
        "test=image.load_img('/content/Flipkart_data/Single_prediction/img02.jpeg',target_size=(64,64))\n",
        "test=image.img_to_array(test)\n",
        "test=np.expand_dims(test,axis=0)\n",
        "result=model.predict(test)\n",
        "\n",
        "if result[0][0]==1:\n",
        "  print('Trouser')\n",
        "else:\n",
        "  print('Jeans')"
      ],
      "execution_count": 13,
      "outputs": [
        {
          "output_type": "stream",
          "text": [
            "Trouser\n"
          ],
          "name": "stdout"
        }
      ]
    },
    {
      "cell_type": "code",
      "metadata": {
        "id": "evJZKy61BTE5",
        "colab_type": "code",
        "colab": {
          "base_uri": "https://localhost:8080/",
          "height": 34
        },
        "outputId": "26d56773-41cd-46cb-be55-bf06bfbab1f4"
      },
      "source": [
        "import numpy as np\n",
        "from keras_preprocessing import image\n",
        "test=image.load_img('/content/Flipkart_data/Single_prediction/img04.jpeg',target_size=(64,64))\n",
        "test=image.img_to_array(test)\n",
        "test=np.expand_dims(test,axis=0)\n",
        "result=model.predict(test)\n",
        "\n",
        "if result[0][0]==1:\n",
        "  print('Trouser')\n",
        "else:\n",
        "  print('Jeans')"
      ],
      "execution_count": 16,
      "outputs": [
        {
          "output_type": "stream",
          "text": [
            "Jeans\n"
          ],
          "name": "stdout"
        }
      ]
    },
    {
      "cell_type": "code",
      "metadata": {
        "id": "rAqEp5KVP91D",
        "colab_type": "code",
        "colab": {}
      },
      "source": [
        ""
      ],
      "execution_count": null,
      "outputs": []
    }
  ]
}