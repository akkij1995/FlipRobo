{
  "nbformat": 4,
  "nbformat_minor": 0,
  "metadata": {
    "colab": {
      "name": "fake_news_classifier.ipynb",
      "provenance": [],
      "collapsed_sections": []
    },
    "kernelspec": {
      "name": "python3",
      "display_name": "Python 3"
    }
  },
  "cells": [
    {
      "cell_type": "code",
      "metadata": {
        "id": "qCg_TGHnafcS"
      },
      "source": [
        "import pandas as pd"
      ],
      "execution_count": 39,
      "outputs": []
    },
    {
      "cell_type": "code",
      "metadata": {
        "id": "YjC0bGKxc__i"
      },
      "source": [
        "df=pd.read_csv('/content/drive/MyDrive/Datasets/fake_news/train_news.csv',index_col=False) # Reading the data from drive"
      ],
      "execution_count": 40,
      "outputs": []
    },
    {
      "cell_type": "code",
      "metadata": {
        "id": "TyRnaA-7dYEZ"
      },
      "source": [
        "df.drop(df.columns[0],axis=1,inplace=True) # Dropping extra column of axis"
      ],
      "execution_count": 41,
      "outputs": []
    },
    {
      "cell_type": "code",
      "metadata": {
        "colab": {
          "base_uri": "https://localhost:8080/",
          "height": 419
        },
        "id": "23-pPXSsdcrp",
        "outputId": "9e841860-6d77-4fdf-a23f-8e53540d4a0c"
      },
      "source": [
        "df"
      ],
      "execution_count": 42,
      "outputs": [
        {
          "output_type": "execute_result",
          "data": {
            "text/html": [
              "<div>\n",
              "<style scoped>\n",
              "    .dataframe tbody tr th:only-of-type {\n",
              "        vertical-align: middle;\n",
              "    }\n",
              "\n",
              "    .dataframe tbody tr th {\n",
              "        vertical-align: top;\n",
              "    }\n",
              "\n",
              "    .dataframe thead th {\n",
              "        text-align: right;\n",
              "    }\n",
              "</style>\n",
              "<table border=\"1\" class=\"dataframe\">\n",
              "  <thead>\n",
              "    <tr style=\"text-align: right;\">\n",
              "      <th></th>\n",
              "      <th>id</th>\n",
              "      <th>headline</th>\n",
              "      <th>written_by</th>\n",
              "      <th>news</th>\n",
              "      <th>label</th>\n",
              "    </tr>\n",
              "  </thead>\n",
              "  <tbody>\n",
              "    <tr>\n",
              "      <th>0</th>\n",
              "      <td>9653</td>\n",
              "      <td>Ethics Questions Dogged Agriculture Nominee as...</td>\n",
              "      <td>Eric Lipton and Steve Eder</td>\n",
              "      <td>WASHINGTON  —   In Sonny Perdue’s telling, Geo...</td>\n",
              "      <td>0</td>\n",
              "    </tr>\n",
              "    <tr>\n",
              "      <th>1</th>\n",
              "      <td>10041</td>\n",
              "      <td>U.S. Must Dig Deep to Stop Argentina’s Lionel ...</td>\n",
              "      <td>David Waldstein</td>\n",
              "      <td>HOUSTON  —   Venezuela had a plan. It was a ta...</td>\n",
              "      <td>0</td>\n",
              "    </tr>\n",
              "    <tr>\n",
              "      <th>2</th>\n",
              "      <td>19113</td>\n",
              "      <td>Cotton to House: ’Do Not Walk the Plank and Vo...</td>\n",
              "      <td>Pam Key</td>\n",
              "      <td>Sunday on ABC’s “This Week,” while discussing ...</td>\n",
              "      <td>0</td>\n",
              "    </tr>\n",
              "    <tr>\n",
              "      <th>3</th>\n",
              "      <td>6868</td>\n",
              "      <td>Paul LePage, Besieged Maine Governor, Sends Co...</td>\n",
              "      <td>Jess Bidgood</td>\n",
              "      <td>AUGUSTA, Me.  —   The beleaguered Republican g...</td>\n",
              "      <td>0</td>\n",
              "    </tr>\n",
              "    <tr>\n",
              "      <th>4</th>\n",
              "      <td>7596</td>\n",
              "      <td>A Digital 9/11 If Trump Wins</td>\n",
              "      <td>Finian Cunningham</td>\n",
              "      <td>Finian Cunningham has written extensively on...</td>\n",
              "      <td>1</td>\n",
              "    </tr>\n",
              "    <tr>\n",
              "      <th>...</th>\n",
              "      <td>...</td>\n",
              "      <td>...</td>\n",
              "      <td>...</td>\n",
              "      <td>...</td>\n",
              "      <td>...</td>\n",
              "    </tr>\n",
              "    <tr>\n",
              "      <th>20795</th>\n",
              "      <td>5671</td>\n",
              "      <td>NaN</td>\n",
              "      <td>NeverSurrender</td>\n",
              "      <td>No, you'll be a dog licking of the vomit of yo...</td>\n",
              "      <td>1</td>\n",
              "    </tr>\n",
              "    <tr>\n",
              "      <th>20796</th>\n",
              "      <td>14831</td>\n",
              "      <td>Albert Pike and the European Migrant Crisis</td>\n",
              "      <td>Rixon Stewart</td>\n",
              "      <td>By Rixon Stewart on November 5, 2016 Rixon Ste...</td>\n",
              "      <td>1</td>\n",
              "    </tr>\n",
              "    <tr>\n",
              "      <th>20797</th>\n",
              "      <td>18142</td>\n",
              "      <td>Dakota Access Caught Infiltrating Protests to ...</td>\n",
              "      <td>Eddy Lavine</td>\n",
              "      <td>posted by Eddie You know the Dakota Access Pip...</td>\n",
              "      <td>1</td>\n",
              "    </tr>\n",
              "    <tr>\n",
              "      <th>20798</th>\n",
              "      <td>12139</td>\n",
              "      <td>How to Stretch the Summer Solstice - The New Y...</td>\n",
              "      <td>Alison S. Cohn</td>\n",
              "      <td>It’s officially summer, and the Society Boutiq...</td>\n",
              "      <td>0</td>\n",
              "    </tr>\n",
              "    <tr>\n",
              "      <th>20799</th>\n",
              "      <td>15660</td>\n",
              "      <td>Emory University to Pay for ’100 Percent’ of U...</td>\n",
              "      <td>Tom Ciccotta</td>\n",
              "      <td>Emory University in Atlanta, Georgia, has anno...</td>\n",
              "      <td>0</td>\n",
              "    </tr>\n",
              "  </tbody>\n",
              "</table>\n",
              "<p>20800 rows × 5 columns</p>\n",
              "</div>"
            ],
            "text/plain": [
              "          id  ... label\n",
              "0       9653  ...     0\n",
              "1      10041  ...     0\n",
              "2      19113  ...     0\n",
              "3       6868  ...     0\n",
              "4       7596  ...     1\n",
              "...      ...  ...   ...\n",
              "20795   5671  ...     1\n",
              "20796  14831  ...     1\n",
              "20797  18142  ...     1\n",
              "20798  12139  ...     0\n",
              "20799  15660  ...     0\n",
              "\n",
              "[20800 rows x 5 columns]"
            ]
          },
          "metadata": {
            "tags": []
          },
          "execution_count": 42
        }
      ]
    },
    {
      "cell_type": "code",
      "metadata": {
        "id": "XMcEiWlCfI7h"
      },
      "source": [
        "X=df.drop('label',axis=1) # Droping output feature"
      ],
      "execution_count": 43,
      "outputs": []
    },
    {
      "cell_type": "code",
      "metadata": {
        "colab": {
          "base_uri": "https://localhost:8080/",
          "height": 204
        },
        "id": "ltLpYtmAfgyq",
        "outputId": "88cb1614-7bf2-4c12-b415-341acf624caa"
      },
      "source": [
        "X.head()"
      ],
      "execution_count": 44,
      "outputs": [
        {
          "output_type": "execute_result",
          "data": {
            "text/html": [
              "<div>\n",
              "<style scoped>\n",
              "    .dataframe tbody tr th:only-of-type {\n",
              "        vertical-align: middle;\n",
              "    }\n",
              "\n",
              "    .dataframe tbody tr th {\n",
              "        vertical-align: top;\n",
              "    }\n",
              "\n",
              "    .dataframe thead th {\n",
              "        text-align: right;\n",
              "    }\n",
              "</style>\n",
              "<table border=\"1\" class=\"dataframe\">\n",
              "  <thead>\n",
              "    <tr style=\"text-align: right;\">\n",
              "      <th></th>\n",
              "      <th>id</th>\n",
              "      <th>headline</th>\n",
              "      <th>written_by</th>\n",
              "      <th>news</th>\n",
              "    </tr>\n",
              "  </thead>\n",
              "  <tbody>\n",
              "    <tr>\n",
              "      <th>0</th>\n",
              "      <td>9653</td>\n",
              "      <td>Ethics Questions Dogged Agriculture Nominee as...</td>\n",
              "      <td>Eric Lipton and Steve Eder</td>\n",
              "      <td>WASHINGTON  —   In Sonny Perdue’s telling, Geo...</td>\n",
              "    </tr>\n",
              "    <tr>\n",
              "      <th>1</th>\n",
              "      <td>10041</td>\n",
              "      <td>U.S. Must Dig Deep to Stop Argentina’s Lionel ...</td>\n",
              "      <td>David Waldstein</td>\n",
              "      <td>HOUSTON  —   Venezuela had a plan. It was a ta...</td>\n",
              "    </tr>\n",
              "    <tr>\n",
              "      <th>2</th>\n",
              "      <td>19113</td>\n",
              "      <td>Cotton to House: ’Do Not Walk the Plank and Vo...</td>\n",
              "      <td>Pam Key</td>\n",
              "      <td>Sunday on ABC’s “This Week,” while discussing ...</td>\n",
              "    </tr>\n",
              "    <tr>\n",
              "      <th>3</th>\n",
              "      <td>6868</td>\n",
              "      <td>Paul LePage, Besieged Maine Governor, Sends Co...</td>\n",
              "      <td>Jess Bidgood</td>\n",
              "      <td>AUGUSTA, Me.  —   The beleaguered Republican g...</td>\n",
              "    </tr>\n",
              "    <tr>\n",
              "      <th>4</th>\n",
              "      <td>7596</td>\n",
              "      <td>A Digital 9/11 If Trump Wins</td>\n",
              "      <td>Finian Cunningham</td>\n",
              "      <td>Finian Cunningham has written extensively on...</td>\n",
              "    </tr>\n",
              "  </tbody>\n",
              "</table>\n",
              "</div>"
            ],
            "text/plain": [
              "      id  ...                                               news\n",
              "0   9653  ...  WASHINGTON  —   In Sonny Perdue’s telling, Geo...\n",
              "1  10041  ...  HOUSTON  —   Venezuela had a plan. It was a ta...\n",
              "2  19113  ...  Sunday on ABC’s “This Week,” while discussing ...\n",
              "3   6868  ...  AUGUSTA, Me.  —   The beleaguered Republican g...\n",
              "4   7596  ...    Finian Cunningham has written extensively on...\n",
              "\n",
              "[5 rows x 4 columns]"
            ]
          },
          "metadata": {
            "tags": []
          },
          "execution_count": 44
        }
      ]
    },
    {
      "cell_type": "code",
      "metadata": {
        "id": "XJhPY5q_fjw0"
      },
      "source": [
        "y=df['label'] # Assigning output to y"
      ],
      "execution_count": 45,
      "outputs": []
    },
    {
      "cell_type": "code",
      "metadata": {
        "colab": {
          "base_uri": "https://localhost:8080/"
        },
        "id": "KWPLfYX6fnsN",
        "outputId": "7bc9c15e-74be-4895-b88e-662ce3e7bcae"
      },
      "source": [
        "y.head()"
      ],
      "execution_count": 46,
      "outputs": [
        {
          "output_type": "execute_result",
          "data": {
            "text/plain": [
              "0    0\n",
              "1    0\n",
              "2    0\n",
              "3    0\n",
              "4    1\n",
              "Name: label, dtype: int64"
            ]
          },
          "metadata": {
            "tags": []
          },
          "execution_count": 46
        }
      ]
    },
    {
      "cell_type": "code",
      "metadata": {
        "colab": {
          "base_uri": "https://localhost:8080/"
        },
        "id": "BEgU1vZNfpot",
        "outputId": "b97c7aca-1922-42ce-e69e-21074e63d88f"
      },
      "source": [
        "df.shape"
      ],
      "execution_count": 47,
      "outputs": [
        {
          "output_type": "execute_result",
          "data": {
            "text/plain": [
              "(20800, 5)"
            ]
          },
          "metadata": {
            "tags": []
          },
          "execution_count": 47
        }
      ]
    },
    {
      "cell_type": "code",
      "metadata": {
        "id": "XvWD8jLLfsqo"
      },
      "source": [
        "from sklearn.feature_extraction.text import CountVectorizer, TfidfVectorizer, HashingVectorizer"
      ],
      "execution_count": 48,
      "outputs": []
    },
    {
      "cell_type": "code",
      "metadata": {
        "id": "VkPMBKzLfyZ-"
      },
      "source": [
        "df=df.dropna() # Droping null values present"
      ],
      "execution_count": 49,
      "outputs": []
    },
    {
      "cell_type": "code",
      "metadata": {
        "colab": {
          "base_uri": "https://localhost:8080/"
        },
        "id": "pqX3nyNGf1dW",
        "outputId": "321b8968-8ba8-4c44-ec17-008e17f711c6"
      },
      "source": [
        "df.shape"
      ],
      "execution_count": 50,
      "outputs": [
        {
          "output_type": "execute_result",
          "data": {
            "text/plain": [
              "(18285, 5)"
            ]
          },
          "metadata": {
            "tags": []
          },
          "execution_count": 50
        }
      ]
    },
    {
      "cell_type": "code",
      "metadata": {
        "id": "FVE1-93Of2lu"
      },
      "source": [
        "news=df.copy()"
      ],
      "execution_count": 51,
      "outputs": []
    },
    {
      "cell_type": "code",
      "metadata": {
        "id": "kxA6qn-qf_2O"
      },
      "source": [
        "news.reset_index(inplace=True)"
      ],
      "execution_count": 52,
      "outputs": []
    },
    {
      "cell_type": "code",
      "metadata": {
        "colab": {
          "base_uri": "https://localhost:8080/",
          "height": 359
        },
        "id": "wkxnBSZSgGqy",
        "outputId": "7f8c01e3-902b-468c-9920-79008b0c8b35"
      },
      "source": [
        "news.head(10)"
      ],
      "execution_count": 53,
      "outputs": [
        {
          "output_type": "execute_result",
          "data": {
            "text/html": [
              "<div>\n",
              "<style scoped>\n",
              "    .dataframe tbody tr th:only-of-type {\n",
              "        vertical-align: middle;\n",
              "    }\n",
              "\n",
              "    .dataframe tbody tr th {\n",
              "        vertical-align: top;\n",
              "    }\n",
              "\n",
              "    .dataframe thead th {\n",
              "        text-align: right;\n",
              "    }\n",
              "</style>\n",
              "<table border=\"1\" class=\"dataframe\">\n",
              "  <thead>\n",
              "    <tr style=\"text-align: right;\">\n",
              "      <th></th>\n",
              "      <th>index</th>\n",
              "      <th>id</th>\n",
              "      <th>headline</th>\n",
              "      <th>written_by</th>\n",
              "      <th>news</th>\n",
              "      <th>label</th>\n",
              "    </tr>\n",
              "  </thead>\n",
              "  <tbody>\n",
              "    <tr>\n",
              "      <th>0</th>\n",
              "      <td>0</td>\n",
              "      <td>9653</td>\n",
              "      <td>Ethics Questions Dogged Agriculture Nominee as...</td>\n",
              "      <td>Eric Lipton and Steve Eder</td>\n",
              "      <td>WASHINGTON  —   In Sonny Perdue’s telling, Geo...</td>\n",
              "      <td>0</td>\n",
              "    </tr>\n",
              "    <tr>\n",
              "      <th>1</th>\n",
              "      <td>1</td>\n",
              "      <td>10041</td>\n",
              "      <td>U.S. Must Dig Deep to Stop Argentina’s Lionel ...</td>\n",
              "      <td>David Waldstein</td>\n",
              "      <td>HOUSTON  —   Venezuela had a plan. It was a ta...</td>\n",
              "      <td>0</td>\n",
              "    </tr>\n",
              "    <tr>\n",
              "      <th>2</th>\n",
              "      <td>2</td>\n",
              "      <td>19113</td>\n",
              "      <td>Cotton to House: ’Do Not Walk the Plank and Vo...</td>\n",
              "      <td>Pam Key</td>\n",
              "      <td>Sunday on ABC’s “This Week,” while discussing ...</td>\n",
              "      <td>0</td>\n",
              "    </tr>\n",
              "    <tr>\n",
              "      <th>3</th>\n",
              "      <td>3</td>\n",
              "      <td>6868</td>\n",
              "      <td>Paul LePage, Besieged Maine Governor, Sends Co...</td>\n",
              "      <td>Jess Bidgood</td>\n",
              "      <td>AUGUSTA, Me.  —   The beleaguered Republican g...</td>\n",
              "      <td>0</td>\n",
              "    </tr>\n",
              "    <tr>\n",
              "      <th>4</th>\n",
              "      <td>4</td>\n",
              "      <td>7596</td>\n",
              "      <td>A Digital 9/11 If Trump Wins</td>\n",
              "      <td>Finian Cunningham</td>\n",
              "      <td>Finian Cunningham has written extensively on...</td>\n",
              "      <td>1</td>\n",
              "    </tr>\n",
              "    <tr>\n",
              "      <th>5</th>\n",
              "      <td>6</td>\n",
              "      <td>5134</td>\n",
              "      <td>Rapid Evolution Saved This Fish From Pollution...</td>\n",
              "      <td>JoAnna Klein</td>\n",
              "      <td>The State of New Jersey says you can’t eat the...</td>\n",
              "      <td>0</td>\n",
              "    </tr>\n",
              "    <tr>\n",
              "      <th>6</th>\n",
              "      <td>7</td>\n",
              "      <td>1504</td>\n",
              "      <td>Alabama Prison Officials Retaliate Against Pri...</td>\n",
              "      <td>Brian Sonenstein</td>\n",
              "      <td>Advocates say prison officials at the Kilby Co...</td>\n",
              "      <td>1</td>\n",
              "    </tr>\n",
              "    <tr>\n",
              "      <th>7</th>\n",
              "      <td>9</td>\n",
              "      <td>4203</td>\n",
              "      <td>Can We Live in a Constant State of Love?</td>\n",
              "      <td>Gillian</td>\n",
              "      <td>Leave a reply \\nToni Emerson – When we fall in...</td>\n",
              "      <td>1</td>\n",
              "    </tr>\n",
              "    <tr>\n",
              "      <th>8</th>\n",
              "      <td>10</td>\n",
              "      <td>11136</td>\n",
              "      <td>Is Hillary a Closet Drunk… New WikiLeak Email ...</td>\n",
              "      <td>V Saxena</td>\n",
              "      <td>BREAKING: Clinton Fixer Reveals Sick Smear Hil...</td>\n",
              "      <td>1</td>\n",
              "    </tr>\n",
              "    <tr>\n",
              "      <th>9</th>\n",
              "      <td>11</td>\n",
              "      <td>2150</td>\n",
              "      <td>BLOOMBERG-BACKED PENNSYLVANIA ATTORNEY GENERAL...</td>\n",
              "      <td>Iron Sheik</td>\n",
              "      <td>Home › POLITICS | US NEWS › BLOOMBERG-BACKED P...</td>\n",
              "      <td>1</td>\n",
              "    </tr>\n",
              "  </tbody>\n",
              "</table>\n",
              "</div>"
            ],
            "text/plain": [
              "   index     id  ...                                               news label\n",
              "0      0   9653  ...  WASHINGTON  —   In Sonny Perdue’s telling, Geo...     0\n",
              "1      1  10041  ...  HOUSTON  —   Venezuela had a plan. It was a ta...     0\n",
              "2      2  19113  ...  Sunday on ABC’s “This Week,” while discussing ...     0\n",
              "3      3   6868  ...  AUGUSTA, Me.  —   The beleaguered Republican g...     0\n",
              "4      4   7596  ...    Finian Cunningham has written extensively on...     1\n",
              "5      6   5134  ...  The State of New Jersey says you can’t eat the...     0\n",
              "6      7   1504  ...  Advocates say prison officials at the Kilby Co...     1\n",
              "7      9   4203  ...  Leave a reply \\nToni Emerson – When we fall in...     1\n",
              "8     10  11136  ...  BREAKING: Clinton Fixer Reveals Sick Smear Hil...     1\n",
              "9     11   2150  ...  Home › POLITICS | US NEWS › BLOOMBERG-BACKED P...     1\n",
              "\n",
              "[10 rows x 6 columns]"
            ]
          },
          "metadata": {
            "tags": []
          },
          "execution_count": 53
        }
      ]
    },
    {
      "cell_type": "code",
      "metadata": {
        "colab": {
          "base_uri": "https://localhost:8080/"
        },
        "id": "vXi4ASywhXEB",
        "outputId": "ba95a579-5f03-4a9e-c26e-894d8c6218bd"
      },
      "source": [
        "import nltk\n",
        "nltk.download('stopwords')"
      ],
      "execution_count": 54,
      "outputs": [
        {
          "output_type": "stream",
          "text": [
            "[nltk_data] Downloading package stopwords to /root/nltk_data...\n",
            "[nltk_data]   Package stopwords is already up-to-date!\n"
          ],
          "name": "stdout"
        },
        {
          "output_type": "execute_result",
          "data": {
            "text/plain": [
              "True"
            ]
          },
          "metadata": {
            "tags": []
          },
          "execution_count": 54
        }
      ]
    },
    {
      "cell_type": "markdown",
      "metadata": {
        "id": "GDwN3mwydCRq"
      },
      "source": [
        "Taking input as headline\n"
      ]
    },
    {
      "cell_type": "code",
      "metadata": {
        "id": "tLOE1WQIgTEz"
      },
      "source": [
        "\n",
        "import re\n",
        "from nltk.corpus import stopwords\n",
        "from nltk.stem.porter import PorterStemmer\n",
        "ps = PorterStemmer()\n",
        "corpus = []\n",
        "for i in range(0, len(news)):\n",
        "    headline = re.sub('[^a-zA-Z]', ' ', news['headline'][i]) # Filtering all the headlines by removing numbers and symbols\n",
        "    headline = headline.lower()\n",
        "    headline = headline.split()\n",
        "    \n",
        "    headline = [ps.stem(word) for word in headline if not word in stopwords.words('english')] # making base form of the words\n",
        "    headline = ' '.join(headline)\n",
        "    corpus.append(headline)"
      ],
      "execution_count": 55,
      "outputs": []
    },
    {
      "cell_type": "code",
      "metadata": {
        "colab": {
          "base_uri": "https://localhost:8080/"
        },
        "id": "Bfgh9hmUhDRm",
        "outputId": "70b206f3-5373-4409-b24d-fa58289baa00"
      },
      "source": [
        "corpus[2:5]"
      ],
      "execution_count": 56,
      "outputs": [
        {
          "output_type": "execute_result",
          "data": {
            "text/plain": [
              "['cotton hous walk plank vote bill cannot pass senat breitbart',\n",
              " 'paul lepag besieg main governor send conflict signal intent new york time',\n",
              " 'digit trump win']"
            ]
          },
          "metadata": {
            "tags": []
          },
          "execution_count": 56
        }
      ]
    },
    {
      "cell_type": "code",
      "metadata": {
        "id": "W3Jond1Lhz5m"
      },
      "source": [
        "from sklearn.feature_extraction.text import CountVectorizer\n",
        "cv = CountVectorizer(max_features=5000,ngram_range=(1,3))\n",
        "X = cv.fit_transform(corpus).toarray()"
      ],
      "execution_count": 57,
      "outputs": []
    },
    {
      "cell_type": "code",
      "metadata": {
        "colab": {
          "base_uri": "https://localhost:8080/"
        },
        "id": "BFhDnxyQh-xm",
        "outputId": "965ce261-8cb4-4a03-82ca-e4eb68066eba"
      },
      "source": [
        "X.shape"
      ],
      "execution_count": 58,
      "outputs": [
        {
          "output_type": "execute_result",
          "data": {
            "text/plain": [
              "(18285, 5000)"
            ]
          },
          "metadata": {
            "tags": []
          },
          "execution_count": 58
        }
      ]
    },
    {
      "cell_type": "code",
      "metadata": {
        "id": "L1Hri7KmiKmU"
      },
      "source": [
        "y=news['label']"
      ],
      "execution_count": 59,
      "outputs": []
    },
    {
      "cell_type": "code",
      "metadata": {
        "id": "GvssvpBLiYQm"
      },
      "source": [
        "from sklearn.model_selection import train_test_split\n",
        "X_train, X_test, y_train, y_test = train_test_split(X, y, test_size=0.33, random_state=0) # Dividing data in train test"
      ],
      "execution_count": 60,
      "outputs": []
    },
    {
      "cell_type": "code",
      "metadata": {
        "colab": {
          "base_uri": "https://localhost:8080/"
        },
        "id": "0UPM9O4yib67",
        "outputId": "3eee6096-a6d4-4ff9-f879-35c635e04efe"
      },
      "source": [
        "\n",
        "cv.get_feature_names()[:20]"
      ],
      "execution_count": 61,
      "outputs": [
        {
          "output_type": "execute_result",
          "data": {
            "text/plain": [
              "['abandon',\n",
              " 'abc',\n",
              " 'abc news',\n",
              " 'abduct',\n",
              " 'abe',\n",
              " 'abedin',\n",
              " 'abl',\n",
              " 'abort',\n",
              " 'abroad',\n",
              " 'absolut',\n",
              " 'abstain',\n",
              " 'absurd',\n",
              " 'abus',\n",
              " 'abus new',\n",
              " 'abus new york',\n",
              " 'academi',\n",
              " 'accept',\n",
              " 'access',\n",
              " 'access pipelin',\n",
              " 'access pipelin protest']"
            ]
          },
          "metadata": {
            "tags": []
          },
          "execution_count": 61
        }
      ]
    },
    {
      "cell_type": "code",
      "metadata": {
        "colab": {
          "base_uri": "https://localhost:8080/"
        },
        "id": "6dtO6lG4inmx",
        "outputId": "580b43b3-7480-4062-8908-d8e4663a69d6"
      },
      "source": [
        "\n",
        "cv.get_params()"
      ],
      "execution_count": 62,
      "outputs": [
        {
          "output_type": "execute_result",
          "data": {
            "text/plain": [
              "{'analyzer': 'word',\n",
              " 'binary': False,\n",
              " 'decode_error': 'strict',\n",
              " 'dtype': numpy.int64,\n",
              " 'encoding': 'utf-8',\n",
              " 'input': 'content',\n",
              " 'lowercase': True,\n",
              " 'max_df': 1.0,\n",
              " 'max_features': 5000,\n",
              " 'min_df': 1,\n",
              " 'ngram_range': (1, 3),\n",
              " 'preprocessor': None,\n",
              " 'stop_words': None,\n",
              " 'strip_accents': None,\n",
              " 'token_pattern': '(?u)\\\\b\\\\w\\\\w+\\\\b',\n",
              " 'tokenizer': None,\n",
              " 'vocabulary': None}"
            ]
          },
          "metadata": {
            "tags": []
          },
          "execution_count": 62
        }
      ]
    },
    {
      "cell_type": "code",
      "metadata": {
        "id": "76Pj9GFpismo"
      },
      "source": [
        "\n",
        "count_df = pd.DataFrame(X_train, columns=cv.get_feature_names())"
      ],
      "execution_count": 63,
      "outputs": []
    },
    {
      "cell_type": "code",
      "metadata": {
        "colab": {
          "base_uri": "https://localhost:8080/",
          "height": 287
        },
        "id": "0zfwpaB7jNmk",
        "outputId": "a15d00cc-5146-42ea-92de-459b459eefb0"
      },
      "source": [
        "count_df.head()"
      ],
      "execution_count": 64,
      "outputs": [
        {
          "output_type": "execute_result",
          "data": {
            "text/html": [
              "<div>\n",
              "<style scoped>\n",
              "    .dataframe tbody tr th:only-of-type {\n",
              "        vertical-align: middle;\n",
              "    }\n",
              "\n",
              "    .dataframe tbody tr th {\n",
              "        vertical-align: top;\n",
              "    }\n",
              "\n",
              "    .dataframe thead th {\n",
              "        text-align: right;\n",
              "    }\n",
              "</style>\n",
              "<table border=\"1\" class=\"dataframe\">\n",
              "  <thead>\n",
              "    <tr style=\"text-align: right;\">\n",
              "      <th></th>\n",
              "      <th>abandon</th>\n",
              "      <th>abc</th>\n",
              "      <th>abc news</th>\n",
              "      <th>abduct</th>\n",
              "      <th>abe</th>\n",
              "      <th>abedin</th>\n",
              "      <th>abl</th>\n",
              "      <th>abort</th>\n",
              "      <th>abroad</th>\n",
              "      <th>absolut</th>\n",
              "      <th>abstain</th>\n",
              "      <th>absurd</th>\n",
              "      <th>abus</th>\n",
              "      <th>abus new</th>\n",
              "      <th>abus new york</th>\n",
              "      <th>academi</th>\n",
              "      <th>accept</th>\n",
              "      <th>access</th>\n",
              "      <th>access pipelin</th>\n",
              "      <th>access pipelin protest</th>\n",
              "      <th>accid</th>\n",
              "      <th>accident</th>\n",
              "      <th>accord</th>\n",
              "      <th>account</th>\n",
              "      <th>accus</th>\n",
              "      <th>accus trump</th>\n",
              "      <th>achiev</th>\n",
              "      <th>acknowledg</th>\n",
              "      <th>acknowledg emf</th>\n",
              "      <th>acknowledg emf damag</th>\n",
              "      <th>aclu</th>\n",
              "      <th>acquit</th>\n",
              "      <th>acquitt</th>\n",
              "      <th>acr</th>\n",
              "      <th>across</th>\n",
              "      <th>act</th>\n",
              "      <th>act like</th>\n",
              "      <th>act new</th>\n",
              "      <th>act new york</th>\n",
              "      <th>action</th>\n",
              "      <th>...</th>\n",
              "      <th>yahoo</th>\n",
              "      <th>yale</th>\n",
              "      <th>ye</th>\n",
              "      <th>year</th>\n",
              "      <th>year ago</th>\n",
              "      <th>year breitbart</th>\n",
              "      <th>year eve</th>\n",
              "      <th>year later</th>\n",
              "      <th>year new</th>\n",
              "      <th>year new york</th>\n",
              "      <th>year old</th>\n",
              "      <th>year old girl</th>\n",
              "      <th>year sinc</th>\n",
              "      <th>yemen</th>\n",
              "      <th>yet</th>\n",
              "      <th>yet anoth</th>\n",
              "      <th>yiannopoulo</th>\n",
              "      <th>yield</th>\n",
              "      <th>yo</th>\n",
              "      <th>york</th>\n",
              "      <th>york citi</th>\n",
              "      <th>york new</th>\n",
              "      <th>york new york</th>\n",
              "      <th>york state</th>\n",
              "      <th>york time</th>\n",
              "      <th>yorker</th>\n",
              "      <th>young</th>\n",
              "      <th>youth</th>\n",
              "      <th>youtub</th>\n",
              "      <th>zealand</th>\n",
              "      <th>zero</th>\n",
              "      <th>zika</th>\n",
              "      <th>zika viru</th>\n",
              "      <th>zionist</th>\n",
              "      <th>zone</th>\n",
              "      <th>zone new</th>\n",
              "      <th>zone new york</th>\n",
              "      <th>zoo</th>\n",
              "      <th>zu</th>\n",
              "      <th>zuckerberg</th>\n",
              "    </tr>\n",
              "  </thead>\n",
              "  <tbody>\n",
              "    <tr>\n",
              "      <th>0</th>\n",
              "      <td>0</td>\n",
              "      <td>0</td>\n",
              "      <td>0</td>\n",
              "      <td>0</td>\n",
              "      <td>0</td>\n",
              "      <td>0</td>\n",
              "      <td>0</td>\n",
              "      <td>0</td>\n",
              "      <td>0</td>\n",
              "      <td>0</td>\n",
              "      <td>0</td>\n",
              "      <td>0</td>\n",
              "      <td>0</td>\n",
              "      <td>0</td>\n",
              "      <td>0</td>\n",
              "      <td>0</td>\n",
              "      <td>0</td>\n",
              "      <td>0</td>\n",
              "      <td>0</td>\n",
              "      <td>0</td>\n",
              "      <td>0</td>\n",
              "      <td>0</td>\n",
              "      <td>0</td>\n",
              "      <td>0</td>\n",
              "      <td>0</td>\n",
              "      <td>0</td>\n",
              "      <td>0</td>\n",
              "      <td>0</td>\n",
              "      <td>0</td>\n",
              "      <td>0</td>\n",
              "      <td>0</td>\n",
              "      <td>0</td>\n",
              "      <td>0</td>\n",
              "      <td>0</td>\n",
              "      <td>0</td>\n",
              "      <td>0</td>\n",
              "      <td>0</td>\n",
              "      <td>0</td>\n",
              "      <td>0</td>\n",
              "      <td>0</td>\n",
              "      <td>...</td>\n",
              "      <td>0</td>\n",
              "      <td>0</td>\n",
              "      <td>0</td>\n",
              "      <td>0</td>\n",
              "      <td>0</td>\n",
              "      <td>0</td>\n",
              "      <td>0</td>\n",
              "      <td>0</td>\n",
              "      <td>0</td>\n",
              "      <td>0</td>\n",
              "      <td>0</td>\n",
              "      <td>0</td>\n",
              "      <td>0</td>\n",
              "      <td>0</td>\n",
              "      <td>0</td>\n",
              "      <td>0</td>\n",
              "      <td>0</td>\n",
              "      <td>0</td>\n",
              "      <td>0</td>\n",
              "      <td>0</td>\n",
              "      <td>0</td>\n",
              "      <td>0</td>\n",
              "      <td>0</td>\n",
              "      <td>0</td>\n",
              "      <td>0</td>\n",
              "      <td>0</td>\n",
              "      <td>0</td>\n",
              "      <td>0</td>\n",
              "      <td>0</td>\n",
              "      <td>0</td>\n",
              "      <td>0</td>\n",
              "      <td>0</td>\n",
              "      <td>0</td>\n",
              "      <td>0</td>\n",
              "      <td>0</td>\n",
              "      <td>0</td>\n",
              "      <td>0</td>\n",
              "      <td>0</td>\n",
              "      <td>0</td>\n",
              "      <td>0</td>\n",
              "    </tr>\n",
              "    <tr>\n",
              "      <th>1</th>\n",
              "      <td>0</td>\n",
              "      <td>0</td>\n",
              "      <td>0</td>\n",
              "      <td>0</td>\n",
              "      <td>0</td>\n",
              "      <td>0</td>\n",
              "      <td>0</td>\n",
              "      <td>0</td>\n",
              "      <td>0</td>\n",
              "      <td>0</td>\n",
              "      <td>0</td>\n",
              "      <td>0</td>\n",
              "      <td>0</td>\n",
              "      <td>0</td>\n",
              "      <td>0</td>\n",
              "      <td>0</td>\n",
              "      <td>0</td>\n",
              "      <td>0</td>\n",
              "      <td>0</td>\n",
              "      <td>0</td>\n",
              "      <td>0</td>\n",
              "      <td>0</td>\n",
              "      <td>0</td>\n",
              "      <td>0</td>\n",
              "      <td>0</td>\n",
              "      <td>0</td>\n",
              "      <td>0</td>\n",
              "      <td>0</td>\n",
              "      <td>0</td>\n",
              "      <td>0</td>\n",
              "      <td>0</td>\n",
              "      <td>0</td>\n",
              "      <td>0</td>\n",
              "      <td>0</td>\n",
              "      <td>0</td>\n",
              "      <td>0</td>\n",
              "      <td>0</td>\n",
              "      <td>0</td>\n",
              "      <td>0</td>\n",
              "      <td>0</td>\n",
              "      <td>...</td>\n",
              "      <td>0</td>\n",
              "      <td>0</td>\n",
              "      <td>0</td>\n",
              "      <td>0</td>\n",
              "      <td>0</td>\n",
              "      <td>0</td>\n",
              "      <td>0</td>\n",
              "      <td>0</td>\n",
              "      <td>0</td>\n",
              "      <td>0</td>\n",
              "      <td>0</td>\n",
              "      <td>0</td>\n",
              "      <td>0</td>\n",
              "      <td>0</td>\n",
              "      <td>0</td>\n",
              "      <td>0</td>\n",
              "      <td>0</td>\n",
              "      <td>0</td>\n",
              "      <td>0</td>\n",
              "      <td>1</td>\n",
              "      <td>0</td>\n",
              "      <td>0</td>\n",
              "      <td>0</td>\n",
              "      <td>0</td>\n",
              "      <td>1</td>\n",
              "      <td>0</td>\n",
              "      <td>0</td>\n",
              "      <td>0</td>\n",
              "      <td>0</td>\n",
              "      <td>0</td>\n",
              "      <td>0</td>\n",
              "      <td>0</td>\n",
              "      <td>0</td>\n",
              "      <td>0</td>\n",
              "      <td>0</td>\n",
              "      <td>0</td>\n",
              "      <td>0</td>\n",
              "      <td>0</td>\n",
              "      <td>0</td>\n",
              "      <td>0</td>\n",
              "    </tr>\n",
              "    <tr>\n",
              "      <th>2</th>\n",
              "      <td>0</td>\n",
              "      <td>0</td>\n",
              "      <td>0</td>\n",
              "      <td>0</td>\n",
              "      <td>0</td>\n",
              "      <td>0</td>\n",
              "      <td>0</td>\n",
              "      <td>0</td>\n",
              "      <td>0</td>\n",
              "      <td>0</td>\n",
              "      <td>0</td>\n",
              "      <td>0</td>\n",
              "      <td>0</td>\n",
              "      <td>0</td>\n",
              "      <td>0</td>\n",
              "      <td>0</td>\n",
              "      <td>0</td>\n",
              "      <td>0</td>\n",
              "      <td>0</td>\n",
              "      <td>0</td>\n",
              "      <td>0</td>\n",
              "      <td>0</td>\n",
              "      <td>0</td>\n",
              "      <td>0</td>\n",
              "      <td>0</td>\n",
              "      <td>0</td>\n",
              "      <td>0</td>\n",
              "      <td>0</td>\n",
              "      <td>0</td>\n",
              "      <td>0</td>\n",
              "      <td>0</td>\n",
              "      <td>0</td>\n",
              "      <td>0</td>\n",
              "      <td>0</td>\n",
              "      <td>1</td>\n",
              "      <td>0</td>\n",
              "      <td>0</td>\n",
              "      <td>0</td>\n",
              "      <td>0</td>\n",
              "      <td>0</td>\n",
              "      <td>...</td>\n",
              "      <td>0</td>\n",
              "      <td>0</td>\n",
              "      <td>0</td>\n",
              "      <td>0</td>\n",
              "      <td>0</td>\n",
              "      <td>0</td>\n",
              "      <td>0</td>\n",
              "      <td>0</td>\n",
              "      <td>0</td>\n",
              "      <td>0</td>\n",
              "      <td>0</td>\n",
              "      <td>0</td>\n",
              "      <td>0</td>\n",
              "      <td>0</td>\n",
              "      <td>0</td>\n",
              "      <td>0</td>\n",
              "      <td>0</td>\n",
              "      <td>0</td>\n",
              "      <td>0</td>\n",
              "      <td>1</td>\n",
              "      <td>0</td>\n",
              "      <td>0</td>\n",
              "      <td>0</td>\n",
              "      <td>0</td>\n",
              "      <td>1</td>\n",
              "      <td>0</td>\n",
              "      <td>0</td>\n",
              "      <td>0</td>\n",
              "      <td>0</td>\n",
              "      <td>0</td>\n",
              "      <td>0</td>\n",
              "      <td>0</td>\n",
              "      <td>0</td>\n",
              "      <td>0</td>\n",
              "      <td>0</td>\n",
              "      <td>0</td>\n",
              "      <td>0</td>\n",
              "      <td>0</td>\n",
              "      <td>0</td>\n",
              "      <td>0</td>\n",
              "    </tr>\n",
              "    <tr>\n",
              "      <th>3</th>\n",
              "      <td>0</td>\n",
              "      <td>0</td>\n",
              "      <td>0</td>\n",
              "      <td>0</td>\n",
              "      <td>0</td>\n",
              "      <td>0</td>\n",
              "      <td>0</td>\n",
              "      <td>0</td>\n",
              "      <td>0</td>\n",
              "      <td>0</td>\n",
              "      <td>0</td>\n",
              "      <td>0</td>\n",
              "      <td>0</td>\n",
              "      <td>0</td>\n",
              "      <td>0</td>\n",
              "      <td>0</td>\n",
              "      <td>0</td>\n",
              "      <td>0</td>\n",
              "      <td>0</td>\n",
              "      <td>0</td>\n",
              "      <td>0</td>\n",
              "      <td>0</td>\n",
              "      <td>0</td>\n",
              "      <td>0</td>\n",
              "      <td>0</td>\n",
              "      <td>0</td>\n",
              "      <td>0</td>\n",
              "      <td>0</td>\n",
              "      <td>0</td>\n",
              "      <td>0</td>\n",
              "      <td>0</td>\n",
              "      <td>0</td>\n",
              "      <td>0</td>\n",
              "      <td>0</td>\n",
              "      <td>0</td>\n",
              "      <td>0</td>\n",
              "      <td>0</td>\n",
              "      <td>0</td>\n",
              "      <td>0</td>\n",
              "      <td>0</td>\n",
              "      <td>...</td>\n",
              "      <td>0</td>\n",
              "      <td>0</td>\n",
              "      <td>0</td>\n",
              "      <td>0</td>\n",
              "      <td>0</td>\n",
              "      <td>0</td>\n",
              "      <td>0</td>\n",
              "      <td>0</td>\n",
              "      <td>0</td>\n",
              "      <td>0</td>\n",
              "      <td>0</td>\n",
              "      <td>0</td>\n",
              "      <td>0</td>\n",
              "      <td>0</td>\n",
              "      <td>0</td>\n",
              "      <td>0</td>\n",
              "      <td>0</td>\n",
              "      <td>0</td>\n",
              "      <td>0</td>\n",
              "      <td>1</td>\n",
              "      <td>0</td>\n",
              "      <td>0</td>\n",
              "      <td>0</td>\n",
              "      <td>0</td>\n",
              "      <td>1</td>\n",
              "      <td>0</td>\n",
              "      <td>0</td>\n",
              "      <td>0</td>\n",
              "      <td>0</td>\n",
              "      <td>0</td>\n",
              "      <td>0</td>\n",
              "      <td>0</td>\n",
              "      <td>0</td>\n",
              "      <td>0</td>\n",
              "      <td>0</td>\n",
              "      <td>0</td>\n",
              "      <td>0</td>\n",
              "      <td>0</td>\n",
              "      <td>0</td>\n",
              "      <td>0</td>\n",
              "    </tr>\n",
              "    <tr>\n",
              "      <th>4</th>\n",
              "      <td>0</td>\n",
              "      <td>0</td>\n",
              "      <td>0</td>\n",
              "      <td>0</td>\n",
              "      <td>0</td>\n",
              "      <td>0</td>\n",
              "      <td>0</td>\n",
              "      <td>0</td>\n",
              "      <td>0</td>\n",
              "      <td>0</td>\n",
              "      <td>0</td>\n",
              "      <td>0</td>\n",
              "      <td>0</td>\n",
              "      <td>0</td>\n",
              "      <td>0</td>\n",
              "      <td>0</td>\n",
              "      <td>0</td>\n",
              "      <td>0</td>\n",
              "      <td>0</td>\n",
              "      <td>0</td>\n",
              "      <td>0</td>\n",
              "      <td>0</td>\n",
              "      <td>0</td>\n",
              "      <td>0</td>\n",
              "      <td>0</td>\n",
              "      <td>0</td>\n",
              "      <td>0</td>\n",
              "      <td>0</td>\n",
              "      <td>0</td>\n",
              "      <td>0</td>\n",
              "      <td>0</td>\n",
              "      <td>0</td>\n",
              "      <td>0</td>\n",
              "      <td>0</td>\n",
              "      <td>0</td>\n",
              "      <td>0</td>\n",
              "      <td>0</td>\n",
              "      <td>0</td>\n",
              "      <td>0</td>\n",
              "      <td>0</td>\n",
              "      <td>...</td>\n",
              "      <td>0</td>\n",
              "      <td>0</td>\n",
              "      <td>0</td>\n",
              "      <td>0</td>\n",
              "      <td>0</td>\n",
              "      <td>0</td>\n",
              "      <td>0</td>\n",
              "      <td>0</td>\n",
              "      <td>0</td>\n",
              "      <td>0</td>\n",
              "      <td>0</td>\n",
              "      <td>0</td>\n",
              "      <td>0</td>\n",
              "      <td>0</td>\n",
              "      <td>0</td>\n",
              "      <td>0</td>\n",
              "      <td>0</td>\n",
              "      <td>0</td>\n",
              "      <td>0</td>\n",
              "      <td>0</td>\n",
              "      <td>0</td>\n",
              "      <td>0</td>\n",
              "      <td>0</td>\n",
              "      <td>0</td>\n",
              "      <td>0</td>\n",
              "      <td>0</td>\n",
              "      <td>0</td>\n",
              "      <td>0</td>\n",
              "      <td>0</td>\n",
              "      <td>0</td>\n",
              "      <td>0</td>\n",
              "      <td>0</td>\n",
              "      <td>0</td>\n",
              "      <td>0</td>\n",
              "      <td>0</td>\n",
              "      <td>0</td>\n",
              "      <td>0</td>\n",
              "      <td>0</td>\n",
              "      <td>0</td>\n",
              "      <td>0</td>\n",
              "    </tr>\n",
              "  </tbody>\n",
              "</table>\n",
              "<p>5 rows × 5000 columns</p>\n",
              "</div>"
            ],
            "text/plain": [
              "   abandon  abc  abc news  abduct  ...  zone new york  zoo  zu  zuckerberg\n",
              "0        0    0         0       0  ...              0    0   0           0\n",
              "1        0    0         0       0  ...              0    0   0           0\n",
              "2        0    0         0       0  ...              0    0   0           0\n",
              "3        0    0         0       0  ...              0    0   0           0\n",
              "4        0    0         0       0  ...              0    0   0           0\n",
              "\n",
              "[5 rows x 5000 columns]"
            ]
          },
          "metadata": {
            "tags": []
          },
          "execution_count": 64
        }
      ]
    },
    {
      "cell_type": "code",
      "metadata": {
        "id": "vXslIlZljU-Z"
      },
      "source": [
        "from sklearn.naive_bayes import MultinomialNB\n",
        "classifier=MultinomialNB()"
      ],
      "execution_count": 65,
      "outputs": []
    },
    {
      "cell_type": "code",
      "metadata": {
        "id": "7pSXRHyAkTdq"
      },
      "source": [
        "from sklearn import metrics\n",
        "import numpy as np\n",
        "import itertools"
      ],
      "execution_count": 66,
      "outputs": []
    },
    {
      "cell_type": "code",
      "metadata": {
        "colab": {
          "base_uri": "https://localhost:8080/"
        },
        "id": "OiMyTYCKkWSV",
        "outputId": "1450a8b5-3300-477c-95e5-7f97080ef4da"
      },
      "source": [
        "classifier.fit(X_train, y_train)\n",
        "pred = classifier.predict(X_test)\n",
        "score = metrics.accuracy_score(y_test, pred)\n",
        "print(\"accuracy:   %0.3f\" % score)\n",
        "cm = metrics.confusion_matrix(y_test, pred)\n",
        "cm"
      ],
      "execution_count": 67,
      "outputs": [
        {
          "output_type": "stream",
          "text": [
            "accuracy:   0.902\n"
          ],
          "name": "stdout"
        },
        {
          "output_type": "execute_result",
          "data": {
            "text/plain": [
              "array([[3039,  351],\n",
              "       [ 241, 2404]])"
            ]
          },
          "metadata": {
            "tags": []
          },
          "execution_count": 67
        }
      ]
    },
    {
      "cell_type": "code",
      "metadata": {
        "id": "iNPOir7zkeKH"
      },
      "source": [
        "from sklearn.linear_model import PassiveAggressiveClassifier\n",
        "linear_clf = PassiveAggressiveClassifier(max_iter=50)"
      ],
      "execution_count": 68,
      "outputs": []
    },
    {
      "cell_type": "code",
      "metadata": {
        "colab": {
          "base_uri": "https://localhost:8080/"
        },
        "id": "K4Ejp9gElf0p",
        "outputId": "292c80c4-940e-4f5f-936b-6fbe28986973"
      },
      "source": [
        "linear_clf.fit(X_train, y_train)\n",
        "pred = linear_clf.predict(X_test)\n",
        "score = metrics.accuracy_score(y_test, pred)\n",
        "print(\"accuracy:   %0.3f\" % score)\n",
        "cm = metrics.confusion_matrix(y_test, pred)\n",
        "cm"
      ],
      "execution_count": 69,
      "outputs": [
        {
          "output_type": "stream",
          "text": [
            "accuracy:   0.920\n"
          ],
          "name": "stdout"
        },
        {
          "output_type": "execute_result",
          "data": {
            "text/plain": [
              "array([[3131,  259],\n",
              "       [ 221, 2424]])"
            ]
          },
          "metadata": {
            "tags": []
          },
          "execution_count": 69
        }
      ]
    },
    {
      "cell_type": "code",
      "metadata": {
        "id": "6f3IZNk1lx2j"
      },
      "source": [
        "classifier=MultinomialNB(alpha=0.1)"
      ],
      "execution_count": 70,
      "outputs": []
    },
    {
      "cell_type": "code",
      "metadata": {
        "colab": {
          "base_uri": "https://localhost:8080/"
        },
        "id": "Uw6xgwEwl6xv",
        "outputId": "514b1920-23d3-4b24-8bea-a76c49c94194"
      },
      "source": [
        "previous_score=0\n",
        "for alpha in np.arange(0,1,0.1):\n",
        "    sub_classifier=MultinomialNB(alpha=alpha)\n",
        "    sub_classifier.fit(X_train,y_train)\n",
        "    y_pred=sub_classifier.predict(X_test)\n",
        "    score = metrics.accuracy_score(y_test, y_pred)\n",
        "    if score>previous_score:\n",
        "        classifier=sub_classifier\n",
        "    print(\"Alpha: {}, Score : {}\".format(alpha,score))"
      ],
      "execution_count": 71,
      "outputs": [
        {
          "output_type": "stream",
          "text": [
            "/usr/local/lib/python3.6/dist-packages/sklearn/naive_bayes.py:507: UserWarning: alpha too small will result in numeric errors, setting alpha = 1.0e-10\n",
            "  'setting alpha = %.1e' % _ALPHA_MIN)\n"
          ],
          "name": "stderr"
        },
        {
          "output_type": "stream",
          "text": [
            "Alpha: 0.0, Score : 0.8851698425849213\n",
            "Alpha: 0.1, Score : 0.8984258492129246\n",
            "Alpha: 0.2, Score : 0.9000828500414251\n",
            "Alpha: 0.30000000000000004, Score : 0.9005799502899752\n",
            "Alpha: 0.4, Score : 0.9012427506213753\n",
            "Alpha: 0.5, Score : 0.9009113504556753\n",
            "Alpha: 0.6000000000000001, Score : 0.9010770505385253\n",
            "Alpha: 0.7000000000000001, Score : 0.9019055509527755\n",
            "Alpha: 0.8, Score : 0.9017398508699255\n",
            "Alpha: 0.9, Score : 0.9015741507870754\n"
          ],
          "name": "stdout"
        }
      ]
    },
    {
      "cell_type": "code",
      "metadata": {
        "id": "6O4nkhM4mBBH"
      },
      "source": [
        "feature_names = cv.get_feature_names()"
      ],
      "execution_count": 72,
      "outputs": []
    },
    {
      "cell_type": "code",
      "metadata": {
        "colab": {
          "base_uri": "https://localhost:8080/"
        },
        "id": "gAXW2f3tmSHo",
        "outputId": "01261a82-053f-4dd4-a4ec-8dfa60ddab99"
      },
      "source": [
        "classifier.coef_[0]"
      ],
      "execution_count": 73,
      "outputs": [
        {
          "output_type": "execute_result",
          "data": {
            "text/plain": [
              "array([ -9.32421836,  -8.7536735 , -10.04334102, ..., -10.79055543,\n",
              "        -8.49914363, -10.79055543])"
            ]
          },
          "metadata": {
            "tags": []
          },
          "execution_count": 73
        }
      ]
    },
    {
      "cell_type": "code",
      "metadata": {
        "colab": {
          "base_uri": "https://localhost:8080/"
        },
        "id": "nPwWUcBcmVPj",
        "outputId": "9f991cd5-6c3e-4b7c-dc0a-f3d2ec2c8665"
      },
      "source": [
        "sorted(zip(classifier.coef_[0], feature_names), reverse=True)[:20]"
      ],
      "execution_count": 74,
      "outputs": [
        {
          "output_type": "execute_result",
          "data": {
            "text/plain": [
              "[(-3.9675111413474324, 'trump'),\n",
              " (-4.262110297382556, 'hillari'),\n",
              " (-4.393810972851313, 'clinton'),\n",
              " (-4.8536057309316964, 'elect'),\n",
              " (-5.200813000454728, 'new'),\n",
              " (-5.256287973823915, 'video'),\n",
              " (-5.292022012514838, 'us'),\n",
              " (-5.319686293987194, 'comment'),\n",
              " (-5.352959325324056, 'fbi'),\n",
              " (-5.397433057467033, 'war'),\n",
              " (-5.459986015348155, 'hillari clinton'),\n",
              " (-5.492793769119066, 'email'),\n",
              " (-5.526714488715316, 'obama'),\n",
              " (-5.592058394467554, 'vote'),\n",
              " (-5.642415162652731, 'world'),\n",
              " (-5.773275588918455, 'donald'),\n",
              " (-5.803150850352285, 'russia'),\n",
              " (-5.803150850352285, 'donald trump'),\n",
              " (-5.826158000130412, 'say'),\n",
              " (-5.826158000130412, 'america')]"
            ]
          },
          "metadata": {
            "tags": []
          },
          "execution_count": 74
        }
      ]
    },
    {
      "cell_type": "code",
      "metadata": {
        "id": "KmzYqApCcVJO"
      },
      "source": [
        "# Passive aggresive classifier predicting better results than other models with good accuracy"
      ],
      "execution_count": null,
      "outputs": []
    },
    {
      "cell_type": "code",
      "metadata": {
        "id": "7Wf8LW_dcqq1"
      },
      "source": [
        ""
      ],
      "execution_count": null,
      "outputs": []
    },
    {
      "cell_type": "markdown",
      "metadata": {
        "id": "ydJxDrYIdQLZ"
      },
      "source": [
        "Taking input as news\n"
      ]
    },
    {
      "cell_type": "code",
      "metadata": {
        "id": "b07T0810mY3v"
      },
      "source": [
        "corpus = []\n",
        "for i in range(0, len(news)):\n",
        "    news1 = re.sub('[^a-zA-Z]', ' ', news['news'][i])\n",
        "    news1 = news1.lower()\n",
        "    news1 = news1.split()\n",
        "    \n",
        "    news1 = [ps.stem(word) for word in news1 if not word in stopwords.words('english')]\n",
        "    news1 = ' '.join(news1)\n",
        "    corpus.append(news1)"
      ],
      "execution_count": 76,
      "outputs": []
    },
    {
      "cell_type": "code",
      "metadata": {
        "colab": {
          "base_uri": "https://localhost:8080/"
        },
        "id": "d_Jx0QjlPnYi",
        "outputId": "ed761bb5-d188-4eb8-8f10-1befbffb3ce5"
      },
      "source": [
        "corpus[2:5]"
      ],
      "execution_count": 78,
      "outputs": [
        {
          "output_type": "execute_result",
          "data": {
            "text/plain": [
              "['sunday abc week discuss republican plan repeal replac obamacar sen tom cotton warn gop hous member walk plank vote bill cannot pass senat face consequ vote ad bill probabl fix go take lot carpentri framework hill follow pam key twitter pamkeynen',\n",
              " 'augusta beleagu republican governor main seem tuesday back hint might quit midst controversi latest tirad obscen threaten racial charg remark republican lawmak hous ralli quash possibl formal rebuk wors errat behavior gov paul r lepag whose tenur often seem lurch one crisi anoth began day suggest radio interview tuesday morn consid step outrag gener profan voic mail appar endors racial profil drew admonish even member parti realli one thing one parti behind mr lepag said radio interview time uncharacterist anoth thing parti behind earli afternoon twitter messag mr lepag seem regain spirit defianc regard rumor resign paraphras mark twain report polit demis greatli exagger messag read mr lepag spend much day town baileyvil mile near canadian border nighttim clear basi governor renew swagger hous republican leader said would join call conven special session would rais possibl impeach believ governor address issu said state repres kenneth fredett alli mr lepag minor leader hous interest come back special session speak report caucu meet mr fredett condemn mr lepag remark one agre governor said said assert one get free pass seem give one mr lepag say special session would distract voter import issu ahead fall elect sinc elect mr lepag least nine polit live abl ride wave controversi often provok harsh insult racial charg statement outburst anger democrat embarrass moder republican yet left larg unruffl polit base drawn former businessman unfilt style democrat senat republican rais possibl special session consid way rebuk governor session could held approv half caucus legisl chamber hous republican caucu held line meet p caucu meet follow day controversi mr lepag state meet last wednesday vast major heroin dealer main black hispan critic swell mr lepag came believ democrat lawmak drew gattin call racist left threaten voic mail thread obscen follow suggest mr gattin duel friday mr lepag reiter comment drug race show report binder peopl arrest drug charg assert black hispan peopl state enemi comment led ami volk republican senat make public break mr lepag question saniti sobrieti facebook post although later apolog call special legisl session consid censur mr lepag nonproduct ms volk said interview tuesday offens citizen color would somehow lump peopl break law color skin democrat leader said would continu call governor resign hous republican done slam door willing actual address behavior time said jeff mccabe democrat major leader hous tuesday night think work senat republican well hous republican know happi tonight display polit theater mr lepag met republican legisl leader monday urg take step like apolog directli lawmak threaten ask seek help profession otherwis accord person brief discuss interview radio station wvom mr lepag said senat republican demand although specifi one ad republican lawmak hous want salvag move forward went say look option conced remark cost crucial support lost abil convinc main peopl need type peopl need augusta know mayb time move said later twitter messag ridicul talk step radio also apolog behavior toward mr gattin call total total unnecessari although interview local televis afternoon suggest mr gattin owe apolog morn radio interview also defend comment drug race say link two fact ad live matter everi drug arrest get stori peopl come meth lab essenti main white peopl mr lepag said come heroin epidem opposit imbroglio seem strengthen republican commit mr lepag part state lewiston monday night bartend patron realiz still support governor left associ strongli state tradit moder republican like senat susan collin margaret chase smith tri explain action seem norm speak mind without filter said wendi ault former republican state repres member earli colleg task forc appoint mr lepag ad believ civil discours',\n",
              " 'finian cunningham written extens intern affair articl publish sever languag mani recent articl appear renown canadian base news websit globalresearch master graduat agricultur chemistri work scientif editor royal societi chemistri cambridg england pursu career journal special middl east east africa issu also given sever american radio interview well tv interview press tv russia today interest includ capit imperi war social justic peac agricultur trade polici ecolog impact scienc technolog human right also musician songwrit previous base bahrain wit polit upheav persian gulf kingdom well subsequ saudi led brutal crackdown pro democraci protest author media comment expel bahrain june critic journal highlight mani human right violat western back regim mani year work editor writer mainstream media includ mirror irish time independ origin belfast ireland base east africa write book bahrain arab spring digit trump win finian cunningham novemb green light coup tat deep state forc found could win normal rig method finian cunningham sputnik disturb sign digit terror attack readi elect day us ensur donald trump win attack involv widespread internet power outag would noth russia foreign state would furnish agenc us deep state classic fals flag covert manner result chao assault american democraci conveni blame russia present doubl benefit russia would demon foreign aggressor justifi even harsher counter measur america european alli moscow secondli digit attack america presidenti elect day week would allow washington establish pronounc result invalid due russian cyber subvers option stand invok ballot result show republican candid donald trump immin victor democrat rival hillari clinton clear choic white hous among washington establish back wall street financ capit corpor media militari industri complex deep state agenc pentagon cia fix month get elect power owe well groom obedi american imperialist interest billionair properti magnat trump much maverick entrust white hous far american rule elit concern troubl howev despit massiv campaign discredit trump poll support remain stubbornli close clinton latter taint mani scandal involv alleg sleazi deal wall street call pay play favor former secretari state penchant incit oversea war regim chang use jihadist terrorist foot soldier one headlin mcclatchi news day ago put major voter think clinton act illeg new poll find trump right us presidenti elect rig despit handwring condemn pundit seem obviou system heavili stack candid conform interest establish massiv media orchestr campaign trump testimoni popular disgust clinton sleaz ball husband bill washington establish victori far certain inde last week vote tuesday variou poll show neck neck race even indic put republican narrowli ahead weekend washington post one main media outlet pan trump daili basi report elector map definit move trump direct possibl deep state conting plan readi scupper shock win trump recent day american media report virtual state emerg us govern secur agenc thwart claim russian effort incit elect day cyber mayhem one exclus report nbc network novemb claim us govern believ hacker russia elsewher may tri undermin next week presidenti elect mount unpreced effort counter cyber meddl novemb washington post report intellig offici warn russian mischief elect beyond appar emerg secur respons coordin white hous depart homeland secur cia nation secur agenc element defens depart accord nbc claim russian state hacker interf us polit system new last month obama administr offici accus moscow alleg malfeas russian presid vladimir putin lambast american claim countri seek disrupt presidenti elect hyster nonsens aim distract elector far deep root intern problem obama administr state secur agenc provid one iota evid support alleg russia nevertheless repeat charg tendenc stick julian assang wikileak founder clinton campaign month accus trump pro russian stoog campaign also claim russian hacker collud whistleblow organ wikileak releas thousand privat email damag clinton intent sway elect favor trump wikileak director julian assang russian govern reject suggest somehow collabor work get trump elect eve elect us author recklessli push hysteria russia tri subvert american democraci michael mcfaul former us ambassador russia quot say russian offens mode us work strategi respond highest level nbc cite senior obama administr offici say russian want sow much confus possibl undermin process omin news outlet add step taken prepar worst case scenario includ cyber attack shut part power grid internet nearli two week ago octob us hit widespread internet outag actor behind distribut denial servic identifi disrupt nationwid temporarili disabl mani popular consum servic one former offici us depart homeland secur describ event sign would consid drill could cyber attack work us deep state agenc dress rehears even bigger outag plan novemb elect day washington establish want clinton trump marionett choic strateg interest includ hostil foreign polici toward russia syria ukrain elsewher trump might snatch elect day victori jaw defeat georg soro ngo manipul case shadowi forc realli rule america trigger digit difficult imagin chao mayhem internet blackout power transport bank commun paralysi even temporari period hour month finger russia destabil foreign enemi intent interf us democraci get comrad trump white hous would serv self fulfil propheci event us author could plausibl move declar elect donald j trump null void fact scenario could contriv far seriou level mere suspend elect result us author could easili feign state emerg necessari order defend nation secur conting catapult beyond rig polit green light coup tat deep state forc found could win normal rig method']"
            ]
          },
          "metadata": {
            "tags": []
          },
          "execution_count": 78
        }
      ]
    },
    {
      "cell_type": "code",
      "metadata": {
        "id": "11ifJ7lYPuJ_"
      },
      "source": [
        "cv = CountVectorizer(max_features=5000,ngram_range=(1,3))\n",
        "X = cv.fit_transform(corpus).toarray()"
      ],
      "execution_count": 79,
      "outputs": []
    },
    {
      "cell_type": "code",
      "metadata": {
        "colab": {
          "base_uri": "https://localhost:8080/"
        },
        "id": "KJSpF93bXkOY",
        "outputId": "66209c7d-0907-4d7f-f2d6-8f3b02deb731"
      },
      "source": [
        "X.shape"
      ],
      "execution_count": 80,
      "outputs": [
        {
          "output_type": "execute_result",
          "data": {
            "text/plain": [
              "(18285, 5000)"
            ]
          },
          "metadata": {
            "tags": []
          },
          "execution_count": 80
        }
      ]
    },
    {
      "cell_type": "code",
      "metadata": {
        "id": "zx1_UH4MYM8L"
      },
      "source": [
        "X_train, X_test, y_train, y_test = train_test_split(X, y, test_size=0.33, random_state=0)"
      ],
      "execution_count": 81,
      "outputs": []
    },
    {
      "cell_type": "code",
      "metadata": {
        "colab": {
          "base_uri": "https://localhost:8080/"
        },
        "id": "29VzSOEuYRdK",
        "outputId": "75467f8a-b8f7-4afc-df0f-b35e408810e8"
      },
      "source": [
        "cv.get_feature_names()[:20]"
      ],
      "execution_count": 82,
      "outputs": [
        {
          "output_type": "execute_result",
          "data": {
            "text/plain": [
              "['aaron',\n",
              " 'abandon',\n",
              " 'abc',\n",
              " 'abe',\n",
              " 'abedin',\n",
              " 'abil',\n",
              " 'abl',\n",
              " 'abort',\n",
              " 'abroad',\n",
              " 'absenc',\n",
              " 'absolut',\n",
              " 'absorb',\n",
              " 'absurd',\n",
              " 'abu',\n",
              " 'abus',\n",
              " 'academ',\n",
              " 'academi',\n",
              " 'acceler',\n",
              " 'accept',\n",
              " 'access']"
            ]
          },
          "metadata": {
            "tags": []
          },
          "execution_count": 82
        }
      ]
    },
    {
      "cell_type": "code",
      "metadata": {
        "id": "KcQjy_NHYVpb"
      },
      "source": [
        "count_df = pd.DataFrame(X_train, columns=cv.get_feature_names())"
      ],
      "execution_count": 83,
      "outputs": []
    },
    {
      "cell_type": "code",
      "metadata": {
        "colab": {
          "base_uri": "https://localhost:8080/"
        },
        "id": "HimjbtTNYdAN",
        "outputId": "6afd9c8d-7864-47b9-dd39-6012df7d5e4d"
      },
      "source": [
        "classifier.fit(X_train, y_train)\n",
        "pred = classifier.predict(X_test)\n",
        "score = metrics.accuracy_score(y_test, pred)\n",
        "print(\"accuracy:   %0.3f\" % score)\n",
        "cm = metrics.confusion_matrix(y_test, pred)\n",
        "cm"
      ],
      "execution_count": 84,
      "outputs": [
        {
          "output_type": "stream",
          "text": [
            "accuracy:   0.898\n"
          ],
          "name": "stdout"
        },
        {
          "output_type": "execute_result",
          "data": {
            "text/plain": [
              "array([[3122,  268],\n",
              "       [ 349, 2296]])"
            ]
          },
          "metadata": {
            "tags": []
          },
          "execution_count": 84
        }
      ]
    },
    {
      "cell_type": "code",
      "metadata": {
        "colab": {
          "base_uri": "https://localhost:8080/"
        },
        "id": "SyOaWPpSYikg",
        "outputId": "93ff8f62-8afd-47d9-cc11-7d0857585e4d"
      },
      "source": [
        "linear_clf.fit(X_train, y_train)\n",
        "pred = linear_clf.predict(X_test)\n",
        "score = metrics.accuracy_score(y_test, pred)\n",
        "print(\"accuracy:   %0.3f\" % score)\n",
        "cm = metrics.confusion_matrix(y_test, pred)\n",
        "cm"
      ],
      "execution_count": 85,
      "outputs": [
        {
          "output_type": "stream",
          "text": [
            "accuracy:   0.950\n"
          ],
          "name": "stdout"
        },
        {
          "output_type": "execute_result",
          "data": {
            "text/plain": [
              "array([[3230,  160],\n",
              "       [ 141, 2504]])"
            ]
          },
          "metadata": {
            "tags": []
          },
          "execution_count": 85
        }
      ]
    },
    {
      "cell_type": "code",
      "metadata": {
        "id": "3x0MvEObYtiO"
      },
      "source": [
        "classifier=MultinomialNB(alpha=0.1)"
      ],
      "execution_count": 86,
      "outputs": []
    },
    {
      "cell_type": "code",
      "metadata": {
        "colab": {
          "base_uri": "https://localhost:8080/"
        },
        "id": "CNhoexqgY17j",
        "outputId": "e5ec0cc6-6127-4cd5-80ec-9ed5fc75f6d4"
      },
      "source": [
        "previous_score=0\n",
        "for alpha in np.arange(0,1,0.1):\n",
        "    sub_classifier=MultinomialNB(alpha=alpha)\n",
        "    sub_classifier.fit(X_train,y_train)\n",
        "    y_pred=sub_classifier.predict(X_test)\n",
        "    score = metrics.accuracy_score(y_test, y_pred)\n",
        "    if score>previous_score:\n",
        "        classifier=sub_classifier\n",
        "    print(\"Alpha: {}, Score : {}\".format(alpha,score))"
      ],
      "execution_count": 87,
      "outputs": [
        {
          "output_type": "stream",
          "text": [
            "/usr/local/lib/python3.6/dist-packages/sklearn/naive_bayes.py:507: UserWarning: alpha too small will result in numeric errors, setting alpha = 1.0e-10\n",
            "  'setting alpha = %.1e' % _ALPHA_MIN)\n"
          ],
          "name": "stderr"
        },
        {
          "output_type": "stream",
          "text": [
            "Alpha: 0.0, Score : 0.8992543496271748\n",
            "Alpha: 0.1, Score : 0.8977630488815245\n",
            "Alpha: 0.2, Score : 0.8975973487986744\n",
            "Alpha: 0.30000000000000004, Score : 0.8975973487986744\n",
            "Alpha: 0.4, Score : 0.8975973487986744\n",
            "Alpha: 0.5, Score : 0.8975973487986744\n",
            "Alpha: 0.6000000000000001, Score : 0.8975973487986744\n",
            "Alpha: 0.7000000000000001, Score : 0.8975973487986744\n",
            "Alpha: 0.8, Score : 0.8975973487986744\n",
            "Alpha: 0.9, Score : 0.8977630488815245\n"
          ],
          "name": "stdout"
        }
      ]
    },
    {
      "cell_type": "code",
      "metadata": {
        "id": "_feJw6NWY6_9"
      },
      "source": [
        "feature_names = cv.get_feature_names()"
      ],
      "execution_count": 88,
      "outputs": []
    },
    {
      "cell_type": "code",
      "metadata": {
        "colab": {
          "base_uri": "https://localhost:8080/"
        },
        "id": "iYcAVZoBZBVu",
        "outputId": "f72ddabe-b6b1-4d33-d603-48132ecfed17"
      },
      "source": [
        "linear_clf.coef_[0]"
      ],
      "execution_count": 89,
      "outputs": [
        {
          "output_type": "execute_result",
          "data": {
            "text/plain": [
              "array([-0.00645714, -0.04301443,  0.00921858, ..., -0.06300474,\n",
              "        0.12124964,  0.04258483])"
            ]
          },
          "metadata": {
            "tags": []
          },
          "execution_count": 89
        }
      ]
    },
    {
      "cell_type": "code",
      "metadata": {
        "colab": {
          "base_uri": "https://localhost:8080/"
        },
        "id": "3SMc82RoZRGd",
        "outputId": "a08e2ab2-f020-40e4-e3d9-135389ed5581"
      },
      "source": [
        "sorted(zip(linear_clf.coef_[0], feature_names), reverse=True)[:20]"
      ],
      "execution_count": 90,
      "outputs": [
        {
          "output_type": "execute_result",
          "data": {
            "text/plain": [
              "[(0.7989926682571206, 'anti'),\n",
              " (0.7923446685611679, 'octob'),\n",
              " (0.534209595720022, 'non'),\n",
              " (0.5160306662977858, 'co'),\n",
              " (0.4878448431598045, 'novemb'),\n",
              " (0.4636199616156356, 'self'),\n",
              " (0.45715083255720246, 'year old'),\n",
              " (0.4453181678301757, 'click'),\n",
              " (0.3891130337204917, 'presid elect'),\n",
              " (0.3877924067352908, 'howev'),\n",
              " (0.38476318572983764, 'hillari'),\n",
              " (0.3467425827564658, 'via'),\n",
              " (0.34669869394730896, 'sourc'),\n",
              " (0.3462326644326611, 'print'),\n",
              " (0.310253874199155, 'al'),\n",
              " (0.2920621318631994, 'twitter com'),\n",
              " (0.2877052728626955, 'jew'),\n",
              " (0.2875830249250041, 'com'),\n",
              " (0.2801297724523949, 'giuliani'),\n",
              " (0.268497331865988, 'share')]"
            ]
          },
          "metadata": {
            "tags": []
          },
          "execution_count": 90
        }
      ]
    },
    {
      "cell_type": "markdown",
      "metadata": {
        "id": "BRnK9tU1dX5-"
      },
      "source": [
        "It can be observed that taking input as news giving good accuracy score and predictions are also better when confusion matrix is observed. passive aggresive classifier is giving accuracy of 95 % with news than headline used as input which is giving 92%."
      ]
    }
  ]
}