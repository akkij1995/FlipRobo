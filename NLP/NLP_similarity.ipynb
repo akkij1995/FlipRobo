{
 "cells": [
  {
   "cell_type": "code",
   "execution_count": 3,
   "metadata": {},
   "outputs": [],
   "source": [
    "import nltk\n",
    "\n",
    "from gensim.models import Word2Vec\n",
    "from nltk.corpus import stopwords\n",
    "import matplotlib.pyplot as plt\n",
    "%matplotlib inline\n",
    "import re"
   ]
  },
  {
   "cell_type": "code",
   "execution_count": 4,
   "metadata": {},
   "outputs": [],
   "source": [
    "paragraph = \"\"\"Many studies have demonstrated the advantages of advanced materials in the field of wind turbine blades. Materials with certain\n",
    "desired properties like, low weight to reduce gravitational forces, high strength to withstand wind force and gravitational force of\n",
    "the blade, high fatigue resistance to withstand cyclic load, high stiffness to ensure stability of the optimal shape, are studied and\n",
    "reviewed in this paper. It is observed that Composites reinforced with Nano materials exhibit good mechanical properties, Carbon\n",
    "nanotubes are allotropes of carbon with a nanostructure that can have an aspect ratio greater than 1,000,000. These cylindrical\n",
    "carbon molecules have special properties that make them potentially useful in wind turbine blades. Carbon nano tubes can be\n",
    "reinforced with different types of resins to exhibit different properties, which is studied in this work and compared with existing\n",
    "materials used in wind turbine blades. Therefore, the objective of this study is to find a suitable material for wind turbine blade\n",
    "application. In present wind turbine industries studies are carried out to increase the efficiency of the wind turbine. This leads\n",
    "to new innovative wind turbine blade design with advanced material system (Fig. 1), for the development of future\n",
    "wind turbine blade structure. The alternate material system with better properties such as low density, longer life,\n",
    "higher performance, ease of processing, capability of recycling, less expensive than the current thermoset\n",
    "technology is under investigation. The blade structure with this material system leads to an optimal aerodynamic\n",
    "performances, reduce gravity forces and reduce material degradation during its operational stage, leading to better\n",
    "life-cycle. To fulfill this need advanced wind blade which possess adequate stiffness, strength and extended fatigue\n",
    "resistance are desired.Composite materials used for wind turbine blade are fiber reinforced polymers, variation in fiber and polymer\n",
    "gives the combinations different properties, studies carried out to find the properties of fiber reinforced polymer\n",
    "with different composition. In present production, fiber used is carbon and glass fibers, and thermoset polymer\n",
    "because of its strength advantage, but the recycling of these materials makes it complicated issues [1]. Introduction\n",
    "of advanced materials like natural composites with high specific strength, low material cost, light weight,\n",
    "recyclability, easy of manufacturing properties makes it a better option than the present synthetic composites [2-10].\n",
    "Composites with thermoplastic polymer make the material eco-friendly, bio- degradable material, processing of this\n",
    "material is complex compared to the thermoset polymer composite [11,23]. Combination of one or more fiber\n",
    "material in one composite makes it a hybrid composite material with additional advanced properties when compare\n",
    "to single material fiber composite, bonding parameter of these different fibers and resin makes a large influence on\n",
    "the combination [12-14]. Incorporation of nano materials in the composite, gives the combination an advanced\n",
    "properties, so nano-composite with light weight, high strength, and other smart properties makes it a desired\n",
    "material system for wind turbine blade [15-21].\n",
    "This article focus on the advantages and disadvantages of all the types of material mentioned above, review the\n",
    "processing criteria, mechanical properties especially static compression and fatigue properties of the material\n",
    "system. Material system selected for wind turbine blade construction should posses static compression and fatigue\n",
    "properties more than glass/polyester system. The material system used in present wind turbine blade has good mechanical properties but posses non biodegradable properties which affects the environment drastically. The recent expansion in wind energy generation\n",
    "leads to more number of wind turbine across the world, which created a large waste disposal issue due to non biodegradability of the material.\n",
    "R. Cherrington et al. [1] discussed the producer’s responsibility towards waste disposal of wind turbine blade.\n",
    "Land filled waste disposal is no longer accepted due to its high organic content in blade which is hazardous to the\n",
    "environment, hence it is required to find an alternate end of life routes. The study suggest that better solution for this\n",
    "problem is to find a material system with recyclability, in this closed loop recycling the fibers are captured and\n",
    "processed back to blades. Recycled carbon fiber suppliers face difficulties in sustaining economically in the market,\n",
    "hence ease of recycling synthetic material is troublesome. The study on economic factor of recycling of CF shows as\n",
    "the percentage of recyclate CF increases, savings increases until a limit to cost of recycled CF (Fig. 2). More\n",
    "research on recycling process of carbon fiber need to be carried out to reduce the cost of recyclate CF.The challenge for a blade designer is to find a suitable material for wind turbine blade, which posses both\n",
    "performance and weight reduction with cost effectiveness. Advanced material system with high specific mechanical\n",
    "property, eco-friendly, bio-degradable characteristics are reviewed and its pros and cons are explained in the\n",
    "upcoming sections. Natural fiber have become a popular reinforcement for FRP’s, because of its desired properties likes low cost,\n",
    "fairly mechanical properties, high specific strength, nonabrasive, bio-degradable, and eco-friendly characteristics.\n",
    "There are different types of natural fibers extracted from plants, animals, and minerals. Fig. 3 shows the\n",
    "classification of natural fibers.  Bamboo is a material with high potential for reinforcement in fiber reinforced polymer, it has 60% of cellulose\n",
    "with high content of lignin this characteristic property make bamboo fibers a reinforcement in various polymer\n",
    "matrices. J.W. Holmes et al. [7] compared bamboo and wood vaneer laminate with birch and glass laminate\n",
    "mechanical property, bamboo and wood vaneer laminate exhibit better strength, fatigue life and fracture resistance,\n",
    "than birch laminate, and the characteristics were in par with glass reinforced polymer laminate. Honey Banga et al. [6] demonstrated that 30% of bamboo in the laminate exhibit optimal mechanical property,\n",
    "and observed particulate filled bamboo reinforced polymer had less water absorption than unfilled bamboo\n",
    "reinforced polymer. Yinyao Qin et al. [2] studied the properties of bamboo material and experimented life cycle\n",
    "analysis to compare the performance between bamboo turbine blade and glass fiber turbine blade. The results\n",
    "concluded bamboo material fulfilled the requirement of wind turbine blade.\n",
    "Bakri et al. [3] examined the mechanical properties (tensile, impact, shear, flexural and compression strength) of\n",
    "coir fiber composite, results concluded that its properties are similar to wood properties, but inferior to glass fiber\n",
    "composite. And observed environmental effect on the coir fiber composite, results shows the diminishing of\n",
    "mechanical properties of coir fiber composite with increasing weathering time.\n",
    "Nottingham University, UK developed a Flax fiber wind turbine blade with 3.5 meter long, it was made of\n",
    "600GSM flax biaxial +/- 45̊. It passed the IEC61400 norm making it a real success [9]. Flax fiber posses high\n",
    "specific strength compared to other natural fibers, better mechanical properties with combination of polymer [10].\n",
    "A.A Abdul Nasir et al. [8] analysed the effect of machining on flax fiber, results shows due to high cellulose content\n",
    "of the flax fiber, Delamination occurs due to fiber brittle fracture, which is a disadvantage of using a natural fiber\n",
    "composites in wind turbine blade.\n",
    "Since moisture absorption is a major drawback in this material, reinforcement fiber treatment such as sizing is\n",
    "required. Sizing improves the wettability of the fiber surface to bond with the polymer, which helps in effective\n",
    "transfer of stresses between the fiber and resin [5]. Wind turbine industries now a day’s use thermoset polymer because of its high strength, stiffness, ease of\n",
    "processing characteristics. The drawbacks with these blades include styrene emission while processing, and disposal\n",
    "issue after life cycle of the blade. Thermoplastic polymers can be recycled and repaired due to its phase changing\n",
    "property with respect to rise in temperature. K. Vijaya Kumar et al. [11] compared the mechanical properties of fiber\n",
    "reinforced polypropylene with fiber reinforced epoxy. They concluded that the thermoplastic FRP have 7 to 8 times\n",
    "less strength compared to thermoset FRP, but use of alternate thermoplastic materials like polyetherimide (PEI),\n",
    "Polyetheretherketone (PEEK), polyphenylene sulphide (PPS) exhibit better strength properties.\n",
    "Anionic polyamide-6 (APA-6) possess better static and fatigue properties, which is a major requirement for wind\n",
    "turbine blade. Other advantages like low cost of resin and recycling make this an economically efficient material for\n",
    "wind turbine blade application [21]. For the light weight demand of wind turbine blade, research on hybrid composite materials is prevalent. Pietro\n",
    "Bortolotti et al. [12] analysed the scope of carbon glass hybrid composites in wind turbine blade application, they\n",
    "compared the hybrid laminate with carbon and glass laminates, and concludes that hybrid material exhibits positive\n",
    "behaviour under static tensile and fatigue loads. The disadvantage of this hybrid composite is conversion of high\n",
    "carbon fiber properties like stiffness, strength and fatigue behaviour to composite properties.\n",
    "Girisha K.G et al. [14] compared the properties of polyester matrix with epoxy resin matrix, which are reinforced\n",
    "with hemp and jute natural fibers, the experimental results prove that polyester resin system with hemp and jute\n",
    "reinforcement have more tensile, flexural and impact strength than epoxy resin matrix system.\n",
    "Natural fiber reinforced hybrid composites exhibits properties which s suitable for light weight and low load\n",
    "application. Further treatment can increase the adhesion between the fiber and matrix [13]. Selected area of the\n",
    "blade should be hybridized with the natural fiber materials due to its low load bearing capacity. Carbon nanotubes dispersed uniformly in the resin offers advantages like high stiffness and toughness, compared\n",
    "to pristine resin. Their properties and performance are directly related to the size, structure and interfacial\n",
    "interactions [18-19]. It exhibits a Young’s moduli of 1TPa and Tensile strength of 200GPa, which makes it a\n",
    "strongest and stiffest material among the material system [15].CNT tends to agglomerate due to the strong bonds\n",
    "between the layers, which leads to poor dispersion and instability in the polymer matrix. Methods like sonication,\n",
    "surface modification, covalent functionalization and non-covalent modification using small molecules and polymer\n",
    "dispersants are used to overcome poor dispersion and instability.\n",
    "Marcio Loos et al. [16] studied the mechanical properties of vinyl ester and epoxy resin dispersed with CNT, the\n",
    "results shows that MWCNT dispersed in vinyl ester possess better properties than epoxy polymer system, they also\n",
    "found that B60H dispersion agent increases the tensile strength of the CNT in vinyl ester composite, and also resist\n",
    "CNT agglomerate for a minimum of 50 hours. Long term stable suspension of MWCNT in thermoset resin increases\n",
    "the use of CNT in wind turbine blade application.\n",
    "Jingting Yang [15] analysed the effect of MWCNT concentration in vinyl ester polymer system, results shows\n",
    "vinyl ester composites containing CNT concentration of 0.1% wt, with B60H dispersion agent, and post cured for 6\n",
    "hours at 90 C, exhibit better properties compared to other composition. ̊\n",
    "Marcio Loos et al. [17] compared pure epoxy with CNT/epoxy composites in static and dynamic test at different\n",
    "load conditions; they conclude that at 25Mpa load condition CNT/epoxy exhibit better fracture toughness, and\n",
    "fatigue resistance.\n",
    "To overcome the disadvantage of poor dispersion Hardhik Bhanushali et al. [20] fabricated a woven glass fiber\n",
    "composite with aligned carbon nanotubes sheet interlayer’s. Wind turbine blade with CNT reinforced polyurethane\n",
    "composite have been fabricated and tested, it shows a better result when compared to conventional wind turbine\n",
    "blade material system. This article presents a critical review of advanced materials used for wind turbine blades. Materials considered in\n",
    "this article are with advanced properties with respect to wind turbine blade, increase in strength with reduced weight\n",
    "is the advancement in the field of wind turbine blade. Advantages and disadvantages of these materials are explained\n",
    "to give the insight properties of the materials. Advancement with respect to environmental factors leads to\n",
    "thermoplastic and natural bio-composite materials in wind turbine blades. When strength and density factors are\n",
    "considered CNT reinforced composite optimizes the material system. CNT composites can further be developed\n",
    "with better properties like hybridization with natural fibers for an eco-friendly material with high strength, low\n",
    "weight characters which makes it a suitable advanced material for wind turbine blade. \"\"\""
   ]
  },
  {
   "cell_type": "code",
   "execution_count": 9,
   "metadata": {},
   "outputs": [],
   "source": [
    "text = re.sub(r'\\[[0-9]*\\]',' ',paragraph)\n",
    "text = re.sub(r'\\s+',' ',text)\n",
    "\n",
    "text = text.lower()\n",
    "\n",
    "text = re.sub(r'\\d',' ',text)\n",
    "text = re.sub(r'\\s+',' ',text)"
   ]
  },
  {
   "cell_type": "code",
   "execution_count": 6,
   "metadata": {},
   "outputs": [
    {
     "data": {
      "text/plain": [
       "'many studies have demonstrated the advantages of advanced materials in the field of wind turbine blades. materials with certain desired properties like, low weight to reduce gravitational forces, high strength to withstand wind force and gravitational force of the blade, high fatigue resistance to withstand cyclic load, high stiffness to ensure stability of the optimal shape, are studied and reviewed in this paper. it is observed that composites reinforced with nano materials exhibit good mechanical properties, carbon nanotubes are allotropes of carbon with a nanostructure that can have an aspect ratio greater than , , . these cylindrical carbon molecules have special properties that make them potentially useful in wind turbine blades. carbon nano tubes can be reinforced with different types of resins to exhibit different properties, which is studied in this work and compared with existing materials used in wind turbine blades. therefore, the objective of this study is to find a suitable material for wind turbine blade application. in present wind turbine industries studies are carried out to increase the efficiency of the wind turbine. this leads to new innovative wind turbine blade design with advanced material system (fig. ), for the development of future wind turbine blade structure. the alternate material system with better properties such as low density, longer life, higher performance, ease of processing, capability of recycling, less expensive than the current thermoset technology is under investigation. the blade structure with this material system leads to an optimal aerodynamic performances, reduce gravity forces and reduce material degradation during its operational stage, leading to better life-cycle. to fulfill this need advanced wind blade which possess adequate stiffness, strength and extended fatigue resistance are desired.composite materials used for wind turbine blade are fiber reinforced polymers, variation in fiber and polymer gives the combinations different properties, studies carried out to find the properties of fiber reinforced polymer with different composition. in present production, fiber used is carbon and glass fibers, and thermoset polymer because of its strength advantage, but the recycling of these materials makes it complicated issues . introduction of advanced materials like natural composites with high specific strength, low material cost, light weight, recyclability, easy of manufacturing properties makes it a better option than the present synthetic composites [ - ]. composites with thermoplastic polymer make the material eco-friendly, bio- degradable material, processing of this material is complex compared to the thermoset polymer composite [ , ]. combination of one or more fiber material in one composite makes it a hybrid composite material with additional advanced properties when compare to single material fiber composite, bonding parameter of these different fibers and resin makes a large influence on the combination [ - ]. incorporation of nano materials in the composite, gives the combination an advanced properties, so nano-composite with light weight, high strength, and other smart properties makes it a desired material system for wind turbine blade [ - ]. this article focus on the advantages and disadvantages of all the types of material mentioned above, review the processing criteria, mechanical properties especially static compression and fatigue properties of the material system. material system selected for wind turbine blade construction should posses static compression and fatigue properties more than glass/polyester system. the material system used in present wind turbine blade has good mechanical properties but posses non biodegradable properties which affects the environment drastically. the recent expansion in wind energy generation leads to more number of wind turbine across the world, which created a large waste disposal issue due to non biodegradability of the material. r. cherrington et al. discussed the producer’s responsibility towards waste disposal of wind turbine blade. land filled waste disposal is no longer accepted due to its high organic content in blade which is hazardous to the environment, hence it is required to find an alternate end of life routes. the study suggest that better solution for this problem is to find a material system with recyclability, in this closed loop recycling the fibers are captured and processed back to blades. recycled carbon fiber suppliers face difficulties in sustaining economically in the market, hence ease of recycling synthetic material is troublesome. the study on economic factor of recycling of cf shows as the percentage of recyclate cf increases, savings increases until a limit to cost of recycled cf (fig. ). more research on recycling process of carbon fiber need to be carried out to reduce the cost of recyclate cf.the challenge for a blade designer is to find a suitable material for wind turbine blade, which posses both performance and weight reduction with cost effectiveness. advanced material system with high specific mechanical property, eco-friendly, bio-degradable characteristics are reviewed and its pros and cons are explained in the upcoming sections. natural fiber have become a popular reinforcement for frp’s, because of its desired properties likes low cost, fairly mechanical properties, high specific strength, nonabrasive, bio-degradable, and eco-friendly characteristics. there are different types of natural fibers extracted from plants, animals, and minerals. fig. shows the classification of natural fibers. bamboo is a material with high potential for reinforcement in fiber reinforced polymer, it has % of cellulose with high content of lignin this characteristic property make bamboo fibers a reinforcement in various polymer matrices. j.w. holmes et al. compared bamboo and wood vaneer laminate with birch and glass laminate mechanical property, bamboo and wood vaneer laminate exhibit better strength, fatigue life and fracture resistance, than birch laminate, and the characteristics were in par with glass reinforced polymer laminate. honey banga et al. demonstrated that % of bamboo in the laminate exhibit optimal mechanical property, and observed particulate filled bamboo reinforced polymer had less water absorption than unfilled bamboo reinforced polymer. yinyao qin et al. studied the properties of bamboo material and experimented life cycle analysis to compare the performance between bamboo turbine blade and glass fiber turbine blade. the results concluded bamboo material fulfilled the requirement of wind turbine blade. bakri et al. examined the mechanical properties (tensile, impact, shear, flexural and compression strength) of coir fiber composite, results concluded that its properties are similar to wood properties, but inferior to glass fiber composite. and observed environmental effect on the coir fiber composite, results shows the diminishing of mechanical properties of coir fiber composite with increasing weathering time. nottingham university, uk developed a flax fiber wind turbine blade with . meter long, it was made of gsm flax biaxial +/- ̊. it passed the iec norm making it a real success . flax fiber posses high specific strength compared to other natural fibers, better mechanical properties with combination of polymer . a.a abdul nasir et al. analysed the effect of machining on flax fiber, results shows due to high cellulose content of the flax fiber, delamination occurs due to fiber brittle fracture, which is a disadvantage of using a natural fiber composites in wind turbine blade. since moisture absorption is a major drawback in this material, reinforcement fiber treatment such as sizing is required. sizing improves the wettability of the fiber surface to bond with the polymer, which helps in effective transfer of stresses between the fiber and resin . wind turbine industries now a day’s use thermoset polymer because of its high strength, stiffness, ease of processing characteristics. the drawbacks with these blades include styrene emission while processing, and disposal issue after life cycle of the blade. thermoplastic polymers can be recycled and repaired due to its phase changing property with respect to rise in temperature. k. vijaya kumar et al. compared the mechanical properties of fiber reinforced polypropylene with fiber reinforced epoxy. they concluded that the thermoplastic frp have to times less strength compared to thermoset frp, but use of alternate thermoplastic materials like polyetherimide (pei), polyetheretherketone (peek), polyphenylene sulphide (pps) exhibit better strength properties. anionic polyamide- (apa- ) possess better static and fatigue properties, which is a major requirement for wind turbine blade. other advantages like low cost of resin and recycling make this an economically efficient material for wind turbine blade application . for the light weight demand of wind turbine blade, research on hybrid composite materials is prevalent. pietro bortolotti et al. analysed the scope of carbon glass hybrid composites in wind turbine blade application, they compared the hybrid laminate with carbon and glass laminates, and concludes that hybrid material exhibits positive behaviour under static tensile and fatigue loads. the disadvantage of this hybrid composite is conversion of high carbon fiber properties like stiffness, strength and fatigue behaviour to composite properties. girisha k.g et al. compared the properties of polyester matrix with epoxy resin matrix, which are reinforced with hemp and jute natural fibers, the experimental results prove that polyester resin system with hemp and jute reinforcement have more tensile, flexural and impact strength than epoxy resin matrix system. natural fiber reinforced hybrid composites exhibits properties which s suitable for light weight and low load application. further treatment can increase the adhesion between the fiber and matrix . selected area of the blade should be hybridized with the natural fiber materials due to its low load bearing capacity. carbon nanotubes dispersed uniformly in the resin offers advantages like high stiffness and toughness, compared to pristine resin. their properties and performance are directly related to the size, structure and interfacial interactions [ - ]. it exhibits a young’s moduli of tpa and tensile strength of gpa, which makes it a strongest and stiffest material among the material system .cnt tends to agglomerate due to the strong bonds between the layers, which leads to poor dispersion and instability in the polymer matrix. methods like sonication, surface modification, covalent functionalization and non-covalent modification using small molecules and polymer dispersants are used to overcome poor dispersion and instability. marcio loos et al. studied the mechanical properties of vinyl ester and epoxy resin dispersed with cnt, the results shows that mwcnt dispersed in vinyl ester possess better properties than epoxy polymer system, they also found that b h dispersion agent increases the tensile strength of the cnt in vinyl ester composite, and also resist cnt agglomerate for a minimum of hours. long term stable suspension of mwcnt in thermoset resin increases the use of cnt in wind turbine blade application. jingting yang analysed the effect of mwcnt concentration in vinyl ester polymer system, results shows vinyl ester composites containing cnt concentration of . % wt, with b h dispersion agent, and post cured for hours at c, exhibit better properties compared to other composition. ̊ marcio loos et al. compared pure epoxy with cnt/epoxy composites in static and dynamic test at different load conditions; they conclude that at mpa load condition cnt/epoxy exhibit better fracture toughness, and fatigue resistance. to overcome the disadvantage of poor dispersion hardhik bhanushali et al. fabricated a woven glass fiber composite with aligned carbon nanotubes sheet interlayer’s. wind turbine blade with cnt reinforced polyurethane composite have been fabricated and tested, it shows a better result when compared to conventional wind turbine blade material system. this article presents a critical review of advanced materials used for wind turbine blades. materials considered in this article are with advanced properties with respect to wind turbine blade, increase in strength with reduced weight is the advancement in the field of wind turbine blade. advantages and disadvantages of these materials are explained to give the insight properties of the materials. advancement with respect to environmental factors leads to thermoplastic and natural bio-composite materials in wind turbine blades. when strength and density factors are considered cnt reinforced composite optimizes the material system. cnt composites can further be developed with better properties like hybridization with natural fibers for an eco-friendly material with high strength, low weight characters which makes it a suitable advanced material for wind turbine blade. '"
      ]
     },
     "execution_count": 6,
     "metadata": {},
     "output_type": "execute_result"
    }
   ],
   "source": [
    "text"
   ]
  },
  {
   "cell_type": "code",
   "execution_count": 10,
   "metadata": {},
   "outputs": [
    {
     "data": {
      "text/plain": [
       "['many studies have demonstrated the advantages of advanced materials in the field of wind turbine blades.',\n",
       " 'materials with certain desired properties like, low weight to reduce gravitational forces, high strength to withstand wind force and gravitational force of the blade, high fatigue resistance to withstand cyclic load, high stiffness to ensure stability of the optimal shape, are studied and reviewed in this paper.',\n",
       " 'it is observed that composites reinforced with nano materials exhibit good mechanical properties, carbon nanotubes are allotropes of carbon with a nanostructure that can have an aspect ratio greater than , , .',\n",
       " 'these cylindrical carbon molecules have special properties that make them potentially useful in wind turbine blades.',\n",
       " 'carbon nano tubes can be reinforced with different types of resins to exhibit different properties, which is studied in this work and compared with existing materials used in wind turbine blades.',\n",
       " 'therefore, the objective of this study is to find a suitable material for wind turbine blade application.',\n",
       " 'in present wind turbine industries studies are carried out to increase the efficiency of the wind turbine.',\n",
       " 'this leads to new innovative wind turbine blade design with advanced material system (fig.',\n",
       " '), for the development of future wind turbine blade structure.',\n",
       " 'the alternate material system with better properties such as low density, longer life, higher performance, ease of processing, capability of recycling, less expensive than the current thermoset technology is under investigation.',\n",
       " 'the blade structure with this material system leads to an optimal aerodynamic performances, reduce gravity forces and reduce material degradation during its operational stage, leading to better life-cycle.',\n",
       " 'to fulfill this need advanced wind blade which possess adequate stiffness, strength and extended fatigue resistance are desired.composite materials used for wind turbine blade are fiber reinforced polymers, variation in fiber and polymer gives the combinations different properties, studies carried out to find the properties of fiber reinforced polymer with different composition.',\n",
       " 'in present production, fiber used is carbon and glass fibers, and thermoset polymer because of its strength advantage, but the recycling of these materials makes it complicated issues .',\n",
       " 'introduction of advanced materials like natural composites with high specific strength, low material cost, light weight, recyclability, easy of manufacturing properties makes it a better option than the present synthetic composites [ - ].',\n",
       " 'composites with thermoplastic polymer make the material eco-friendly, bio- degradable material, processing of this material is complex compared to the thermoset polymer composite [ , ].',\n",
       " 'combination of one or more fiber material in one composite makes it a hybrid composite material with additional advanced properties when compare to single material fiber composite, bonding parameter of these different fibers and resin makes a large influence on the combination [ - ].',\n",
       " 'incorporation of nano materials in the composite, gives the combination an advanced properties, so nano-composite with light weight, high strength, and other smart properties makes it a desired material system for wind turbine blade [ - ].',\n",
       " 'this article focus on the advantages and disadvantages of all the types of material mentioned above, review the processing criteria, mechanical properties especially static compression and fatigue properties of the material system.',\n",
       " 'material system selected for wind turbine blade construction should posses static compression and fatigue properties more than glass/polyester system.',\n",
       " 'the material system used in present wind turbine blade has good mechanical properties but posses non biodegradable properties which affects the environment drastically.',\n",
       " 'the recent expansion in wind energy generation leads to more number of wind turbine across the world, which created a large waste disposal issue due to non biodegradability of the material.',\n",
       " 'r. cherrington et al.',\n",
       " 'discussed the producer’s responsibility towards waste disposal of wind turbine blade.',\n",
       " 'land filled waste disposal is no longer accepted due to its high organic content in blade which is hazardous to the environment, hence it is required to find an alternate end of life routes.',\n",
       " 'the study suggest that better solution for this problem is to find a material system with recyclability, in this closed loop recycling the fibers are captured and processed back to blades.',\n",
       " 'recycled carbon fiber suppliers face difficulties in sustaining economically in the market, hence ease of recycling synthetic material is troublesome.',\n",
       " 'the study on economic factor of recycling of cf shows as the percentage of recyclate cf increases, savings increases until a limit to cost of recycled cf (fig.',\n",
       " ').',\n",
       " 'more research on recycling process of carbon fiber need to be carried out to reduce the cost of recyclate cf.the challenge for a blade designer is to find a suitable material for wind turbine blade, which posses both performance and weight reduction with cost effectiveness.',\n",
       " 'advanced material system with high specific mechanical property, eco-friendly, bio-degradable characteristics are reviewed and its pros and cons are explained in the upcoming sections.',\n",
       " 'natural fiber have become a popular reinforcement for frp’s, because of its desired properties likes low cost, fairly mechanical properties, high specific strength, nonabrasive, bio-degradable, and eco-friendly characteristics.',\n",
       " 'there are different types of natural fibers extracted from plants, animals, and minerals.',\n",
       " 'fig.',\n",
       " 'shows the classification of natural fibers.',\n",
       " 'bamboo is a material with high potential for reinforcement in fiber reinforced polymer, it has % of cellulose with high content of lignin this characteristic property make bamboo fibers a reinforcement in various polymer matrices.',\n",
       " 'j.w.',\n",
       " 'holmes et al.',\n",
       " 'compared bamboo and wood vaneer laminate with birch and glass laminate mechanical property, bamboo and wood vaneer laminate exhibit better strength, fatigue life and fracture resistance, than birch laminate, and the characteristics were in par with glass reinforced polymer laminate.',\n",
       " 'honey banga et al.',\n",
       " 'demonstrated that % of bamboo in the laminate exhibit optimal mechanical property, and observed particulate filled bamboo reinforced polymer had less water absorption than unfilled bamboo reinforced polymer.',\n",
       " 'yinyao qin et al.',\n",
       " 'studied the properties of bamboo material and experimented life cycle analysis to compare the performance between bamboo turbine blade and glass fiber turbine blade.',\n",
       " 'the results concluded bamboo material fulfilled the requirement of wind turbine blade.',\n",
       " 'bakri et al.',\n",
       " 'examined the mechanical properties (tensile, impact, shear, flexural and compression strength) of coir fiber composite, results concluded that its properties are similar to wood properties, but inferior to glass fiber composite.',\n",
       " 'and observed environmental effect on the coir fiber composite, results shows the diminishing of mechanical properties of coir fiber composite with increasing weathering time.',\n",
       " 'nottingham university, uk developed a flax fiber wind turbine blade with .',\n",
       " 'meter long, it was made of gsm flax biaxial +/- ̊.',\n",
       " 'it passed the iec norm making it a real success .',\n",
       " 'flax fiber posses high specific strength compared to other natural fibers, better mechanical properties with combination of polymer .',\n",
       " 'a.a abdul nasir et al.',\n",
       " 'analysed the effect of machining on flax fiber, results shows due to high cellulose content of the flax fiber, delamination occurs due to fiber brittle fracture, which is a disadvantage of using a natural fiber composites in wind turbine blade.',\n",
       " 'since moisture absorption is a major drawback in this material, reinforcement fiber treatment such as sizing is required.',\n",
       " 'sizing improves the wettability of the fiber surface to bond with the polymer, which helps in effective transfer of stresses between the fiber and resin .',\n",
       " 'wind turbine industries now a day’s use thermoset polymer because of its high strength, stiffness, ease of processing characteristics.',\n",
       " 'the drawbacks with these blades include styrene emission while processing, and disposal issue after life cycle of the blade.',\n",
       " 'thermoplastic polymers can be recycled and repaired due to its phase changing property with respect to rise in temperature.',\n",
       " 'k. vijaya kumar et al.',\n",
       " 'compared the mechanical properties of fiber reinforced polypropylene with fiber reinforced epoxy.',\n",
       " 'they concluded that the thermoplastic frp have to times less strength compared to thermoset frp, but use of alternate thermoplastic materials like polyetherimide (pei), polyetheretherketone (peek), polyphenylene sulphide (pps) exhibit better strength properties.',\n",
       " 'anionic polyamide- (apa- ) possess better static and fatigue properties, which is a major requirement for wind turbine blade.',\n",
       " 'other advantages like low cost of resin and recycling make this an economically efficient material for wind turbine blade application .',\n",
       " 'for the light weight demand of wind turbine blade, research on hybrid composite materials is prevalent.',\n",
       " 'pietro bortolotti et al.',\n",
       " 'analysed the scope of carbon glass hybrid composites in wind turbine blade application, they compared the hybrid laminate with carbon and glass laminates, and concludes that hybrid material exhibits positive behaviour under static tensile and fatigue loads.',\n",
       " 'the disadvantage of this hybrid composite is conversion of high carbon fiber properties like stiffness, strength and fatigue behaviour to composite properties.',\n",
       " 'girisha k.g et al.',\n",
       " 'compared the properties of polyester matrix with epoxy resin matrix, which are reinforced with hemp and jute natural fibers, the experimental results prove that polyester resin system with hemp and jute reinforcement have more tensile, flexural and impact strength than epoxy resin matrix system.',\n",
       " 'natural fiber reinforced hybrid composites exhibits properties which s suitable for light weight and low load application.',\n",
       " 'further treatment can increase the adhesion between the fiber and matrix .',\n",
       " 'selected area of the blade should be hybridized with the natural fiber materials due to its low load bearing capacity.',\n",
       " 'carbon nanotubes dispersed uniformly in the resin offers advantages like high stiffness and toughness, compared to pristine resin.',\n",
       " 'their properties and performance are directly related to the size, structure and interfacial interactions [ - ].',\n",
       " 'it exhibits a young’s moduli of tpa and tensile strength of gpa, which makes it a strongest and stiffest material among the material system .cnt tends to agglomerate due to the strong bonds between the layers, which leads to poor dispersion and instability in the polymer matrix.',\n",
       " 'methods like sonication, surface modification, covalent functionalization and non-covalent modification using small molecules and polymer dispersants are used to overcome poor dispersion and instability.',\n",
       " 'marcio loos et al.',\n",
       " 'studied the mechanical properties of vinyl ester and epoxy resin dispersed with cnt, the results shows that mwcnt dispersed in vinyl ester possess better properties than epoxy polymer system, they also found that b h dispersion agent increases the tensile strength of the cnt in vinyl ester composite, and also resist cnt agglomerate for a minimum of hours.',\n",
       " 'long term stable suspension of mwcnt in thermoset resin increases the use of cnt in wind turbine blade application.',\n",
       " 'jingting yang analysed the effect of mwcnt concentration in vinyl ester polymer system, results shows vinyl ester composites containing cnt concentration of .',\n",
       " '% wt, with b h dispersion agent, and post cured for hours at c, exhibit better properties compared to other composition.',\n",
       " '̊ marcio loos et al.',\n",
       " 'compared pure epoxy with cnt/epoxy composites in static and dynamic test at different load conditions; they conclude that at mpa load condition cnt/epoxy exhibit better fracture toughness, and fatigue resistance.',\n",
       " 'to overcome the disadvantage of poor dispersion hardhik bhanushali et al.',\n",
       " 'fabricated a woven glass fiber composite with aligned carbon nanotubes sheet interlayer’s.',\n",
       " 'wind turbine blade with cnt reinforced polyurethane composite have been fabricated and tested, it shows a better result when compared to conventional wind turbine blade material system.',\n",
       " 'this article presents a critical review of advanced materials used for wind turbine blades.',\n",
       " 'materials considered in this article are with advanced properties with respect to wind turbine blade, increase in strength with reduced weight is the advancement in the field of wind turbine blade.',\n",
       " 'advantages and disadvantages of these materials are explained to give the insight properties of the materials.',\n",
       " 'advancement with respect to environmental factors leads to thermoplastic and natural bio-composite materials in wind turbine blades.',\n",
       " 'when strength and density factors are considered cnt reinforced composite optimizes the material system.',\n",
       " 'cnt composites can further be developed with better properties like hybridization with natural fibers for an eco-friendly material with high strength, low weight characters which makes it a suitable advanced material for wind turbine blade.']"
      ]
     },
     "execution_count": 10,
     "metadata": {},
     "output_type": "execute_result"
    }
   ],
   "source": [
    "sentences = nltk.sent_tokenize(text)\n",
    "sentences"
   ]
  },
  {
   "cell_type": "code",
   "execution_count": 11,
   "metadata": {},
   "outputs": [],
   "source": [
    "sent_word = [nltk.word_tokenize(sentence) for sentence in sentences]"
   ]
  },
  {
   "cell_type": "code",
   "execution_count": 12,
   "metadata": {},
   "outputs": [
    {
     "data": {
      "text/plain": [
       "[['many',\n",
       "  'studies',\n",
       "  'have',\n",
       "  'demonstrated',\n",
       "  'the',\n",
       "  'advantages',\n",
       "  'of',\n",
       "  'advanced',\n",
       "  'materials',\n",
       "  'in',\n",
       "  'the',\n",
       "  'field',\n",
       "  'of',\n",
       "  'wind',\n",
       "  'turbine',\n",
       "  'blades',\n",
       "  '.'],\n",
       " ['materials',\n",
       "  'with',\n",
       "  'certain',\n",
       "  'desired',\n",
       "  'properties',\n",
       "  'like',\n",
       "  ',',\n",
       "  'low',\n",
       "  'weight',\n",
       "  'to',\n",
       "  'reduce',\n",
       "  'gravitational',\n",
       "  'forces',\n",
       "  ',',\n",
       "  'high',\n",
       "  'strength',\n",
       "  'to',\n",
       "  'withstand',\n",
       "  'wind',\n",
       "  'force',\n",
       "  'and',\n",
       "  'gravitational',\n",
       "  'force',\n",
       "  'of',\n",
       "  'the',\n",
       "  'blade',\n",
       "  ',',\n",
       "  'high',\n",
       "  'fatigue',\n",
       "  'resistance',\n",
       "  'to',\n",
       "  'withstand',\n",
       "  'cyclic',\n",
       "  'load',\n",
       "  ',',\n",
       "  'high',\n",
       "  'stiffness',\n",
       "  'to',\n",
       "  'ensure',\n",
       "  'stability',\n",
       "  'of',\n",
       "  'the',\n",
       "  'optimal',\n",
       "  'shape',\n",
       "  ',',\n",
       "  'are',\n",
       "  'studied',\n",
       "  'and',\n",
       "  'reviewed',\n",
       "  'in',\n",
       "  'this',\n",
       "  'paper',\n",
       "  '.'],\n",
       " ['it',\n",
       "  'is',\n",
       "  'observed',\n",
       "  'that',\n",
       "  'composites',\n",
       "  'reinforced',\n",
       "  'with',\n",
       "  'nano',\n",
       "  'materials',\n",
       "  'exhibit',\n",
       "  'good',\n",
       "  'mechanical',\n",
       "  'properties',\n",
       "  ',',\n",
       "  'carbon',\n",
       "  'nanotubes',\n",
       "  'are',\n",
       "  'allotropes',\n",
       "  'of',\n",
       "  'carbon',\n",
       "  'with',\n",
       "  'a',\n",
       "  'nanostructure',\n",
       "  'that',\n",
       "  'can',\n",
       "  'have',\n",
       "  'an',\n",
       "  'aspect',\n",
       "  'ratio',\n",
       "  'greater',\n",
       "  'than',\n",
       "  ',',\n",
       "  ',',\n",
       "  '.'],\n",
       " ['these',\n",
       "  'cylindrical',\n",
       "  'carbon',\n",
       "  'molecules',\n",
       "  'have',\n",
       "  'special',\n",
       "  'properties',\n",
       "  'that',\n",
       "  'make',\n",
       "  'them',\n",
       "  'potentially',\n",
       "  'useful',\n",
       "  'in',\n",
       "  'wind',\n",
       "  'turbine',\n",
       "  'blades',\n",
       "  '.'],\n",
       " ['carbon',\n",
       "  'nano',\n",
       "  'tubes',\n",
       "  'can',\n",
       "  'be',\n",
       "  'reinforced',\n",
       "  'with',\n",
       "  'different',\n",
       "  'types',\n",
       "  'of',\n",
       "  'resins',\n",
       "  'to',\n",
       "  'exhibit',\n",
       "  'different',\n",
       "  'properties',\n",
       "  ',',\n",
       "  'which',\n",
       "  'is',\n",
       "  'studied',\n",
       "  'in',\n",
       "  'this',\n",
       "  'work',\n",
       "  'and',\n",
       "  'compared',\n",
       "  'with',\n",
       "  'existing',\n",
       "  'materials',\n",
       "  'used',\n",
       "  'in',\n",
       "  'wind',\n",
       "  'turbine',\n",
       "  'blades',\n",
       "  '.']]"
      ]
     },
     "execution_count": 12,
     "metadata": {},
     "output_type": "execute_result"
    }
   ],
   "source": [
    "sent_word[:5]"
   ]
  },
  {
   "cell_type": "code",
   "execution_count": 13,
   "metadata": {},
   "outputs": [],
   "source": [
    "for i in range(len(sent_word)):\n",
    "    sent_word[i] = [word for word in sent_word[i]\n",
    "                    if word not in stopwords.words('english')]"
   ]
  },
  {
   "cell_type": "code",
   "execution_count": 14,
   "metadata": {},
   "outputs": [
    {
     "data": {
      "text/plain": [
       "[['many',\n",
       "  'studies',\n",
       "  'demonstrated',\n",
       "  'advantages',\n",
       "  'advanced',\n",
       "  'materials',\n",
       "  'field',\n",
       "  'wind',\n",
       "  'turbine',\n",
       "  'blades',\n",
       "  '.'],\n",
       " ['materials',\n",
       "  'certain',\n",
       "  'desired',\n",
       "  'properties',\n",
       "  'like',\n",
       "  ',',\n",
       "  'low',\n",
       "  'weight',\n",
       "  'reduce',\n",
       "  'gravitational',\n",
       "  'forces',\n",
       "  ',',\n",
       "  'high',\n",
       "  'strength',\n",
       "  'withstand',\n",
       "  'wind',\n",
       "  'force',\n",
       "  'gravitational',\n",
       "  'force',\n",
       "  'blade',\n",
       "  ',',\n",
       "  'high',\n",
       "  'fatigue',\n",
       "  'resistance',\n",
       "  'withstand',\n",
       "  'cyclic',\n",
       "  'load',\n",
       "  ',',\n",
       "  'high',\n",
       "  'stiffness',\n",
       "  'ensure',\n",
       "  'stability',\n",
       "  'optimal',\n",
       "  'shape',\n",
       "  ',',\n",
       "  'studied',\n",
       "  'reviewed',\n",
       "  'paper',\n",
       "  '.'],\n",
       " ['observed',\n",
       "  'composites',\n",
       "  'reinforced',\n",
       "  'nano',\n",
       "  'materials',\n",
       "  'exhibit',\n",
       "  'good',\n",
       "  'mechanical',\n",
       "  'properties',\n",
       "  ',',\n",
       "  'carbon',\n",
       "  'nanotubes',\n",
       "  'allotropes',\n",
       "  'carbon',\n",
       "  'nanostructure',\n",
       "  'aspect',\n",
       "  'ratio',\n",
       "  'greater',\n",
       "  ',',\n",
       "  ',',\n",
       "  '.'],\n",
       " ['cylindrical',\n",
       "  'carbon',\n",
       "  'molecules',\n",
       "  'special',\n",
       "  'properties',\n",
       "  'make',\n",
       "  'potentially',\n",
       "  'useful',\n",
       "  'wind',\n",
       "  'turbine',\n",
       "  'blades',\n",
       "  '.'],\n",
       " ['carbon',\n",
       "  'nano',\n",
       "  'tubes',\n",
       "  'reinforced',\n",
       "  'different',\n",
       "  'types',\n",
       "  'resins',\n",
       "  'exhibit',\n",
       "  'different',\n",
       "  'properties',\n",
       "  ',',\n",
       "  'studied',\n",
       "  'work',\n",
       "  'compared',\n",
       "  'existing',\n",
       "  'materials',\n",
       "  'used',\n",
       "  'wind',\n",
       "  'turbine',\n",
       "  'blades',\n",
       "  '.']]"
      ]
     },
     "execution_count": 14,
     "metadata": {},
     "output_type": "execute_result"
    }
   ],
   "source": [
    "sent_word[:5]"
   ]
  },
  {
   "cell_type": "code",
   "execution_count": 15,
   "metadata": {},
   "outputs": [],
   "source": [
    "model = Word2Vec(sent_word, min_count=1)\n",
    "\n",
    "\n",
    "words = model.wv.vocab"
   ]
  },
  {
   "cell_type": "code",
   "execution_count": 17,
   "metadata": {},
   "outputs": [
    {
     "name": "stdout",
     "output_type": "stream",
     "text": [
      "[ 3.7797350e-03  5.7527870e-03  1.5405997e-03 -2.6463899e-03\n",
      " -4.7977762e-03  2.4786878e-03 -4.0642912e-03  2.2071837e-03\n",
      "  5.1298458e-03  5.1996589e-04 -3.8901989e-03 -3.7690010e-05\n",
      " -3.3776639e-03  1.6065899e-03  1.6861307e-03 -5.1335334e-03\n",
      "  3.3050182e-03 -1.4195957e-03 -7.7893824e-04  2.7805050e-03\n",
      "  5.8755791e-03  2.2877923e-03  3.5611149e-03 -1.3631862e-03\n",
      "  4.2663729e-03  5.6257416e-03 -2.1777900e-03  1.4145977e-03\n",
      " -4.4772221e-04 -2.2666412e-03 -5.1392931e-03 -4.2491565e-03\n",
      "  4.7653582e-04  4.5718669e-04 -9.2674491e-05 -3.8103876e-03\n",
      " -1.5395860e-03 -2.8152496e-03  4.3828613e-03  3.0388103e-03\n",
      "  2.1468480e-03 -1.3792056e-04 -1.8645157e-03 -1.7609050e-03\n",
      "  4.2401883e-03 -3.5930770e-03  5.3643370e-03  6.2517524e-03\n",
      " -5.1772979e-04  2.7325698e-03  2.1199018e-03 -1.2494368e-03\n",
      " -2.3495958e-03 -8.9665054e-04  2.6840002e-03  1.0968195e-03\n",
      " -1.9246629e-03 -4.3048565e-03  3.5897736e-03 -4.2921198e-03\n",
      "  1.3942112e-03  1.0048243e-03  1.8195658e-03  1.8237345e-03\n",
      " -4.5313616e-03  3.9616952e-04 -2.9889964e-03 -1.5824867e-03\n",
      " -2.7130484e-03 -6.9037589e-05 -1.7937565e-04 -1.7129519e-03\n",
      "  3.3016229e-04 -3.7846441e-04 -1.5525129e-03 -2.8702870e-03\n",
      " -4.3180133e-03 -2.0173858e-03  2.1656370e-03 -1.9920680e-03\n",
      "  2.6173040e-03 -1.2994722e-03  8.6079031e-04 -2.0677113e-04\n",
      " -3.7217457e-03 -4.5796162e-03  5.6579621e-03 -5.3037093e-03\n",
      "  4.6379426e-03 -5.3937323e-03 -1.0213763e-03  2.7834246e-04\n",
      " -4.6990267e-03  4.4628503e-03 -4.8918854e-03 -8.1804814e-04\n",
      " -4.8408243e-03 -9.2093367e-04  9.2784193e-04  3.1052003e-04]\n"
     ]
    }
   ],
   "source": [
    "vector = model.wv['wind']\n",
    "\n",
    "print(vector)"
   ]
  },
  {
   "cell_type": "code",
   "execution_count": 32,
   "metadata": {},
   "outputs": [
    {
     "data": {
      "text/plain": [
       "[('bortolotti', 0.30558687448501587),\n",
       " ('modification', 0.290225088596344),\n",
       " ('tubes', 0.2774820625782013),\n",
       " ('expensive', 0.2630172371864319),\n",
       " ('making', 0.24757598340511322),\n",
       " ('fig', 0.23640920221805573),\n",
       " ('mpa', 0.23626774549484253),\n",
       " ('properties', 0.23194178938865662),\n",
       " ('increasing', 0.23052909970283508),\n",
       " ('hazardous', 0.22509947419166565)]"
      ]
     },
     "execution_count": 32,
     "metadata": {},
     "output_type": "execute_result"
    }
   ],
   "source": [
    "similar = model.wv.most_similar('turbine',topn=10)\n",
    "\n",
    "similar"
   ]
  },
  {
   "cell_type": "code",
   "execution_count": 19,
   "metadata": {},
   "outputs": [
    {
     "data": {
      "text/plain": [
       "0.08731215"
      ]
     },
     "execution_count": 19,
     "metadata": {},
     "output_type": "execute_result"
    }
   ],
   "source": [
    "model.wv.similarity(w1='wind',w2='turbine')"
   ]
  },
  {
   "cell_type": "code",
   "execution_count": 20,
   "metadata": {},
   "outputs": [
    {
     "data": {
      "text/plain": [
       "0.103301376"
      ]
     },
     "execution_count": 20,
     "metadata": {},
     "output_type": "execute_result"
    }
   ],
   "source": [
    "model.wv.similarity(w1='turbine',w2='blade')"
   ]
  },
  {
   "cell_type": "code",
   "execution_count": 22,
   "metadata": {},
   "outputs": [
    {
     "data": {
      "text/plain": [
       "1.0"
      ]
     },
     "execution_count": 22,
     "metadata": {},
     "output_type": "execute_result"
    }
   ],
   "source": [
    "model.wv.similarity(w1='wind',w2='wind')"
   ]
  },
  {
   "cell_type": "code",
   "execution_count": 23,
   "metadata": {},
   "outputs": [
    {
     "data": {
      "text/plain": [
       "-0.018412262"
      ]
     },
     "execution_count": 23,
     "metadata": {},
     "output_type": "execute_result"
    }
   ],
   "source": [
    "model.wv.similarity(w1='carbon',w2='nano')"
   ]
  },
  {
   "cell_type": "code",
   "execution_count": 24,
   "metadata": {},
   "outputs": [
    {
     "data": {
      "text/plain": [
       "-0.027796367"
      ]
     },
     "execution_count": 24,
     "metadata": {},
     "output_type": "execute_result"
    }
   ],
   "source": [
    "model.wv.similarity(w1='nano',w2='tubes')"
   ]
  },
  {
   "cell_type": "code",
   "execution_count": 25,
   "metadata": {},
   "outputs": [
    {
     "data": {
      "text/plain": [
       "0.0060863793"
      ]
     },
     "execution_count": 25,
     "metadata": {},
     "output_type": "execute_result"
    }
   ],
   "source": [
    "model.wv.similarity(w1='material',w2='carbon')"
   ]
  },
  {
   "cell_type": "code",
   "execution_count": 26,
   "metadata": {},
   "outputs": [
    {
     "data": {
      "text/plain": [
       "-0.06399764"
      ]
     },
     "execution_count": 26,
     "metadata": {},
     "output_type": "execute_result"
    }
   ],
   "source": [
    "model.wv.similarity(w1='wind',w2='energy')"
   ]
  },
  {
   "cell_type": "code",
   "execution_count": 28,
   "metadata": {},
   "outputs": [
    {
     "data": {
      "text/plain": [
       "0.1431907"
      ]
     },
     "execution_count": 28,
     "metadata": {},
     "output_type": "execute_result"
    }
   ],
   "source": [
    "model.wv.similarity(w1='demand',w2='energy')"
   ]
  },
  {
   "cell_type": "code",
   "execution_count": 29,
   "metadata": {},
   "outputs": [
    {
     "data": {
      "text/plain": [
       "-0.14878607"
      ]
     },
     "execution_count": 29,
     "metadata": {},
     "output_type": "execute_result"
    }
   ],
   "source": [
    "model.wv.similarity(w1='fatigue',w2='strength')"
   ]
  },
  {
   "cell_type": "code",
   "execution_count": 30,
   "metadata": {},
   "outputs": [
    {
     "data": {
      "text/plain": [
       "-0.063128754"
      ]
     },
     "execution_count": 30,
     "metadata": {},
     "output_type": "execute_result"
    }
   ],
   "source": [
    "model.wv.similarity(w1='fatigue',w2='properties')"
   ]
  },
  {
   "cell_type": "code",
   "execution_count": 31,
   "metadata": {},
   "outputs": [
    {
     "data": {
      "text/plain": [
       "0.107516214"
      ]
     },
     "execution_count": 31,
     "metadata": {},
     "output_type": "execute_result"
    }
   ],
   "source": [
    "model.wv.similarity(w1='light',w2='energy')"
   ]
  },
  {
   "cell_type": "code",
   "execution_count": 33,
   "metadata": {},
   "outputs": [
    {
     "data": {
      "text/plain": [
       "[('non', 0.3090106248855591),\n",
       " ('use', 0.26249217987060547),\n",
       " ('drastically', 0.2525618076324463),\n",
       " ('due', 0.24062573909759521),\n",
       " ('economic', 0.2371300458908081),\n",
       " ('static', 0.22988493740558624),\n",
       " ('gsm', 0.22619009017944336),\n",
       " ('content', 0.22556978464126587),\n",
       " ('limit', 0.22402340173721313),\n",
       " ('cherrington', 0.22239765524864197)]"
      ]
     },
     "execution_count": 33,
     "metadata": {},
     "output_type": "execute_result"
    }
   ],
   "source": [
    "similar = model.wv.most_similar('energy',topn=10)\n",
    "\n",
    "similar"
   ]
  },
  {
   "cell_type": "code",
   "execution_count": 34,
   "metadata": {},
   "outputs": [
    {
     "data": {
      "text/plain": [
       "[('potentially', 0.31030046939849854),\n",
       " ('reinforcement', 0.2982119619846344),\n",
       " ('laminate', 0.29581233859062195),\n",
       " ('stresses', 0.2847389876842499),\n",
       " ('vijaya', 0.28369325399398804),\n",
       " (',', 0.27446115016937256),\n",
       " ('tends', 0.27348753809928894),\n",
       " ('.', 0.2717164158821106),\n",
       " ('demonstrated', 0.26105424761772156),\n",
       " ('life', 0.2591814696788788)]"
      ]
     },
     "execution_count": 34,
     "metadata": {},
     "output_type": "execute_result"
    }
   ],
   "source": [
    "similar = model.wv.most_similar('wind',topn=10)\n",
    "\n",
    "similar"
   ]
  },
  {
   "cell_type": "code",
   "execution_count": 35,
   "metadata": {},
   "outputs": [
    {
     "name": "stderr",
     "output_type": "stream",
     "text": [
      "C:\\ProgramData\\Anaconda3\\lib\\site-packages\\gensim\\models\\keyedvectors.py:877: FutureWarning: arrays to stack must be passed as a \"sequence\" type such as list or tuple. Support for non-sequence iterables such as generators is deprecated as of NumPy 1.16 and will raise an error in the future.\n",
      "  vectors = vstack(self.word_vec(word, use_norm=True) for word in used_words).astype(REAL)\n"
     ]
    },
    {
     "data": {
      "text/plain": [
       "'fatigue'"
      ]
     },
     "execution_count": 35,
     "metadata": {},
     "output_type": "execute_result"
    }
   ],
   "source": [
    "model.wv.doesnt_match([\"fatigue\",\"turbine\",\"wind\"])"
   ]
  },
  {
   "cell_type": "code",
   "execution_count": 39,
   "metadata": {},
   "outputs": [
    {
     "name": "stderr",
     "output_type": "stream",
     "text": [
      "C:\\ProgramData\\Anaconda3\\lib\\site-packages\\ipykernel_launcher.py:9: DeprecationWarning: Call to deprecated `__getitem__` (Method will be removed in 4.0.0, use self.wv.__getitem__() instead).\n",
      "  if __name__ == '__main__':\n"
     ]
    },
    {
     "data": {
      "image/png": "[encoded data removed]",
      "text/plain": [
       "<Figure size 1080x576 with 1 Axes>"
      ]
     },
     "metadata": {
      "needs_background": "light"
     },
     "output_type": "display_data"
    }
   ],
   "source": [
    "from sklearn.manifold import  TSNE\n",
    "vocab = ['fatigue','strength','material','blade','turbine','wind','reinforcement','life','stresses','carbon','composites','molecules',\n",
    "        'resistance','weight','fabricated','epoxy','resin','nanotubes','fracture','hybrid','mechanical']\n",
    "def tsne_plot(model):\n",
    "    labels = []\n",
    "    wordvecs = []\n",
    "\n",
    "    for word in vocab:\n",
    "        wordvecs.append(model[word])\n",
    "        labels.append(word)\n",
    "    \n",
    "    tsne_model = TSNE(perplexity=5, n_components=3, init='pca', random_state=42)\n",
    "    coordinates = tsne_model.fit_transform(wordvecs)\n",
    "\n",
    "    x = []\n",
    "    y = []\n",
    "    for value in coordinates:\n",
    "        x.append(value[0])\n",
    "        y.append(value[1])\n",
    "        \n",
    "    plt.figure(figsize=(15,8)) \n",
    "    for i in range(len(x)):\n",
    "        plt.scatter(x[i],y[i])\n",
    "        plt.annotate(labels[i],\n",
    "                     xy=(x[i], y[i]),\n",
    "                     xytext=(2, 2),\n",
    "                     textcoords='offset points', ha='left')\n",
    "\n",
    "    plt.show()\n",
    "\n",
    "tsne_plot(model)"
   ]
  },
  {
   "cell_type": "code",
   "execution_count": null,
   "metadata": {},
   "outputs": [],
   "source": []
  }
 ],
 "metadata": {
  "kernelspec": {
   "display_name": "Python 3",
   "language": "python",
   "name": "python3"
  },
  "language_info": {
   "codemirror_mode": {
    "name": "ipython",
    "version": 3
   },
   "file_extension": ".py",
   "mimetype": "text/x-python",
   "name": "python",
   "nbconvert_exporter": "python",
   "pygments_lexer": "ipython3",
   "version": "3.7.3"
  }
 },
 "nbformat": 4,
 "nbformat_minor": 4
}
