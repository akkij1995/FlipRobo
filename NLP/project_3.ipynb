{
 "cells": [
  {
   "cell_type": "markdown",
   "metadata": {},
   "source": [
    "Data used is bbc news articles of sports. Various sport news are present in data."
   ]
  },
  {
   "cell_type": "code",
   "execution_count": 1,
   "metadata": {},
   "outputs": [],
   "source": [
    "file = open('E:/Flip Robo/bbc_data/bbc/003.txt', mode='rt', encoding='utf-8')"
   ]
  },
  {
   "cell_type": "code",
   "execution_count": 2,
   "metadata": {},
   "outputs": [
    {
     "data": {
      "text/plain": [
       "'Greene sets sights on world title\\n\\nMaurice Greene aims to wipe out the pain of losing his Olympic 100m title in Athens by winning a fourth World Championship crown this summer.\\n\\nHe had to settle for bronze in Greece behind fellow American Justin Gatlin and Francis Obikwelu of Portugal. \"It really hurts to look at that medal. It was my mistake. I lost because of the things I did,\" said Greene, who races in Birmingham on Friday. \"It\\'s never going to happen again. My goal - I\\'m going to win the worlds.\" Greene crossed the line just 0.02 seconds behind Gatlin, who won in 9.87 seconds in one of the closest and fastest sprints of all time. But Greene believes he lost the race and his title in the semi-finals. \"In my semi-final race, I should have won the race but I was conserving energy. \"That\\'s when Francis Obikwelu came up and I took third because I didn\\'t know he was there. \"I believe that\\'s what put me in lane seven in the final and, while I was in lane seven, I couldn\\'t feel anything in the race.\\n\\n\"I just felt like I was running all alone. \"I believe if I was in the middle of the race I would have been able to react to people that came ahead of me.\" Greene was also denied Olympic gold in the 4x100m men\\'s relay when he could not catch Britain\\'s Mark Lewis-Francis on the final leg. The Kansas star is set to go head-to-head with Lewis-Francis again at Friday\\'s Norwich Union Grand Prix. The pair contest the 60m, the distance over which Greene currently holds the world record of 6.39 seconds. He then has another indoor meeting in France before resuming training for the outdoor season and the task of recapturing his world title in Helsinki in August. Greene believes Gatlin will again prove the biggest threat to his ambitions in Finland. But he also admits he faces more than one rival for the world crown. \"There\\'s always someone else coming. I think when I was coming up I would say there was me and Ato (Boldon) in the young crowd,\" Greene said. \"Now you\\'ve got about five or six young guys coming up at the same time.\"\\n'"
      ]
     },
     "execution_count": 2,
     "metadata": {},
     "output_type": "execute_result"
    }
   ],
   "source": [
    "file.read()"
   ]
  },
  {
   "cell_type": "code",
   "execution_count": 3,
   "metadata": {},
   "outputs": [],
   "source": [
    "import os"
   ]
  },
  {
   "cell_type": "code",
   "execution_count": 4,
   "metadata": {},
   "outputs": [],
   "source": [
    "file_names = os.listdir(\"E:/Flip Robo/bbc_data/bbc\")"
   ]
  },
  {
   "cell_type": "code",
   "execution_count": 5,
   "metadata": {},
   "outputs": [
    {
     "data": {
      "text/plain": [
       "['001.txt',\n",
       " '002.txt',\n",
       " '003.txt',\n",
       " '004.txt',\n",
       " '005.txt',\n",
       " '006.txt',\n",
       " '007.txt',\n",
       " '008.txt',\n",
       " '009.txt',\n",
       " '010.txt']"
      ]
     },
     "execution_count": 5,
     "metadata": {},
     "output_type": "execute_result"
    }
   ],
   "source": [
    "file_names[:10]"
   ]
  },
  {
   "cell_type": "code",
   "execution_count": 6,
   "metadata": {},
   "outputs": [],
   "source": [
    "articles = []\n",
    "for f in file_names:\n",
    "    file = open('E:/Flip Robo/bbc_data/bbc/'+f, mode='rt', encoding='utf-8')\n",
    "    text = file.read()\n",
    "    file.close()\n",
    "    \n",
    "    articles.append(text)"
   ]
  },
  {
   "cell_type": "code",
   "execution_count": 7,
   "metadata": {},
   "outputs": [
    {
     "data": {
      "text/plain": [
       "214"
      ]
     },
     "execution_count": 7,
     "metadata": {},
     "output_type": "execute_result"
    }
   ],
   "source": [
    "len(articles)"
   ]
  },
  {
   "cell_type": "code",
   "execution_count": 8,
   "metadata": {},
   "outputs": [
    {
     "data": {
      "text/plain": [
       "'Pakistan arrive for tour of India\\n\\nPakistan arrived in Delhi on Monday amid tight security for their first full tour of India for six years.\\n\\nThe 16-man squad, along with coach Bob Woolmer and support staff, were met at the heavily guarded Indira Gandhi airport after a 45-minute flight. Armed guards kept vigil as the tourists were taken to their hotel along a six-mile route lined with security men. Hindu fundamentalists have threatened to protest over perceived Pakistani backing to militancy in Kashmir. \"I am delighted to be back in India,\" captain Inzamam-ul-Haq said. \"I have always enjoyed playing here because people are crazy about cricket. \"I am not worried about security. My only concern is how my team plays on the tour.\" Series between India and Pakistan are always eagerly awaited, largely because politics often restrict the amount of cricket the two teams can play against each other.\\n\\nThis particular engagement, which will include three Tests and six one-dayers, was twice threatened. The schedule has already been put back four days over a dispute which centred on Pakistan\\'s refusal to play the second Test in Ahmedabad. The first Test in Mohali will now get under way on 8 March. Then, following a protracted row over television rights, the Madras High Court issued interim orders to ensure the matches would be broadcast live by state=owned channel Doordarshan. Inzamam beseeched his side to make up for the 2004 defeat to India on home soil, where they lost 2-1 in the Tests and 3-2 in the one-day internationals. He said: \"We want to make amends for last year. \"The Australian tour was a big learning experience and I think we are in a position to reap benefits in India.\" After the 2004 series, Pakistan sacked their coach Javed Miandad and replaced him with Woolmer. Inzamam believes Woolmer has improved the side even if a string of positive results have not yet come.\\n\\nHe said: \"A lot has changed since that series. Woolmer has helped change the attitude of the boys, which is more positive and professional and I think they can take the pressure of playing in India.\" Pakistan will be without strike bowler Shoaib Akhtar (hamstring), leaving recalled off-spinner Arshad Khan and leg-spinner Danish Kaneria with much work to do. Inzamam said: \"Shoaib\\'s absence will be felt. But our strength is playing as a unit. \"[Khan and Kaneria] have a big role to play. They are the ones on whom we will be depending a lot in the Test matches. \"We are expecting slow, turning tracks and we have been practicing for such conditions.\" Pakistan\\'s first match is a three-day warm-up against the Indian Board President\\'s XI in Dharamsala from March 3.\\n\\nSourav Ganguly (captain), Virender Sehwag, Gautam Gambhir, Rahul Dravid, Sachin Tendulkar, VVS Laxman, Yuvraj Singh, Dinesh Karthik (wicketkeeper), Irfan Pathan, Anil Kumble, Harbhajan Singh, Zaheer Khan, Ashish Nehra, Lakshmipathy Balaji.\\n\\nSalman Butt, Yasir Hameed, Taufeeq Umar, Younis Khan, Inzamam-ul-Haq (captain), Yousuf Youhana, Asim Kamal, Kamran Akmal (wkt), Abdul Razzaq, Shoaib Malik, Shahid Afridi, Arshad Khan, Danish Kaneria, Muhammad Sami, Rana Naved, Muhammad Khalil.\\n'"
      ]
     },
     "execution_count": 8,
     "metadata": {},
     "output_type": "execute_result"
    }
   ],
   "source": [
    "articles[54]"
   ]
  },
  {
   "cell_type": "code",
   "execution_count": 9,
   "metadata": {},
   "outputs": [],
   "source": [
    "clean_articles = []\n",
    "for i in articles:\n",
    "    clean_articles.append(i.replace(\"\\n\",\" \").replace(\"\\'\", \" \"))"
   ]
  },
  {
   "cell_type": "code",
   "execution_count": 10,
   "metadata": {},
   "outputs": [
    {
     "data": {
      "text/plain": [
       "'Pakistan arrive for tour of India  Pakistan arrived in Delhi on Monday amid tight security for their first full tour of India for six years.  The 16-man squad, along with coach Bob Woolmer and support staff, were met at the heavily guarded Indira Gandhi airport after a 45-minute flight. Armed guards kept vigil as the tourists were taken to their hotel along a six-mile route lined with security men. Hindu fundamentalists have threatened to protest over perceived Pakistani backing to militancy in Kashmir. \"I am delighted to be back in India,\" captain Inzamam-ul-Haq said. \"I have always enjoyed playing here because people are crazy about cricket. \"I am not worried about security. My only concern is how my team plays on the tour.\" Series between India and Pakistan are always eagerly awaited, largely because politics often restrict the amount of cricket the two teams can play against each other.  This particular engagement, which will include three Tests and six one-dayers, was twice threatened. The schedule has already been put back four days over a dispute which centred on Pakistan s refusal to play the second Test in Ahmedabad. The first Test in Mohali will now get under way on 8 March. Then, following a protracted row over television rights, the Madras High Court issued interim orders to ensure the matches would be broadcast live by state=owned channel Doordarshan. Inzamam beseeched his side to make up for the 2004 defeat to India on home soil, where they lost 2-1 in the Tests and 3-2 in the one-day internationals. He said: \"We want to make amends for last year. \"The Australian tour was a big learning experience and I think we are in a position to reap benefits in India.\" After the 2004 series, Pakistan sacked their coach Javed Miandad and replaced him with Woolmer. Inzamam believes Woolmer has improved the side even if a string of positive results have not yet come.  He said: \"A lot has changed since that series. Woolmer has helped change the attitude of the boys, which is more positive and professional and I think they can take the pressure of playing in India.\" Pakistan will be without strike bowler Shoaib Akhtar (hamstring), leaving recalled off-spinner Arshad Khan and leg-spinner Danish Kaneria with much work to do. Inzamam said: \"Shoaib s absence will be felt. But our strength is playing as a unit. \"[Khan and Kaneria] have a big role to play. They are the ones on whom we will be depending a lot in the Test matches. \"We are expecting slow, turning tracks and we have been practicing for such conditions.\" Pakistan s first match is a three-day warm-up against the Indian Board President s XI in Dharamsala from March 3.  Sourav Ganguly (captain), Virender Sehwag, Gautam Gambhir, Rahul Dravid, Sachin Tendulkar, VVS Laxman, Yuvraj Singh, Dinesh Karthik (wicketkeeper), Irfan Pathan, Anil Kumble, Harbhajan Singh, Zaheer Khan, Ashish Nehra, Lakshmipathy Balaji.  Salman Butt, Yasir Hameed, Taufeeq Umar, Younis Khan, Inzamam-ul-Haq (captain), Yousuf Youhana, Asim Kamal, Kamran Akmal (wkt), Abdul Razzaq, Shoaib Malik, Shahid Afridi, Arshad Khan, Danish Kaneria, Muhammad Sami, Rana Naved, Muhammad Khalil. '"
      ]
     },
     "execution_count": 10,
     "metadata": {},
     "output_type": "execute_result"
    }
   ],
   "source": [
    "clean_articles[54]"
   ]
  },
  {
   "cell_type": "code",
   "execution_count": 11,
   "metadata": {},
   "outputs": [],
   "source": [
    "import re"
   ]
  },
  {
   "cell_type": "code",
   "execution_count": 12,
   "metadata": {},
   "outputs": [],
   "source": [
    "clean_articles = [re.sub(\"[^a-zA-Z]\",\" \",x) for x in clean_articles]"
   ]
  },
  {
   "cell_type": "code",
   "execution_count": 13,
   "metadata": {},
   "outputs": [
    {
     "data": {
      "text/plain": [
       "'Pakistan arrive for tour of India  Pakistan arrived in Delhi on Monday amid tight security for their first full tour of India for six years   The    man squad  along with coach Bob Woolmer and support staff  were met at the heavily guarded Indira Gandhi airport after a    minute flight  Armed guards kept vigil as the tourists were taken to their hotel along a six mile route lined with security men  Hindu fundamentalists have threatened to protest over perceived Pakistani backing to militancy in Kashmir   I am delighted to be back in India   captain Inzamam ul Haq said   I have always enjoyed playing here because people are crazy about cricket   I am not worried about security  My only concern is how my team plays on the tour   Series between India and Pakistan are always eagerly awaited  largely because politics often restrict the amount of cricket the two teams can play against each other   This particular engagement  which will include three Tests and six one dayers  was twice threatened  The schedule has already been put back four days over a dispute which centred on Pakistan s refusal to play the second Test in Ahmedabad  The first Test in Mohali will now get under way on   March  Then  following a protracted row over television rights  the Madras High Court issued interim orders to ensure the matches would be broadcast live by state owned channel Doordarshan  Inzamam beseeched his side to make up for the      defeat to India on home soil  where they lost     in the Tests and     in the one day internationals  He said   We want to make amends for last year   The Australian tour was a big learning experience and I think we are in a position to reap benefits in India   After the      series  Pakistan sacked their coach Javed Miandad and replaced him with Woolmer  Inzamam believes Woolmer has improved the side even if a string of positive results have not yet come   He said   A lot has changed since that series  Woolmer has helped change the attitude of the boys  which is more positive and professional and I think they can take the pressure of playing in India   Pakistan will be without strike bowler Shoaib Akhtar  hamstring   leaving recalled off spinner Arshad Khan and leg spinner Danish Kaneria with much work to do  Inzamam said   Shoaib s absence will be felt  But our strength is playing as a unit    Khan and Kaneria  have a big role to play  They are the ones on whom we will be depending a lot in the Test matches   We are expecting slow  turning tracks and we have been practicing for such conditions   Pakistan s first match is a three day warm up against the Indian Board President s XI in Dharamsala from March     Sourav Ganguly  captain   Virender Sehwag  Gautam Gambhir  Rahul Dravid  Sachin Tendulkar  VVS Laxman  Yuvraj Singh  Dinesh Karthik  wicketkeeper   Irfan Pathan  Anil Kumble  Harbhajan Singh  Zaheer Khan  Ashish Nehra  Lakshmipathy Balaji   Salman Butt  Yasir Hameed  Taufeeq Umar  Younis Khan  Inzamam ul Haq  captain   Yousuf Youhana  Asim Kamal  Kamran Akmal  wkt   Abdul Razzaq  Shoaib Malik  Shahid Afridi  Arshad Khan  Danish Kaneria  Muhammad Sami  Rana Naved  Muhammad Khalil  '"
      ]
     },
     "execution_count": 13,
     "metadata": {},
     "output_type": "execute_result"
    }
   ],
   "source": [
    "clean_articles[54]"
   ]
  },
  {
   "cell_type": "code",
   "execution_count": 14,
   "metadata": {},
   "outputs": [],
   "source": [
    "txt=' '.join(x for x in clean_articles[54].split() )"
   ]
  },
  {
   "cell_type": "code",
   "execution_count": 15,
   "metadata": {},
   "outputs": [],
   "source": [
    "clean_articles = [' '.join([w for w in x.split()]) for x in clean_articles]"
   ]
  },
  {
   "cell_type": "code",
   "execution_count": 16,
   "metadata": {},
   "outputs": [
    {
     "data": {
      "text/plain": [
       "'Pakistan arrive for tour of India Pakistan arrived in Delhi on Monday amid tight security for their first full tour of India for six years The man squad along with coach Bob Woolmer and support staff were met at the heavily guarded Indira Gandhi airport after a minute flight Armed guards kept vigil as the tourists were taken to their hotel along a six mile route lined with security men Hindu fundamentalists have threatened to protest over perceived Pakistani backing to militancy in Kashmir I am delighted to be back in India captain Inzamam ul Haq said I have always enjoyed playing here because people are crazy about cricket I am not worried about security My only concern is how my team plays on the tour Series between India and Pakistan are always eagerly awaited largely because politics often restrict the amount of cricket the two teams can play against each other This particular engagement which will include three Tests and six one dayers was twice threatened The schedule has already been put back four days over a dispute which centred on Pakistan s refusal to play the second Test in Ahmedabad The first Test in Mohali will now get under way on March Then following a protracted row over television rights the Madras High Court issued interim orders to ensure the matches would be broadcast live by state owned channel Doordarshan Inzamam beseeched his side to make up for the defeat to India on home soil where they lost in the Tests and in the one day internationals He said We want to make amends for last year The Australian tour was a big learning experience and I think we are in a position to reap benefits in India After the series Pakistan sacked their coach Javed Miandad and replaced him with Woolmer Inzamam believes Woolmer has improved the side even if a string of positive results have not yet come He said A lot has changed since that series Woolmer has helped change the attitude of the boys which is more positive and professional and I think they can take the pressure of playing in India Pakistan will be without strike bowler Shoaib Akhtar hamstring leaving recalled off spinner Arshad Khan and leg spinner Danish Kaneria with much work to do Inzamam said Shoaib s absence will be felt But our strength is playing as a unit Khan and Kaneria have a big role to play They are the ones on whom we will be depending a lot in the Test matches We are expecting slow turning tracks and we have been practicing for such conditions Pakistan s first match is a three day warm up against the Indian Board President s XI in Dharamsala from March Sourav Ganguly captain Virender Sehwag Gautam Gambhir Rahul Dravid Sachin Tendulkar VVS Laxman Yuvraj Singh Dinesh Karthik wicketkeeper Irfan Pathan Anil Kumble Harbhajan Singh Zaheer Khan Ashish Nehra Lakshmipathy Balaji Salman Butt Yasir Hameed Taufeeq Umar Younis Khan Inzamam ul Haq captain Yousuf Youhana Asim Kamal Kamran Akmal wkt Abdul Razzaq Shoaib Malik Shahid Afridi Arshad Khan Danish Kaneria Muhammad Sami Rana Naved Muhammad Khalil'"
      ]
     },
     "execution_count": 16,
     "metadata": {},
     "output_type": "execute_result"
    }
   ],
   "source": [
    "clean_articles[54]"
   ]
  },
  {
   "cell_type": "code",
   "execution_count": 19,
   "metadata": {},
   "outputs": [],
   "source": [
    "clean_articles=[' '.join([w for w in x.split() if len(w)>2]) for x in clean_articles]"
   ]
  },
  {
   "cell_type": "code",
   "execution_count": 20,
   "metadata": {},
   "outputs": [],
   "source": [
    "from nltk.corpus import stopwords"
   ]
  },
  {
   "cell_type": "code",
   "execution_count": 21,
   "metadata": {},
   "outputs": [],
   "source": [
    "clean_articles=[' '.join([w for w in x.split() if w not in stopwords.words('english')]) for x in clean_articles]"
   ]
  },
  {
   "cell_type": "code",
   "execution_count": 22,
   "metadata": {},
   "outputs": [
    {
     "data": {
      "text/plain": [
       "'Pakistan arrive tour India Pakistan arrived Delhi Monday amid tight security first full tour India six years The man squad along coach Bob Woolmer support staff met heavily guarded Indira Gandhi airport minute flight Armed guards kept vigil tourists taken hotel along six mile route lined security men Hindu fundamentalists threatened protest perceived Pakistani backing militancy Kashmir delighted back India captain Inzamam Haq said always enjoyed playing people crazy cricket worried security concern team plays tour Series India Pakistan always eagerly awaited largely politics often restrict amount cricket two teams play This particular engagement include three Tests six one dayers twice threatened The schedule already put back four days dispute centred Pakistan refusal play second Test Ahmedabad The first Test Mohali get way March Then following protracted row television rights Madras High Court issued interim orders ensure matches would broadcast live state owned channel Doordarshan Inzamam beseeched side make defeat India home soil lost Tests one day internationals said want make amends last year The Australian tour big learning experience think position reap benefits India After series Pakistan sacked coach Javed Miandad replaced Woolmer Inzamam believes Woolmer improved side even string positive results yet come said lot changed since series Woolmer helped change attitude boys positive professional think take pressure playing India Pakistan without strike bowler Shoaib Akhtar hamstring leaving recalled spinner Arshad Khan leg spinner Danish Kaneria much work Inzamam said Shoaib absence felt But strength playing unit Khan Kaneria big role play They ones depending lot Test matches expecting slow turning tracks practicing conditions Pakistan first match three day warm Indian Board President Dharamsala March Sourav Ganguly captain Virender Sehwag Gautam Gambhir Rahul Dravid Sachin Tendulkar VVS Laxman Yuvraj Singh Dinesh Karthik wicketkeeper Irfan Pathan Anil Kumble Harbhajan Singh Zaheer Khan Ashish Nehra Lakshmipathy Balaji Salman Butt Yasir Hameed Taufeeq Umar Younis Khan Inzamam Haq captain Yousuf Youhana Asim Kamal Kamran Akmal wkt Abdul Razzaq Shoaib Malik Shahid Afridi Arshad Khan Danish Kaneria Muhammad Sami Rana Naved Muhammad Khalil'"
      ]
     },
     "execution_count": 22,
     "metadata": {},
     "output_type": "execute_result"
    }
   ],
   "source": [
    "clean_articles[54]"
   ]
  },
  {
   "cell_type": "code",
   "execution_count": 23,
   "metadata": {},
   "outputs": [],
   "source": [
    "clean_articles = [x.lower() for x in clean_articles]"
   ]
  },
  {
   "cell_type": "code",
   "execution_count": 24,
   "metadata": {},
   "outputs": [],
   "source": [
    "from sklearn.feature_extraction.text import TfidfVectorizer as tfidf"
   ]
  },
  {
   "cell_type": "code",
   "execution_count": 25,
   "metadata": {},
   "outputs": [
    {
     "data": {
      "text/plain": [
       "(214, 1000)"
      ]
     },
     "execution_count": 25,
     "metadata": {},
     "output_type": "execute_result"
    }
   ],
   "source": [
    "vectorizer = tfidf()\n",
    "vectorizer = tfidf(max_features= 1000, \n",
    "                             min_df= 5,\n",
    "                             max_df = 0.9)\n",
    "    \n",
    "X = vectorizer.fit_transform(clean_articles)\n",
    "\n",
    "X.shape"
   ]
  },
  {
   "cell_type": "code",
   "execution_count": 26,
   "metadata": {},
   "outputs": [],
   "source": [
    "from sklearn.decomposition import TruncatedSVD\n",
    "\n",
    "svd_model = TruncatedSVD(n_components=5, random_state=12, n_iter=100)"
   ]
  },
  {
   "cell_type": "code",
   "execution_count": 27,
   "metadata": {},
   "outputs": [
    {
     "data": {
      "text/plain": [
       "TruncatedSVD(n_components=5, n_iter=100, random_state=12)"
      ]
     },
     "execution_count": 27,
     "metadata": {},
     "output_type": "execute_result"
    }
   ],
   "source": [
    "svd_model.fit(X)"
   ]
  },
  {
   "cell_type": "code",
   "execution_count": 28,
   "metadata": {},
   "outputs": [
    {
     "name": "stdout",
     "output_type": "stream",
     "text": [
      "Topic 0: \n",
      "['said', 'the', 'england', 'first', 'year', 'world', 'last', 'match', 'but', 'two', 'one', 'win', 'game', 'new', 'play', 'team', 'would', 'back', 'time', 'set', 'club', 'tour', 'pakistan', 'also', 'second', 'final', 'rugby', 'players', 'test', 'three', 'good', 'six', 'could', 'cup', 'seed', 'injury', 'series', 'india', 'get', 'played', 'ireland', 'day', 'take', 'season', 'old', 'really', 'side', 'well', 'half', 'international']\n",
      "\n",
      "\n",
      "Topic 1: \n",
      "['pakistan', 'india', 'test', 'tour', 'cricket', 'series', 'day', 'khan', 'england', 'inzamam', 'australia', 'board', 'south', 'captain', 'singh', 'tests', 'streak', 'zimbabwe', 'shoaib', 'zealand', 'africa', 'lions', 'batsman', 'mohali', 'mohammad', 'six', 'president', 'team', 'wicket', 'harbhajan', 'akhtar', 'one', 'wkt', 'batting', 'due', 'side', 'warm', 'squad', 'west', 'international', 'thursday', 'spinner', 'bat', 'capt', 'indian', 'sami', 'runs', 'rugby', 'haq', 'practice']\n",
      "\n",
      "\n",
      "Topic 2: \n",
      "['seed', 'pakistan', 'india', 'agassi', 'first', 'federer', 'match', 'beat', 'final', 'henman', 'dubai', 'number', 'roddick', 'set', 'open', 'rain', 'round', 'day', 'second', 'test', 'ljubicic', 'khan', 'series', 'top', 'inzamam', 'melzer', 'mirza', 'cricket', 'tour', 'roger', 'martinez', 'indian', 'singh', 'quarter', 'serve', 'andre', 'shoaib', 'mohammad', 'finals', 'rusedski', 'one', 'saulnier', 'american', 'court', 'mohali', 'davenport', 'third', 'broke', 'haas', 'seventh']\n",
      "\n",
      "\n",
      "Topic 3: \n",
      "['pakistan', 'athletics', 'athens', 'olympic', 'world', 'india', 'indoor', 'greek', 'race', 'chepkemei', 'year', 'champion', 'drugs', 'country', 'record', 'kenteris', 'tests', 'doping', 'iaaf', 'marathon', 'radcliffe', 'test', 'paula', 'ban', 'gold', 'thanou', 'athletes', 'olympics', 'birmingham', 'cross', 'cricket', 'london', 'also', 'championships', 'sprinters', 'event', 'the', 'medal', 'european', 'holmes', 'sport', 'body', 'balco', 'khan', 'suspended', 'silver', 'british', 'athlete', 'britain', 'women']\n",
      "\n",
      "\n",
      "Topic 4: \n",
      "['ireland', 'england', 'wales', 'scotland', 'nations', 'france', 'six', 'world', 'italy', 'williams', 'half', 'lions', 'grand', 'rugby', 'hodgson', 'zealand', 'edinburgh', 'wing', 'connor', 'record', 'henson', 'olympic', 'indoor', 'slam', 'centre', 'robinson', 'first', 'south', 'driscoll', 'new', 'welsh', 'jones', 'capt', 'wilkinson', 'woodward', 'injury', 'lewsey', 'africa', 'shane', 'penalty', 'sullivan', 'gara', 'champion', 'connell', 'paris', 'line', 'chepkemei', 'cueto', 'mark', 'full']\n",
      "\n",
      "\n"
     ]
    }
   ],
   "source": [
    "terms = vectorizer.get_feature_names()\n",
    "\n",
    "for i, comp in enumerate(svd_model.components_):\n",
    "    terms_comp = zip(terms, comp)\n",
    "    sorted_terms = sorted(terms_comp, key= lambda x:x[1], reverse=True)[:50]\n",
    "    \n",
    "    print(\"Topic \"+str(i)+\": \")\n",
    "    topics = []\n",
    "    for t in sorted_terms:\n",
    "        topics.append(t[0])\n",
    "    \n",
    "    print(topics)\n",
    "    print('\\n')"
   ]
  },
  {
   "cell_type": "code",
   "execution_count": null,
   "metadata": {},
   "outputs": [],
   "source": []
  }
 ],
 "metadata": {
  "kernelspec": {
   "display_name": "Python 3",
   "language": "python",
   "name": "python3"
  },
  "language_info": {
   "codemirror_mode": {
    "name": "ipython",
    "version": 3
   },
   "file_extension": ".py",
   "mimetype": "text/x-python",
   "name": "python",
   "nbconvert_exporter": "python",
   "pygments_lexer": "ipython3",
   "version": "3.8.3"
  }
 },
 "nbformat": 4,
 "nbformat_minor": 4
}
