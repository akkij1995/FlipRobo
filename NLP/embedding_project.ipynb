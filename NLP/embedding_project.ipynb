{
 "cells": [
  {
   "cell_type": "code",
   "execution_count": 1,
   "metadata": {},
   "outputs": [],
   "source": [
    "import pandas as pd"
   ]
  },
  {
   "cell_type": "code",
   "execution_count": 2,
   "metadata": {},
   "outputs": [
    {
     "name": "stdout",
     "output_type": "stream",
     "text": [
      "['widening its probe in the money laundering angle into the death of sushant singh rajput the enforcement directorate (ed) has summoned the personal staff of the late bollywood actor.', 'according to ed sources the financial probe agency has summoned the cook driver and bodyguard of sushant for questioning.', 'the sources said that they have been asked to appear before the agency on thursday. the ed wants to know about the people who visited sushant in the last one yearâ€”who all were there at his home; if any meetings took place; and what were the things that were discussed.', 'the agency will also ask them who saw the body of the late actor first after his death.', 'the ed wants to know if financial things were discussed and how was the behaviour of rhea and her family members with the late actor.', 'the ed registered a case of money laundering on july 31 on the basis of the bihar police fir against his girlfriend rhea chakraborty and her family members. the bihar police registered a case on the basis of sushants father k.k. singhs complaint on july 25.', 'singh in his complaint alleged transactions worth rs 15 crore from the kotak mahindra bank account of his son to some unknown bank accounts.', 'the ed has till date recorded the statement of sushants sister mitu singh who resides in mumbai; rhea her father indrajit brother showik sushants ex-manager and rheas manager shruti modi sushants house manager samuel miranda actors flatmate siddharth pithani chartered accountant sandeep sridhar and rheas ca ritesh shah in connection with the case.', 'the source said that the agency will also scrutinise the documents that has been collected from rhea showik indrajit shruti modi and others during their questioning.', 'the agency after scrutinising the documents will decide whether to summon the named accused in the agencys ecir.', 'the cbi has also registered a case in sushants death case on august 7 on the recommendation from the central government after the bihar government demanded for the central agencys probe.', 'the 34-year-old actor who was from purnea in bihar was found dead in his bandra flat in mumbai on june 14. the supreme court is hearing a plea filed by rhea regarding transfer of the case.']\n"
     ]
    }
   ],
   "source": [
    "doc1 = []\n",
    "with open('doc1.txt', 'r') as file:\n",
    "    for line in file:\n",
    "        clear_line = line.replace('\\n', '').replace(',', '').replace(\"'\", '').strip().lower()\n",
    "        clear_line=clear_line.replace(',','').replace(\"\\\\\",\"\").replace(\"'\",'').strip()\n",
    "        doc1.append(clear_line)\n",
    "print(doc1)\n",
    "\n"
   ]
  },
  {
   "cell_type": "code",
   "execution_count": 3,
   "metadata": {},
   "outputs": [
    {
     "name": "stdout",
     "output_type": "stream",
     "text": [
      "['the supreme court will again hear rhea chakraborty’s plea to transfer the fir from bihar police to mumbai police today august 13. on august 11 the second hearing of the case took place wherein the supreme court reserved its verdict after hearing arguments by rhea chakraborty’s lawyer sushant singh rajput’s family lawyer the counsel representing maharashtra government and the solicitor general of india. also read - rhea chakraborty called up aamir khan rana daggubati and other stars claims new reports in sushant singh rajput death case the supreme court asked for brief written notes from all parties by thursday august 13. bihar government files a detailed reply before the supreme court in rhea chakraborty’s petition seeking transfer of fir filed by sushant singh rajput’s father kk singh against her from patna to mumbai. bihar government in its reply claimed that bihar police has jurisdiction to probe the case. also read - aditya thackerays name crops up again in sushant singh rajput death case as rhea chakrabortys call log shows au dialled multiple times the bihar government’s submission says “there is only one fir in this case that has been filed by govt. they target the mumbai police for not sharing any document and copy of the investigation post-mortem report. mr. vinay tiwari ips who reached mumbai from bihar was quarantined so that he should not investigate the matter.', 'on the other hand rhea’s team has also submitted their notes to the top court and they claimed that bihar govt. acted outside the jurisdiction. team rhea’s submission says “bihar govt can’t transfer probe to the cbi”. there is a 5-page submission given to the sc.submission 1 the instant transfer petition is maintainable submission 2 the courts in bihar do not exercise lawful jurisdiction in instinct matter', 'submission 3 transfer of investigation to cbi at the behest of bihar police is wholly without jurisdiction', 'submission 4 fir doesn’t disclose any cognizable offense” in the second hearing rhea had said mumbai police’s investigation is ‘free and fair’. she had opposed the cbi probe into the case and had supported the mumbai police and maharashtra government. rhea chakraborty said bihar police can only lodge zero fir. her lawyer further said sushant singh rajput’s father is using influential relatives to frame rhea chakraborty.']\n"
     ]
    }
   ],
   "source": [
    "doc2 = []\n",
    "with open('doc2.txt', 'r',encoding='utf8') as file:\n",
    "    for line in file:\n",
    "        clear_line = line.replace('\\n', '').replace(',', '').replace(\"'\", '').replace(':','').strip().lower()\n",
    "        clear_line=clear_line.replace(',','').replace(\"\\\\\",\"\").replace(\"'\",'').strip()\n",
    "        doc2.append(clear_line)\n",
    "print(doc2)\n",
    "\n"
   ]
  },
  {
   "cell_type": "code",
   "execution_count": 4,
   "metadata": {},
   "outputs": [
    {
     "name": "stdout",
     "output_type": "stream",
     "text": [
      "!\"#$%&'()*+,-./:;<=>?@[\\]^_`{|}~\n"
     ]
    }
   ],
   "source": [
    "from string import punctuation\n",
    "print(punctuation)"
   ]
  },
  {
   "cell_type": "code",
   "execution_count": 5,
   "metadata": {},
   "outputs": [
    {
     "name": "stdout",
     "output_type": "stream",
     "text": [
      "widening its probe in the money laundering angle into the death of sushant singh rajput the enforcement directorate (ed) has summoned the personal staff of the late bollywood actor.according to ed sources the financial probe agency has summoned the cook driver and bodyguard of sushant for questioning.the sources said that they have been asked to appear before the agency on thursday. the ed wants to know about the people who visited sushant in the last one yearâ€”who all were there at his home; if any meetings took place; and what were the things that were discussed.the agency will also ask them who saw the body of the late actor first after his death.the ed wants to know if financial things were discussed and how was the behaviour of rhea and her family members with the late actor.the ed registered a case of money laundering on july 31 on the basis of the bihar police fir against his girlfriend rhea chakraborty and her family members. the bihar police registered a case on the basis of sushants father k.k. singhs complaint on july 25.singh in his complaint alleged transactions worth rs 15 crore from the kotak mahindra bank account of his son to some unknown bank accounts.the ed has till date recorded the statement of sushants sister mitu singh who resides in mumbai; rhea her father indrajit brother showik sushants ex-manager and rheas manager shruti modi sushants house manager samuel miranda actors flatmate siddharth pithani chartered accountant sandeep sridhar and rheas ca ritesh shah in connection with the case.the source said that the agency will also scrutinise the documents that has been collected from rhea showik indrajit shruti modi and others during their questioning.the agency after scrutinising the documents will decide whether to summon the named accused in the agencys ecir.the cbi has also registered a case in sushants death case on august 7 on the recommendation from the central government after the bihar government demanded for the central agencys probe.the 34-year-old actor who was from purnea in bihar was found dead in his bandra flat in mumbai on june 14. the supreme court is hearing a plea filed by rhea regarding transfer of the case.\n"
     ]
    }
   ],
   "source": [
    "doc11=''\n",
    "for i in doc1:\n",
    "    doc11=doc11+i\n",
    "print(doc11)"
   ]
  },
  {
   "cell_type": "code",
   "execution_count": 6,
   "metadata": {},
   "outputs": [],
   "source": [
    "cleaned_doc1=[word for word in doc11.split() if word not in punctuation]\n"
   ]
  },
  {
   "cell_type": "code",
   "execution_count": 7,
   "metadata": {},
   "outputs": [],
   "source": [
    "from nltk.corpus import stopwords\n",
    "stopwords=stopwords.words('english')"
   ]
  },
  {
   "cell_type": "code",
   "execution_count": 8,
   "metadata": {},
   "outputs": [
    {
     "name": "stdout",
     "output_type": "stream",
     "text": [
      " widening probe money laundering angle death sushant singh rajput enforcement directorate (ed) summoned personal staff late bollywood actor.according ed sources financial probe agency summoned cook driver bodyguard sushant questioning.the sources said asked appear agency thursday. ed wants know people visited sushant last one yearâ€”who home; meetings took place; things discussed.the agency also ask saw body late actor first death.the ed wants know financial things discussed behaviour rhea family members late actor.the ed registered case money laundering july 31 basis bihar police fir girlfriend rhea chakraborty family members. bihar police registered case basis sushants father k.k. singhs complaint july 25.singh complaint alleged transactions worth rs 15 crore kotak mahindra bank account son unknown bank accounts.the ed till date recorded statement sushants sister mitu singh resides mumbai; rhea father indrajit brother showik sushants ex-manager rheas manager shruti modi sushants house manager samuel miranda actors flatmate siddharth pithani chartered accountant sandeep sridhar rheas ca ritesh shah connection case.the source said agency also scrutinise documents collected rhea showik indrajit shruti modi others questioning.the agency scrutinising documents decide whether summon named accused agencys ecir.the cbi also registered case sushants death case august 7 recommendation central government bihar government demanded central agencys probe.the 34-year-old actor purnea bihar found dead bandra flat mumbai june 14. supreme court hearing plea filed rhea regarding transfer case.\n"
     ]
    }
   ],
   "source": [
    "final_doc1=[word for word in cleaned_doc1 if word not in stopwords]\n",
    "doc1_final=''\n",
    "for i in range(len(final_doc1)):\n",
    "    doc1_final=doc1_final+' '+final_doc1[i]\n",
    "print(doc1_final)"
   ]
  },
  {
   "cell_type": "code",
   "execution_count": 9,
   "metadata": {},
   "outputs": [
    {
     "name": "stdout",
     "output_type": "stream",
     "text": [
      "the supreme court will again hear rhea chakraborty’s plea to transfer the fir from bihar police to mumbai police today august 13. on august 11 the second hearing of the case took place wherein the supreme court reserved its verdict after hearing arguments by rhea chakraborty’s lawyer sushant singh rajput’s family lawyer the counsel representing maharashtra government and the solicitor general of india. also read - rhea chakraborty called up aamir khan rana daggubati and other stars claims new reports in sushant singh rajput death case the supreme court asked for brief written notes from all parties by thursday august 13. bihar government files a detailed reply before the supreme court in rhea chakraborty’s petition seeking transfer of fir filed by sushant singh rajput’s father kk singh against her from patna to mumbai. bihar government in its reply claimed that bihar police has jurisdiction to probe the case. also read - aditya thackerays name crops up again in sushant singh rajput death case as rhea chakrabortys call log shows au dialled multiple times the bihar government’s submission says “there is only one fir in this case that has been filed by govt. they target the mumbai police for not sharing any document and copy of the investigation post-mortem report. mr. vinay tiwari ips who reached mumbai from bihar was quarantined so that he should not investigate the matter.on the other hand rhea’s team has also submitted their notes to the top court and they claimed that bihar govt. acted outside the jurisdiction. team rhea’s submission says “bihar govt can’t transfer probe to the cbi”. there is a 5-page submission given to the sc.submission 1 the instant transfer petition is maintainable submission 2 the courts in bihar do not exercise lawful jurisdiction in instinct mattersubmission 3 transfer of investigation to cbi at the behest of bihar police is wholly without jurisdictionsubmission 4 fir doesn’t disclose any cognizable offense” in the second hearing rhea had said mumbai police’s investigation is ‘free and fair’. she had opposed the cbi probe into the case and had supported the mumbai police and maharashtra government. rhea chakraborty said bihar police can only lodge zero fir. her lawyer further said sushant singh rajput’s father is using influential relatives to frame rhea chakraborty.\n"
     ]
    }
   ],
   "source": [
    "doc22=''\n",
    "for i in doc2:\n",
    "    doc22=doc22+i\n",
    "print(doc22)"
   ]
  },
  {
   "cell_type": "code",
   "execution_count": 10,
   "metadata": {},
   "outputs": [],
   "source": [
    "cleaned_doc2=[word for word in doc22.split() if word not in punctuation]\n"
   ]
  },
  {
   "cell_type": "code",
   "execution_count": 11,
   "metadata": {},
   "outputs": [
    {
     "name": "stdout",
     "output_type": "stream",
     "text": [
      " supreme court hear rhea chakraborty’s plea transfer fir bihar police mumbai police today august 13. august 11 second hearing case took place wherein supreme court reserved verdict hearing arguments rhea chakraborty’s lawyer sushant singh rajput’s family lawyer counsel representing maharashtra government solicitor general india. also read rhea chakraborty called aamir khan rana daggubati stars claims new reports sushant singh rajput death case supreme court asked brief written notes parties thursday august 13. bihar government files detailed reply supreme court rhea chakraborty’s petition seeking transfer fir filed sushant singh rajput’s father kk singh patna mumbai. bihar government reply claimed bihar police jurisdiction probe case. also read aditya thackerays name crops sushant singh rajput death case rhea chakrabortys call log shows au dialled multiple times bihar government’s submission says “there one fir case filed govt. target mumbai police sharing document copy investigation post-mortem report. mr. vinay tiwari ips reached mumbai bihar quarantined investigate matter.on hand rhea’s team also submitted notes top court claimed bihar govt. acted outside jurisdiction. team rhea’s submission says “bihar govt can’t transfer probe cbi”. 5-page submission given sc.submission 1 instant transfer petition maintainable submission 2 courts bihar exercise lawful jurisdiction instinct mattersubmission 3 transfer investigation cbi behest bihar police wholly without jurisdictionsubmission 4 fir doesn’t disclose cognizable offense” second hearing rhea said mumbai police’s investigation ‘free fair’. opposed cbi probe case supported mumbai police maharashtra government. rhea chakraborty said bihar police lodge zero fir. lawyer said sushant singh rajput’s father using influential relatives frame rhea chakraborty.\n"
     ]
    }
   ],
   "source": [
    "final_doc2=[word for word in cleaned_doc2 if word not in stopwords]\n",
    "doc2_final=''\n",
    "for i in range(len(final_doc2)):\n",
    "    doc2_final=doc2_final+' '+final_doc2[i]\n",
    "print(doc2_final)"
   ]
  },
  {
   "cell_type": "code",
   "execution_count": 12,
   "metadata": {},
   "outputs": [],
   "source": [
    "from sklearn.feature_extraction.text import CountVectorizer \n"
   ]
  },
  {
   "cell_type": "code",
   "execution_count": 13,
   "metadata": {},
   "outputs": [
    {
     "name": "stdout",
     "output_type": "stream",
     "text": [
      "['widening', 'probe', 'money', 'laundering', 'angle', 'death', 'sushant', 'singh', 'rajput', 'enforcement', 'directorate', '(ed)', 'summoned', 'personal', 'staff', 'late', 'bollywood', 'actor.according', 'ed', 'sources', 'financial', 'probe', 'agency', 'summoned', 'cook', 'driver', 'bodyguard', 'sushant', 'questioning.the', 'sources', 'said', 'asked', 'appear', 'agency', 'thursday.', 'ed', 'wants', 'know', 'people', 'visited', 'sushant', 'last', 'one', 'yearâ€”who', 'home;', 'meetings', 'took', 'place;', 'things', 'discussed.the', 'agency', 'also', 'ask', 'saw', 'body', 'late', 'actor', 'first', 'death.the', 'ed', 'wants', 'know', 'financial', 'things', 'discussed', 'behaviour', 'rhea', 'family', 'members', 'late', 'actor.the', 'ed', 'registered', 'case', 'money', 'laundering', 'july', '31', 'basis', 'bihar', 'police', 'fir', 'girlfriend', 'rhea', 'chakraborty', 'family', 'members.', 'bihar', 'police', 'registered', 'case', 'basis', 'sushants', 'father', 'k.k.', 'singhs', 'complaint', 'july', '25.singh', 'complaint', 'alleged', 'transactions', 'worth', 'rs', '15', 'crore', 'kotak', 'mahindra', 'bank', 'account', 'son', 'unknown', 'bank', 'accounts.the', 'ed', 'till', 'date', 'recorded', 'statement', 'sushants', 'sister', 'mitu', 'singh', 'resides', 'mumbai;', 'rhea', 'father', 'indrajit', 'brother', 'showik', 'sushants', 'ex-manager', 'rheas', 'manager', 'shruti', 'modi', 'sushants', 'house', 'manager', 'samuel', 'miranda', 'actors', 'flatmate', 'siddharth', 'pithani', 'chartered', 'accountant', 'sandeep', 'sridhar', 'rheas', 'ca', 'ritesh', 'shah', 'connection', 'case.the', 'source', 'said', 'agency', 'also', 'scrutinise', 'documents', 'collected', 'rhea', 'showik', 'indrajit', 'shruti', 'modi', 'others', 'questioning.the', 'agency', 'scrutinising', 'documents', 'decide', 'whether', 'summon', 'named', 'accused', 'agencys', 'ecir.the', 'cbi', 'also', 'registered', 'case', 'sushants', 'death', 'case', 'august', '7', 'recommendation', 'central', 'government', 'bihar', 'government', 'demanded', 'central', 'agencys', 'probe.the', '34-year-old', 'actor', 'purnea', 'bihar', 'found', 'dead', 'bandra', 'flat', 'mumbai', 'june', '14.', 'supreme', 'court', 'hearing', 'plea', 'filed', 'rhea', 'regarding', 'transfer', 'case.']\n"
     ]
    }
   ],
   "source": [
    "doc1_=[]\n",
    "for i in doc1_final.split():\n",
    "    doc1_.append(i)\n",
    "print(doc1_)"
   ]
  },
  {
   "cell_type": "code",
   "execution_count": 14,
   "metadata": {},
   "outputs": [
    {
     "name": "stdout",
     "output_type": "stream",
     "text": [
      "bag of words : ['14', '15', '25', '31', '34', 'according', 'account', 'accountant', 'accounts', 'accused', 'actor', 'actors', 'agency', 'agencys', 'alleged', 'also', 'angle', 'appear', 'ask', 'asked', 'august', 'bandra', 'bank', 'basis', 'behaviour', 'bihar', 'body', 'bodyguard', 'bollywood', 'brother', 'ca', 'case', 'cbi', 'central', 'chakraborty', 'chartered', 'collected', 'complaint', 'connection', 'cook', 'court', 'crore', 'date', 'dead', 'death', 'decide', 'demanded', 'directorate', 'discussed', 'documents', 'driver', 'ecir', 'ed', 'enforcement', 'ex', 'family', 'father', 'filed', 'financial', 'fir', 'first', 'flat', 'flatmate', 'found', 'girlfriend', 'government', 'hearing', 'home', 'house', 'indrajit', 'july', 'june', 'know', 'kotak', 'last', 'late', 'laundering', 'mahindra', 'manager', 'meetings', 'members', 'miranda', 'mitu', 'modi', 'money', 'mumbai', 'named', 'old', 'one', 'others', 'people', 'personal', 'pithani', 'place', 'plea', 'police', 'probe', 'purnea', 'questioning', 'rajput', 'recommendation', 'recorded', 'regarding', 'registered', 'resides', 'rhea', 'rheas', 'ritesh', 'rs', 'said', 'samuel', 'sandeep', 'saw', 'scrutinise', 'scrutinising', 'shah', 'showik', 'shruti', 'siddharth', 'singh', 'singhs', 'sister', 'son', 'source', 'sources', 'sridhar', 'staff', 'statement', 'summon', 'summoned', 'supreme', 'sushant', 'sushants', 'the', 'things', 'thursday', 'till', 'took', 'transactions', 'transfer', 'unknown', 'visited', 'wants', 'whether', 'who', 'widening', 'worth', 'year', 'yearâ']\n"
     ]
    }
   ],
   "source": [
    "vect1 = CountVectorizer()\n",
    "\n",
    "vect1.fit_transform(doc1_)\n",
    "print(\"bag of words :\",vect1.get_feature_names())"
   ]
  },
  {
   "cell_type": "code",
   "execution_count": 15,
   "metadata": {},
   "outputs": [
    {
     "name": "stdout",
     "output_type": "stream",
     "text": [
      "['supreme', 'court', 'hear', 'rhea', 'chakraborty’s', 'plea', 'transfer', 'fir', 'bihar', 'police', 'mumbai', 'police', 'today', 'august', '13.', 'august', '11', 'second', 'hearing', 'case', 'took', 'place', 'wherein', 'supreme', 'court', 'reserved', 'verdict', 'hearing', 'arguments', 'rhea', 'chakraborty’s', 'lawyer', 'sushant', 'singh', 'rajput’s', 'family', 'lawyer', 'counsel', 'representing', 'maharashtra', 'government', 'solicitor', 'general', 'india.', 'also', 'read', 'rhea', 'chakraborty', 'called', 'aamir', 'khan', 'rana', 'daggubati', 'stars', 'claims', 'new', 'reports', 'sushant', 'singh', 'rajput', 'death', 'case', 'supreme', 'court', 'asked', 'brief', 'written', 'notes', 'parties', 'thursday', 'august', '13.', 'bihar', 'government', 'files', 'detailed', 'reply', 'supreme', 'court', 'rhea', 'chakraborty’s', 'petition', 'seeking', 'transfer', 'fir', 'filed', 'sushant', 'singh', 'rajput’s', 'father', 'kk', 'singh', 'patna', 'mumbai.', 'bihar', 'government', 'reply', 'claimed', 'bihar', 'police', 'jurisdiction', 'probe', 'case.', 'also', 'read', 'aditya', 'thackerays', 'name', 'crops', 'sushant', 'singh', 'rajput', 'death', 'case', 'rhea', 'chakrabortys', 'call', 'log', 'shows', 'au', 'dialled', 'multiple', 'times', 'bihar', 'government’s', 'submission', 'says', '“there', 'one', 'fir', 'case', 'filed', 'govt.', 'target', 'mumbai', 'police', 'sharing', 'document', 'copy', 'investigation', 'post-mortem', 'report.', 'mr.', 'vinay', 'tiwari', 'ips', 'reached', 'mumbai', 'bihar', 'quarantined', 'investigate', 'matter.on', 'hand', 'rhea’s', 'team', 'also', 'submitted', 'notes', 'top', 'court', 'claimed', 'bihar', 'govt.', 'acted', 'outside', 'jurisdiction.', 'team', 'rhea’s', 'submission', 'says', '“bihar', 'govt', 'can’t', 'transfer', 'probe', 'cbi”.', '5-page', 'submission', 'given', 'sc.submission', '1', 'instant', 'transfer', 'petition', 'maintainable', 'submission', '2', 'courts', 'bihar', 'exercise', 'lawful', 'jurisdiction', 'instinct', 'mattersubmission', '3', 'transfer', 'investigation', 'cbi', 'behest', 'bihar', 'police', 'wholly', 'without', 'jurisdictionsubmission', '4', 'fir', 'doesn’t', 'disclose', 'cognizable', 'offense”', 'second', 'hearing', 'rhea', 'said', 'mumbai', 'police’s', 'investigation', '‘free', 'fair’.', 'opposed', 'cbi', 'probe', 'case', 'supported', 'mumbai', 'police', 'maharashtra', 'government.', 'rhea', 'chakraborty', 'said', 'bihar', 'police', 'lodge', 'zero', 'fir.', 'lawyer', 'said', 'sushant', 'singh', 'rajput’s', 'father', 'using', 'influential', 'relatives', 'frame', 'rhea', 'chakraborty.']\n"
     ]
    }
   ],
   "source": [
    "doc2_=[]\n",
    "for i in doc2_final.split():\n",
    "    doc2_.append(i)\n",
    "print(doc2_)"
   ]
  },
  {
   "cell_type": "code",
   "execution_count": 16,
   "metadata": {},
   "outputs": [
    {
     "data": {
      "text/plain": [
       "{'widening': 145,\n",
       " 'probe': 96,\n",
       " 'money': 84,\n",
       " 'laundering': 76,\n",
       " 'angle': 16,\n",
       " 'death': 44,\n",
       " 'sushant': 131,\n",
       " 'singh': 119,\n",
       " 'rajput': 99,\n",
       " 'enforcement': 53,\n",
       " 'directorate': 47,\n",
       " 'ed': 52,\n",
       " 'summoned': 129,\n",
       " 'personal': 91,\n",
       " 'staff': 126,\n",
       " 'late': 75,\n",
       " 'bollywood': 28,\n",
       " 'actor': 10,\n",
       " 'according': 5,\n",
       " 'sources': 124,\n",
       " 'financial': 58,\n",
       " 'agency': 12,\n",
       " 'cook': 39,\n",
       " 'driver': 50,\n",
       " 'bodyguard': 27,\n",
       " 'questioning': 98,\n",
       " 'the': 133,\n",
       " 'said': 109,\n",
       " 'asked': 19,\n",
       " 'appear': 17,\n",
       " 'thursday': 135,\n",
       " 'wants': 142,\n",
       " 'know': 72,\n",
       " 'people': 90,\n",
       " 'visited': 141,\n",
       " 'last': 74,\n",
       " 'one': 88,\n",
       " 'yearâ': 148,\n",
       " 'who': 144,\n",
       " 'home': 67,\n",
       " 'meetings': 79,\n",
       " 'took': 137,\n",
       " 'place': 93,\n",
       " 'things': 134,\n",
       " 'discussed': 48,\n",
       " 'also': 15,\n",
       " 'ask': 18,\n",
       " 'saw': 112,\n",
       " 'body': 26,\n",
       " 'first': 60,\n",
       " 'behaviour': 24,\n",
       " 'rhea': 105,\n",
       " 'family': 55,\n",
       " 'members': 80,\n",
       " 'registered': 103,\n",
       " 'case': 31,\n",
       " 'july': 70,\n",
       " '31': 3,\n",
       " 'basis': 23,\n",
       " 'bihar': 25,\n",
       " 'police': 95,\n",
       " 'fir': 59,\n",
       " 'girlfriend': 64,\n",
       " 'chakraborty': 34,\n",
       " 'sushants': 132,\n",
       " 'father': 56,\n",
       " 'singhs': 120,\n",
       " 'complaint': 37,\n",
       " '25': 2,\n",
       " 'alleged': 14,\n",
       " 'transactions': 138,\n",
       " 'worth': 146,\n",
       " 'rs': 108,\n",
       " '15': 1,\n",
       " 'crore': 41,\n",
       " 'kotak': 73,\n",
       " 'mahindra': 77,\n",
       " 'bank': 22,\n",
       " 'account': 6,\n",
       " 'son': 122,\n",
       " 'unknown': 140,\n",
       " 'accounts': 8,\n",
       " 'till': 136,\n",
       " 'date': 42,\n",
       " 'recorded': 101,\n",
       " 'statement': 127,\n",
       " 'sister': 121,\n",
       " 'mitu': 82,\n",
       " 'resides': 104,\n",
       " 'mumbai': 85,\n",
       " 'indrajit': 69,\n",
       " 'brother': 29,\n",
       " 'showik': 116,\n",
       " 'ex': 54,\n",
       " 'manager': 78,\n",
       " 'rheas': 106,\n",
       " 'shruti': 117,\n",
       " 'modi': 83,\n",
       " 'house': 68,\n",
       " 'samuel': 110,\n",
       " 'miranda': 81,\n",
       " 'actors': 11,\n",
       " 'flatmate': 62,\n",
       " 'siddharth': 118,\n",
       " 'pithani': 92,\n",
       " 'chartered': 35,\n",
       " 'accountant': 7,\n",
       " 'sandeep': 111,\n",
       " 'sridhar': 125,\n",
       " 'ca': 30,\n",
       " 'ritesh': 107,\n",
       " 'shah': 115,\n",
       " 'connection': 38,\n",
       " 'source': 123,\n",
       " 'scrutinise': 113,\n",
       " 'documents': 49,\n",
       " 'collected': 36,\n",
       " 'others': 89,\n",
       " 'scrutinising': 114,\n",
       " 'decide': 45,\n",
       " 'whether': 143,\n",
       " 'summon': 128,\n",
       " 'named': 86,\n",
       " 'accused': 9,\n",
       " 'agencys': 13,\n",
       " 'ecir': 51,\n",
       " 'cbi': 32,\n",
       " 'august': 20,\n",
       " 'recommendation': 100,\n",
       " 'central': 33,\n",
       " 'government': 65,\n",
       " 'demanded': 46,\n",
       " '34': 4,\n",
       " 'year': 147,\n",
       " 'old': 87,\n",
       " 'purnea': 97,\n",
       " 'found': 63,\n",
       " 'dead': 43,\n",
       " 'bandra': 21,\n",
       " 'flat': 61,\n",
       " 'june': 71,\n",
       " '14': 0,\n",
       " 'supreme': 130,\n",
       " 'court': 40,\n",
       " 'hearing': 66,\n",
       " 'plea': 94,\n",
       " 'filed': 57,\n",
       " 'regarding': 102,\n",
       " 'transfer': 139}"
      ]
     },
     "execution_count": 16,
     "metadata": {},
     "output_type": "execute_result"
    }
   ],
   "source": [
    "vect1.vocabulary_"
   ]
  },
  {
   "cell_type": "code",
   "execution_count": 17,
   "metadata": {},
   "outputs": [],
   "source": [
    "c_new_vect = vect1.transform(doc2_)"
   ]
  },
  {
   "cell_type": "code",
   "execution_count": 18,
   "metadata": {},
   "outputs": [
    {
     "name": "stdout",
     "output_type": "stream",
     "text": [
      "Text Present at  [[0 0 0 ... 0 0 0]\n",
      " [0 0 0 ... 0 0 0]\n",
      " [0 0 0 ... 0 0 0]\n",
      " ...\n",
      " [0 0 0 ... 0 0 0]\n",
      " [0 0 0 ... 0 0 0]\n",
      " [0 0 0 ... 0 0 0]]\n"
     ]
    }
   ],
   "source": [
    "print (\"Text Present at \",c_new_vect.toarray())"
   ]
  },
  {
   "cell_type": "code",
   "execution_count": 19,
   "metadata": {},
   "outputs": [
    {
     "name": "stdout",
     "output_type": "stream",
     "text": [
      "original indexes ['14', '15', '25', '31', '34', 'according', 'account', 'accountant', 'accounts', 'accused', 'actor', 'actors', 'agency', 'agencys', 'alleged', 'also', 'angle', 'appear', 'ask', 'asked', 'august', 'bandra', 'bank', 'basis', 'behaviour', 'bihar', 'body', 'bodyguard', 'bollywood', 'brother', 'ca', 'case', 'cbi', 'central', 'chakraborty', 'chartered', 'collected', 'complaint', 'connection', 'cook', 'court', 'crore', 'date', 'dead', 'death', 'decide', 'demanded', 'directorate', 'discussed', 'documents', 'driver', 'ecir', 'ed', 'enforcement', 'ex', 'family', 'father', 'filed', 'financial', 'fir', 'first', 'flat', 'flatmate', 'found', 'girlfriend', 'government', 'hearing', 'home', 'house', 'indrajit', 'july', 'june', 'know', 'kotak', 'last', 'late', 'laundering', 'mahindra', 'manager', 'meetings', 'members', 'miranda', 'mitu', 'modi', 'money', 'mumbai', 'named', 'old', 'one', 'others', 'people', 'personal', 'pithani', 'place', 'plea', 'police', 'probe', 'purnea', 'questioning', 'rajput', 'recommendation', 'recorded', 'regarding', 'registered', 'resides', 'rhea', 'rheas', 'ritesh', 'rs', 'said', 'samuel', 'sandeep', 'saw', 'scrutinise', 'scrutinising', 'shah', 'showik', 'shruti', 'siddharth', 'singh', 'singhs', 'sister', 'son', 'source', 'sources', 'sridhar', 'staff', 'statement', 'summon', 'summoned', 'supreme', 'sushant', 'sushants', 'the', 'things', 'thursday', 'till', 'took', 'transactions', 'transfer', 'unknown', 'visited', 'wants', 'whether', 'who', 'widening', 'worth', 'year', 'yearâ']\n"
     ]
    }
   ],
   "source": [
    "print (\"original indexes\", vect1.get_feature_names() )"
   ]
  },
  {
   "cell_type": "code",
   "execution_count": 21,
   "metadata": {},
   "outputs": [],
   "source": [
    "document1=vect1.get_feature_names()"
   ]
  },
  {
   "cell_type": "code",
   "execution_count": 22,
   "metadata": {},
   "outputs": [
    {
     "data": {
      "text/plain": [
       "list"
      ]
     },
     "execution_count": 22,
     "metadata": {},
     "output_type": "execute_result"
    }
   ],
   "source": [
    "type(document1)"
   ]
  },
  {
   "cell_type": "code",
   "execution_count": 27,
   "metadata": {},
   "outputs": [
    {
     "data": {
      "text/plain": [
       "<248x137 sparse matrix of type '<class 'numpy.int64'>'\n",
       "\twith 247 stored elements in Compressed Sparse Row format>"
      ]
     },
     "execution_count": 27,
     "metadata": {},
     "output_type": "execute_result"
    }
   ],
   "source": [
    "vect2=CountVectorizer()\n",
    "vect2.fit_transform(doc2_)"
   ]
  },
  {
   "cell_type": "code",
   "execution_count": 28,
   "metadata": {},
   "outputs": [],
   "source": [
    "document2=vect2.get_feature_names()"
   ]
  },
  {
   "cell_type": "code",
   "execution_count": 30,
   "metadata": {},
   "outputs": [
    {
     "name": "stdout",
     "output_type": "stream",
     "text": [
      "['also', 'asked', 'august', 'bihar', 'case', 'cbi', 'chakraborty', 'court', 'death', 'family', 'father', 'filed', 'fir', 'government', 'hearing', 'mumbai', 'one', 'place', 'plea', 'police', 'probe', 'rajput', 'rhea', 'said', 'singh', 'supreme', 'sushant', 'thursday', 'took', 'transfer']\n",
      "30\n"
     ]
    }
   ],
   "source": [
    "similar_words=[]\n",
    "count=0\n",
    "for word in document1:\n",
    "    for word1 in document2:\n",
    "        if word==word1:\n",
    "            similar_words.append(word)\n",
    "            count+=1\n",
    "print(similar_words)\n",
    "print(count)"
   ]
  },
  {
   "cell_type": "code",
   "execution_count": null,
   "metadata": {},
   "outputs": [],
   "source": []
  }
 ],
 "metadata": {
  "kernelspec": {
   "display_name": "Python 3",
   "language": "python",
   "name": "python3"
  },
  "language_info": {
   "codemirror_mode": {
    "name": "ipython",
    "version": 3
   },
   "file_extension": ".py",
   "mimetype": "text/x-python",
   "name": "python",
   "nbconvert_exporter": "python",
   "pygments_lexer": "ipython3",
   "version": "3.7.3"
  }
 },
 "nbformat": 4,
 "nbformat_minor": 4
}
