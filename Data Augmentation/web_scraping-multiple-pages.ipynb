{
 "cells": [
  {
   "cell_type": "code",
   "execution_count": 1,
   "metadata": {},
   "outputs": [],
   "source": [
    "from selenium import webdriver\n",
    "import os"
   ]
  },
  {
   "cell_type": "code",
   "execution_count": 9,
   "metadata": {},
   "outputs": [],
   "source": [
    "driver=webdriver.Chrome(executable_path='chromedriver.exe')"
   ]
  },
  {
   "cell_type": "code",
   "execution_count": 10,
   "metadata": {},
   "outputs": [],
   "source": [
    "my_pages=driver.get('https://www.flipkart.com/search?q=trouser&sid=clo%2Cvua%2Cmle%2Clhk&as=on&as-show=on&otracker=AS_QueryStore_HistoryAutoSuggest_1_2_na_na_na&otracker1=AS_QueryStore_HistoryAutoSuggest_1_2_na_na_na&as-pos=1&as-type=HISTORY&suggestionId=trouser%7CMen%27s+Trousers&requestId=1e5e8e70-9f64-4867-a927-9f62fed0417d&as-searchtext=tr')"
   ]
  },
  {
   "cell_type": "code",
   "execution_count": 11,
   "metadata": {},
   "outputs": [],
   "source": [
    "def make_dir(dirname):\n",
    "    current_path=os.getcwd()\n",
    "    path=os.path.join(current_path,dirname)\n",
    "    if not os.path.exists(path):\n",
    "        os.makedirs(path)"
   ]
  },
  {
   "cell_type": "code",
   "execution_count": 12,
   "metadata": {},
   "outputs": [],
   "source": [
    "make_dir('Flipkart_trouser')"
   ]
  },
  {
   "cell_type": "code",
   "execution_count": 6,
   "metadata": {},
   "outputs": [],
   "source": [
    "import shutil\n",
    "import requests"
   ]
  },
  {
   "cell_type": "code",
   "execution_count": 13,
   "metadata": {},
   "outputs": [
    {
     "name": "stdout",
     "output_type": "stream",
     "text": [
      "Downloading 1 of 120 images\n",
      "Downloading 2 of 120 images\n",
      "Downloading 3 of 120 images\n",
      "Downloading 4 of 120 images\n",
      "Downloading 5 of 120 images\n",
      "Downloading 6 of 120 images\n",
      "Downloading 7 of 120 images\n",
      "Downloading 8 of 120 images\n",
      "Downloading 9 of 120 images\n",
      "Downloading 10 of 120 images\n",
      "Downloading 11 of 120 images\n",
      "Downloading 12 of 120 images\n",
      "Downloading 13 of 120 images\n",
      "Downloading 14 of 120 images\n",
      "Downloading 15 of 120 images\n",
      "Downloading 16 of 120 images\n",
      "Downloading 17 of 120 images\n",
      "Downloading 18 of 120 images\n",
      "Downloading 19 of 120 images\n",
      "Downloading 20 of 120 images\n",
      "Downloading 21 of 120 images\n",
      "Downloading 22 of 120 images\n",
      "Downloading 23 of 120 images\n",
      "Downloading 24 of 120 images\n",
      "Downloading 25 of 120 images\n",
      "Downloading 26 of 120 images\n",
      "Downloading 27 of 120 images\n",
      "Downloading 28 of 120 images\n",
      "Downloading 29 of 120 images\n",
      "Downloading 30 of 120 images\n",
      "Downloading 31 of 120 images\n",
      "Downloading 32 of 120 images\n",
      "Downloading 33 of 120 images\n",
      "Downloading 34 of 120 images\n",
      "Downloading 35 of 120 images\n",
      "Downloading 36 of 120 images\n",
      "Downloading 37 of 120 images\n",
      "Downloading 38 of 120 images\n",
      "Downloading 39 of 120 images\n",
      "Downloading 40 of 120 images\n",
      "Downloading 41 of 120 images\n",
      "Downloading 42 of 120 images\n",
      "Downloading 43 of 120 images\n",
      "Downloading 44 of 120 images\n",
      "Downloading 45 of 120 images\n",
      "Downloading 46 of 120 images\n",
      "Downloading 47 of 120 images\n",
      "Downloading 48 of 120 images\n",
      "Downloading 49 of 120 images\n",
      "Downloading 50 of 120 images\n",
      "Downloading 51 of 120 images\n",
      "Downloading 52 of 120 images\n",
      "Downloading 53 of 120 images\n",
      "Downloading 54 of 120 images\n",
      "Downloading 55 of 120 images\n",
      "Downloading 56 of 120 images\n",
      "Downloading 57 of 120 images\n",
      "Downloading 58 of 120 images\n",
      "Downloading 59 of 120 images\n",
      "Downloading 60 of 120 images\n",
      "Downloading 61 of 120 images\n",
      "Downloading 62 of 120 images\n",
      "Downloading 63 of 120 images\n",
      "Downloading 64 of 120 images\n",
      "Downloading 65 of 120 images\n",
      "Downloading 66 of 120 images\n",
      "Downloading 67 of 120 images\n",
      "Downloading 68 of 120 images\n",
      "Downloading 69 of 120 images\n",
      "Downloading 70 of 120 images\n",
      "Downloading 71 of 120 images\n",
      "Downloading 72 of 120 images\n",
      "Downloading 73 of 120 images\n",
      "Downloading 74 of 120 images\n",
      "Downloading 75 of 120 images\n",
      "Downloading 76 of 120 images\n",
      "Downloading 77 of 120 images\n",
      "Downloading 78 of 120 images\n",
      "Downloading 79 of 120 images\n",
      "Downloading 80 of 120 images\n",
      "Downloading 81 of 120 images\n",
      "Downloading 82 of 120 images\n",
      "Downloading 83 of 120 images\n",
      "Downloading 84 of 120 images\n",
      "Downloading 85 of 120 images\n",
      "Downloading 86 of 120 images\n",
      "Downloading 87 of 120 images\n",
      "Downloading 88 of 120 images\n",
      "Downloading 89 of 120 images\n",
      "Downloading 90 of 120 images\n",
      "Downloading 91 of 120 images\n",
      "Downloading 92 of 120 images\n",
      "Downloading 93 of 120 images\n",
      "Downloading 94 of 120 images\n",
      "Downloading 95 of 120 images\n",
      "Downloading 96 of 120 images\n",
      "Downloading 97 of 120 images\n",
      "Downloading 98 of 120 images\n",
      "Downloading 99 of 120 images\n",
      "Downloading 100 of 120 images\n",
      "Downloading 101 of 120 images\n",
      "Downloading 102 of 120 images\n",
      "Downloading 103 of 120 images\n",
      "Downloading 104 of 120 images\n",
      "Downloading 105 of 120 images\n",
      "Downloading 106 of 120 images\n",
      "Downloading 107 of 120 images\n",
      "Downloading 108 of 120 images\n",
      "Downloading 109 of 120 images\n",
      "Downloading 110 of 120 images\n",
      "Downloading 111 of 120 images\n",
      "Downloading 112 of 120 images\n",
      "Downloading 113 of 120 images\n",
      "Downloading 114 of 120 images\n",
      "Downloading 115 of 120 images\n",
      "Downloading 116 of 120 images\n",
      "Downloading 117 of 120 images\n",
      "Downloading 118 of 120 images\n",
      "Downloading 119 of 120 images\n",
      "Downloading 120 of 120 images\n"
     ]
    }
   ],
   "source": [
    "urls=[]\n",
    "for i in range(1,4):\n",
    "    page_num=str(i)\n",
    "    url='https://www.flipkart.com/search?q=trouser&sid=clo%2Cvua%2Cmle%2Clhk&as=on&as-show=on&otracker=AS_QueryStore_HistoryAutoSuggest_1_2_na_na_na&otracker1=AS_QueryStore_HistoryAutoSuggest_1_2_na_na_na&as-pos=1&as-type=HISTORY&suggestionId=trouser%7CMen%27s+Trousers&requestId=1e5e8e70-9f64-4867-a927-9f62fed0417d&as-searchtext=tr&page=1'+ page_num\n",
    "    #print(url)\n",
    "    driver.get(url)\n",
    "    images=driver.find_elements_by_xpath('//img[@class=\"_3togXc\"]')\n",
    "    #print(images)\n",
    "    for image in images:\n",
    "        source=image.get_attribute('src')\n",
    "        urls.append(source)\n",
    "        #print(urls)\n",
    "for index,link in enumerate(urls):\n",
    "        print('Downloading {0} of {1} images'.format(index+1,len(urls)))\n",
    "        response=requests.get(link)\n",
    "        with open('Flipkart_trouser/img_{0}.jpg'.format(index+1),'wb') as file:\n",
    "                file.write(response.content)\n",
    "driver.close()\n"
   ]
  },
  {
   "cell_type": "code",
   "execution_count": null,
   "metadata": {},
   "outputs": [],
   "source": []
  }
 ],
 "metadata": {
  "kernelspec": {
   "display_name": "Python 3",
   "language": "python",
   "name": "python3"
  },
  "language_info": {
   "codemirror_mode": {
    "name": "ipython",
    "version": 3
   },
   "file_extension": ".py",
   "mimetype": "text/x-python",
   "name": "python",
   "nbconvert_exporter": "python",
   "pygments_lexer": "ipython3",
   "version": "3.7.3"
  }
 },
 "nbformat": 4,
 "nbformat_minor": 2
}
