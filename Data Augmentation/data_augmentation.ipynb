{
 "cells": [
  {
   "cell_type": "code",
   "execution_count": 1,
   "metadata": {},
   "outputs": [],
   "source": [
    "import cv2\n",
    "import numpy as np\n",
    "import os"
   ]
  },
  {
   "cell_type": "code",
   "execution_count": 2,
   "metadata": {},
   "outputs": [],
   "source": [
    "def make_dir(dirname):\n",
    "    current_path=os.getcwd()\n",
    "    path=os.path.join(current_path,dirname)\n",
    "    if not os.path.exists(path):\n",
    "        os.makedirs(path)"
   ]
  },
  {
   "cell_type": "code",
   "execution_count": 8,
   "metadata": {},
   "outputs": [],
   "source": [
    "make_dir('trouser_rot{30}')\n",
    "\n"
   ]
  },
  {
   "cell_type": "code",
   "execution_count": 9,
   "metadata": {},
   "outputs": [],
   "source": [
    "directory='C:/Users/Akshay-Laptop/python projects/trouser_rot{30}'\n",
    "os.chdir(directory)"
   ]
  },
  {
   "cell_type": "code",
   "execution_count": 7,
   "metadata": {},
   "outputs": [],
   "source": [
    "for i in range(1,101):\n",
    "    path=r'C:/Users/Akshay-Laptop/python projects/Flipkart_trouser/img_{}.jpg'.format(i)\n",
    "    img=cv2.imread(path)\n",
    "    height,width=img.shape[:2]\n",
    "    rotation_mat=cv2.getRotationMatrix2D((width/2,height/2),-30,1)\n",
    "    rotated_img=cv2.warpAffine(img,rotation_mat,(width,height))\n",
    "    cv2.imwrite('trouser_30_{}.jpg'.format(i),rotated_img)\n",
    "  "
   ]
  },
  {
   "cell_type": "code",
   "execution_count": 10,
   "metadata": {},
   "outputs": [],
   "source": [
    "for i in range(1,101):\n",
    "    path=r'C:/Users/Akshay-Laptop/python projects/Flipkart_trouser/img_{}.jpg'.format(i)\n",
    "    img=cv2.imread(path)\n",
    "    height,width=img.shape[:2]\n",
    "    rotation_mat=cv2.getRotationMatrix2D((width/2,height/2),30,1)\n",
    "    rotated_img=cv2.warpAffine(img,rotation_mat,(width,height))\n",
    "    cv2.imwrite('trouser30_{}.jpg'.format(i),rotated_img)\n",
    "  "
   ]
  },
  {
   "cell_type": "code",
   "execution_count": 11,
   "metadata": {},
   "outputs": [],
   "source": [
    "def increase_brightness(img, value=30):\n",
    "    hsv = cv2.cvtColor(img, cv2.COLOR_BGR2HSV)\n",
    "    h, s, v = cv2.split(hsv)\n",
    "\n",
    "    lim = 255 - value\n",
    "    v[v > lim] = 255\n",
    "    v[v <= lim] += value\n",
    "\n",
    "    final_hsv = cv2.merge((h, s, v))\n",
    "    img = cv2.cvtColor(final_hsv, cv2.COLOR_HSV2BGR)\n",
    "    return img"
   ]
  },
  {
   "cell_type": "code",
   "execution_count": 16,
   "metadata": {},
   "outputs": [],
   "source": [
    "path=r'C:/Users/Akshay-Laptop/python projects/Flipkart_trouser/img_4.jpg'\n",
    "img=cv2.imread(path)\n",
    "frame = increase_brightness(img, value=30)"
   ]
  },
  {
   "cell_type": "code",
   "execution_count": 17,
   "metadata": {},
   "outputs": [
    {
     "data": {
      "text/plain": [
       "array([[[152, 146, 147],\n",
       "        [152, 146, 147],\n",
       "        [152, 146, 147],\n",
       "        ...,\n",
       "        [140, 133, 135],\n",
       "        [140, 133, 135],\n",
       "        [140, 133, 135]],\n",
       "\n",
       "       [[152, 146, 147],\n",
       "        [152, 146, 147],\n",
       "        [152, 146, 147],\n",
       "        ...,\n",
       "        [140, 133, 135],\n",
       "        [140, 133, 135],\n",
       "        [140, 133, 135]],\n",
       "\n",
       "       [[152, 146, 147],\n",
       "        [152, 146, 147],\n",
       "        [152, 146, 147],\n",
       "        ...,\n",
       "        [140, 133, 135],\n",
       "        [140, 133, 135],\n",
       "        [140, 133, 135]],\n",
       "\n",
       "       ...,\n",
       "\n",
       "       [[182, 176, 177],\n",
       "        [182, 176, 177],\n",
       "        [182, 176, 177],\n",
       "        ...,\n",
       "        [192, 186, 187],\n",
       "        [192, 186, 187],\n",
       "        [192, 186, 187]],\n",
       "\n",
       "       [[182, 176, 177],\n",
       "        [182, 176, 177],\n",
       "        [182, 176, 177],\n",
       "        ...,\n",
       "        [192, 186, 187],\n",
       "        [192, 186, 187],\n",
       "        [192, 186, 187]],\n",
       "\n",
       "       [[182, 176, 177],\n",
       "        [182, 176, 177],\n",
       "        [182, 176, 177],\n",
       "        ...,\n",
       "        [192, 186, 187],\n",
       "        [192, 186, 187],\n",
       "        [192, 186, 187]]], dtype=uint8)"
      ]
     },
     "execution_count": 17,
     "metadata": {},
     "output_type": "execute_result"
    }
   ],
   "source": [
    "frame"
   ]
  },
  {
   "cell_type": "code",
   "execution_count": 20,
   "metadata": {},
   "outputs": [],
   "source": [
    "cv2.imshow('image',frame)\n",
    "cv2.waitKey()\n",
    "cv2.destroyAllWindows()"
   ]
  },
  {
   "cell_type": "code",
   "execution_count": 19,
   "metadata": {},
   "outputs": [
    {
     "data": {
      "text/plain": [
       "array([[[122, 117, 118],\n",
       "        [122, 117, 118],\n",
       "        [122, 117, 118],\n",
       "        ...,\n",
       "        [110, 105, 106],\n",
       "        [110, 105, 106],\n",
       "        [110, 105, 106]],\n",
       "\n",
       "       [[122, 117, 118],\n",
       "        [122, 117, 118],\n",
       "        [122, 117, 118],\n",
       "        ...,\n",
       "        [110, 105, 106],\n",
       "        [110, 105, 106],\n",
       "        [110, 105, 106]],\n",
       "\n",
       "       [[122, 117, 118],\n",
       "        [122, 117, 118],\n",
       "        [122, 117, 118],\n",
       "        ...,\n",
       "        [110, 105, 106],\n",
       "        [110, 105, 106],\n",
       "        [110, 105, 106]],\n",
       "\n",
       "       ...,\n",
       "\n",
       "       [[152, 147, 148],\n",
       "        [152, 147, 148],\n",
       "        [152, 147, 148],\n",
       "        ...,\n",
       "        [162, 157, 158],\n",
       "        [162, 157, 158],\n",
       "        [162, 157, 158]],\n",
       "\n",
       "       [[152, 147, 148],\n",
       "        [152, 147, 148],\n",
       "        [152, 147, 148],\n",
       "        ...,\n",
       "        [162, 157, 158],\n",
       "        [162, 157, 158],\n",
       "        [162, 157, 158]],\n",
       "\n",
       "       [[152, 147, 148],\n",
       "        [152, 147, 148],\n",
       "        [152, 147, 148],\n",
       "        ...,\n",
       "        [162, 157, 158],\n",
       "        [162, 157, 158],\n",
       "        [162, 157, 158]]], dtype=uint8)"
      ]
     },
     "execution_count": 19,
     "metadata": {},
     "output_type": "execute_result"
    }
   ],
   "source": [
    "img"
   ]
  },
  {
   "cell_type": "code",
   "execution_count": 12,
   "metadata": {},
   "outputs": [],
   "source": [
    "def decrease_brightness(img, value=30):\n",
    "    hsv = cv2.cvtColor(img, cv2.COLOR_BGR2HSV)\n",
    "    h, s, v = cv2.split(hsv)\n",
    "\n",
    "    lim = 255 - value\n",
    "    v[v > lim] = 255\n",
    "    v[v <= lim] -= value\n",
    "\n",
    "    final_hsv = cv2.merge((h, s, v))\n",
    "    img = cv2.cvtColor(final_hsv, cv2.COLOR_HSV2BGR)\n",
    "    return img"
   ]
  },
  {
   "cell_type": "code",
   "execution_count": 13,
   "metadata": {},
   "outputs": [],
   "source": [
    "path=r'C:/Users/Akshay-Laptop/python projects/Flipkart_jeans/img_4.jpg'\n",
    "img=cv2.imread(path)\n",
    "frame = decrease_brightness(img, value=20)"
   ]
  },
  {
   "cell_type": "code",
   "execution_count": 15,
   "metadata": {},
   "outputs": [
    {
     "data": {
      "text/plain": [
       "array([[[102,  98,  99],\n",
       "        [102,  98,  99],\n",
       "        [102,  98,  99],\n",
       "        ...,\n",
       "        [ 90,  86,  87],\n",
       "        [ 90,  86,  87],\n",
       "        [ 90,  86,  87]],\n",
       "\n",
       "       [[102,  98,  99],\n",
       "        [102,  98,  99],\n",
       "        [102,  98,  99],\n",
       "        ...,\n",
       "        [ 90,  86,  87],\n",
       "        [ 90,  86,  87],\n",
       "        [ 90,  86,  87]],\n",
       "\n",
       "       [[102,  98,  99],\n",
       "        [102,  98,  99],\n",
       "        [102,  98,  99],\n",
       "        ...,\n",
       "        [ 90,  86,  87],\n",
       "        [ 90,  86,  87],\n",
       "        [ 90,  86,  87]],\n",
       "\n",
       "       ...,\n",
       "\n",
       "       [[132, 128, 129],\n",
       "        [132, 128, 129],\n",
       "        [132, 128, 129],\n",
       "        ...,\n",
       "        [142, 138, 138],\n",
       "        [142, 138, 138],\n",
       "        [142, 138, 138]],\n",
       "\n",
       "       [[132, 128, 129],\n",
       "        [132, 128, 129],\n",
       "        [132, 128, 129],\n",
       "        ...,\n",
       "        [142, 138, 138],\n",
       "        [142, 138, 138],\n",
       "        [142, 138, 138]],\n",
       "\n",
       "       [[132, 128, 129],\n",
       "        [132, 128, 129],\n",
       "        [132, 128, 129],\n",
       "        ...,\n",
       "        [142, 138, 138],\n",
       "        [142, 138, 138],\n",
       "        [142, 138, 138]]], dtype=uint8)"
      ]
     },
     "execution_count": 15,
     "metadata": {},
     "output_type": "execute_result"
    }
   ],
   "source": [
    "frame"
   ]
  },
  {
   "cell_type": "code",
   "execution_count": 14,
   "metadata": {},
   "outputs": [],
   "source": [
    "cv2.imshow('image',frame)\n",
    "cv2.waitKey()\n",
    "cv2.destroyAllWindows()"
   ]
  },
  {
   "cell_type": "code",
   "execution_count": 13,
   "metadata": {},
   "outputs": [],
   "source": [
    "make_dir('trous_brigh_in')\n"
   ]
  },
  {
   "cell_type": "code",
   "execution_count": 14,
   "metadata": {},
   "outputs": [],
   "source": [
    "directory='C:/Users/Akshay-Laptop/python projects/trous_brigh_in'\n",
    "os.chdir(directory)"
   ]
  },
  {
   "cell_type": "code",
   "execution_count": 15,
   "metadata": {},
   "outputs": [],
   "source": [
    "for i in range(1,101):\n",
    "    path=r'C:/Users/Akshay-Laptop/python projects/Flipkart_trouser/img_{}.jpg'.format(i)\n",
    "    img=cv2.imread(path)\n",
    "    frame = increase_brightness(img, value=30)\n",
    "    cv2.imwrite('Bright_inc_t{}.jpg'.format(i),frame)\n",
    "  "
   ]
  },
  {
   "cell_type": "code",
   "execution_count": 17,
   "metadata": {},
   "outputs": [],
   "source": [
    "make_dir('trous_brigh_dec')"
   ]
  },
  {
   "cell_type": "code",
   "execution_count": 19,
   "metadata": {},
   "outputs": [],
   "source": [
    "directory='C:/Users/Akshay-Laptop/python projects/trous_brigh_dec'\n",
    "os.chdir(directory)"
   ]
  },
  {
   "cell_type": "code",
   "execution_count": 20,
   "metadata": {},
   "outputs": [],
   "source": [
    "for i in range(1,101):\n",
    "    path=r'C:/Users/Akshay-Laptop/python projects/Flipkart_trouser/img_{}.jpg'.format(i)\n",
    "    img=cv2.imread(path)\n",
    "    frame = decrease_brightness(img, value=20)\n",
    "    cv2.imwrite('Bright_dec_t{}.jpg'.format(i),frame)\n",
    "  "
   ]
  },
  {
   "cell_type": "code",
   "execution_count": 21,
   "metadata": {},
   "outputs": [],
   "source": [
    "make_dir('trous_flip')"
   ]
  },
  {
   "cell_type": "code",
   "execution_count": 22,
   "metadata": {},
   "outputs": [],
   "source": [
    "directory='C:/Users/Akshay-Laptop/python projects/trous_flip'\n",
    "os.chdir(directory)"
   ]
  },
  {
   "cell_type": "code",
   "execution_count": 23,
   "metadata": {},
   "outputs": [],
   "source": [
    "for i in range(1,101):\n",
    "    path=r'C:/Users/Akshay-Laptop/python projects/Flipkart_trouser/img_{}.jpg'.format(i)\n",
    "    img=cv2.imread(path)\n",
    "    frame = cv2.flip(img,1)\n",
    "    cv2.imwrite('flip_t{}.jpg'.format(i),frame)\n",
    "  "
   ]
  },
  {
   "cell_type": "code",
   "execution_count": 24,
   "metadata": {},
   "outputs": [],
   "source": [
    "make_dir('trous_sharpened')"
   ]
  },
  {
   "cell_type": "code",
   "execution_count": 26,
   "metadata": {},
   "outputs": [],
   "source": [
    "directory='C:/Users/Akshay-Laptop/python projects/trous_sharpened'\n",
    "os.chdir(directory)"
   ]
  },
  {
   "cell_type": "code",
   "execution_count": 27,
   "metadata": {},
   "outputs": [],
   "source": [
    "for i in range(1,101):\n",
    "    path=r'C:/Users/Akshay-Laptop/python projects/Flipkart_trouser/img_{}.jpg'.format(i)\n",
    "    img=cv2.imread(path)\n",
    "    kernel_sharpening=np.array([[-1,-1,-1],\n",
    "                               [-1,10,-1],\n",
    "                               [-1,-1,-1]])\n",
    "    sharpened=cv2.filter2D(img,-1,kernel_sharpening)\n",
    "    \n",
    "    cv2.imwrite('sharpen_t{}.jpg'.format(i),sharpened)\n",
    "  "
   ]
  },
  {
   "cell_type": "code",
   "execution_count": null,
   "metadata": {},
   "outputs": [],
   "source": []
  }
 ],
 "metadata": {
  "kernelspec": {
   "display_name": "Python 3",
   "language": "python",
   "name": "python3"
  },
  "language_info": {
   "codemirror_mode": {
    "name": "ipython",
    "version": 3
   },
   "file_extension": ".py",
   "mimetype": "text/x-python",
   "name": "python",
   "nbconvert_exporter": "python",
   "pygments_lexer": "ipython3",
   "version": "3.7.3"
  }
 },
 "nbformat": 4,
 "nbformat_minor": 2
}
